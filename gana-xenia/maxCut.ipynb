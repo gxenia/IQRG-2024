{
 "cells": [
  {
   "cell_type": "markdown",
   "metadata": {},
   "source": [
    "# QAOA for solving the MaxCut problem"
   ]
  },
  {
   "cell_type": "markdown",
   "metadata": {},
   "source": [
    "Project realised for the \"Introduction to Quantum Research for Girls 2024\" program organized by Physics Beyond and Girls In Quantum.\n",
    "\n",
    "- Project name: Optimization problem for QAOA\n",
    "- Group members: Gana Gangadharan, Gabriella Xenia Talarico\n",
    "- Mentor: Vanessa Dehn, Fraunhofer IAF"
   ]
  },
  {
   "cell_type": "markdown",
   "metadata": {},
   "source": [
    "### Introduction\n",
    "\n",
    "The MaxCut problem is a Combinatorial Optimization problem (CO) which can be also expressed as a QUBO problem (Quadratic Unconstrained Optimization Problem). Thus, it can be tackled by a quantum computer due to the fact that its QUBO expression can be translated to a cost hamiltonian $H_c$. The ground state of the hamiltonian, which corresponds to the solution of the instance QUBO problem, can be found using the QAOA algorithm. "
   ]
  },
  {
   "cell_type": "markdown",
   "metadata": {},
   "source": [
    "##### Graph theory and MaxCut\n",
    "\n",
    "To define the MaxCut problem we should be familiar with the concept of a graph. A graph G(V, E) is a mathematical structure comprising a set of vertices V and a set of edges E, which can also be seen as unordered paris of vertices. Let's create a graph using the NetworkX library. NetworkX is a Python package for the creation, manipulation, and study of the structure, dynamics, and functions of complex networks."
   ]
  },
  {
   "cell_type": "code",
   "execution_count": 56,
   "metadata": {},
   "outputs": [
    {
     "name": "stdout",
     "output_type": "stream",
     "text": [
      "Requirement already satisfied: networkx in c:\\users\\gxeni\\cwq\\envs\\myqenv\\lib\\site-packages (3.2.1)\n"
     ]
    }
   ],
   "source": [
    "!pip install networkx"
   ]
  },
  {
   "cell_type": "markdown",
   "metadata": {},
   "source": [
    "First, we create our graph structure."
   ]
  },
  {
   "cell_type": "code",
   "execution_count": 2,
   "metadata": {},
   "outputs": [],
   "source": [
    "import networkx as nx\n",
    "\n",
    "# Create the graph object and add nodes\n",
    "G = nx.Graph()\n",
    "G.add_nodes_from([0, 1, 2, 3, 4, 5])\n",
    "\n",
    "# Define the edges with weights and add them to the graph\n",
    "edge_list = [(0, 1, 1.0), (0, 2, 1.0), (1, 3, 1.0), (2, 3, 1.0), (3, 4, 1.0), (4, 5, 1.0)]\n",
    "G.add_weighted_edges_from(edge_list)\n",
    "\n",
    "# Let's define the global variable which will store the number of nodes\n",
    "N_QUBITS = G.size()"
   ]
  },
  {
   "cell_type": "code",
   "execution_count": 3,
   "metadata": {},
   "outputs": [],
   "source": [
    "def draw_graph(G):    \n",
    "    nx.draw(G, with_labels=True, alpha=0.8, node_size=500)"
   ]
  },
  {
   "cell_type": "code",
   "execution_count": 4,
   "metadata": {},
   "outputs": [],
   "source": [
    "def draw_coloured_graph(G, colors):    \n",
    "    nx.draw(G, with_labels=True, node_color=colors, alpha=0.8, node_size=500)"
   ]
  },
  {
   "cell_type": "code",
   "execution_count": 5,
   "metadata": {},
   "outputs": [
    {
     "data": {
      "image/png": "[encoded data removed]",
      "text/plain": [
       "<Figure size 640x480 with 1 Axes>"
      ]
     },
     "metadata": {},
     "output_type": "display_data"
    }
   ],
   "source": [
    "draw_graph(G)"
   ]
  },
  {
   "cell_type": "markdown",
   "metadata": {},
   "source": [
    "In the Max-Cut problem we want to divide the nodes into two sets, such that the number of edges in between is maximum."
   ]
  },
  {
   "cell_type": "markdown",
   "metadata": {},
   "source": [
    "<img src=\"images/graph_maxcut.png\" alt=\"Our example graph\" width=\"700\"/>"
   ]
  },
  {
   "cell_type": "markdown",
   "metadata": {},
   "source": [
    "\n",
    "In the example above we have three examples of partitioning the nodes of the graph into two sets, \"light-blue\" (0) and \"purple\" (1).\n",
    "\n",
    "For 2 nodes, as each node can be assigned to either the \"light-blue\" or \"purple\" sets, there are $2^6 = 64$ possible assignments, out of which we have to find one that gives maximum number of edges between the sets. To solve the problem in a classical manner we should use an exhaustion algorithm which tries all the possible assignments.\n"
   ]
  },
  {
   "cell_type": "markdown",
   "metadata": {},
   "source": [
    "### Bruteforce : the classical solution"
   ]
  },
  {
   "cell_type": "code",
   "execution_count": 61,
   "metadata": {},
   "outputs": [
    {
     "name": "stdout",
     "output_type": "stream",
     "text": [
      "Requirement already satisfied: numpy in c:\\users\\gxeni\\cwq\\envs\\myqenv\\lib\\site-packages (1.26.4)\n"
     ]
    }
   ],
   "source": [
    "!pip install numpy"
   ]
  },
  {
   "cell_type": "code",
   "execution_count": 6,
   "metadata": {},
   "outputs": [
    {
     "name": "stdout",
     "output_type": "stream",
     "text": [
      "[[0. 1. 1. 0. 0. 0.]\n",
      " [1. 0. 0. 1. 0. 0.]\n",
      " [1. 0. 0. 1. 0. 0.]\n",
      " [0. 1. 1. 0. 1. 0.]\n",
      " [0. 0. 0. 1. 0. 1.]\n",
      " [0. 0. 0. 0. 1. 0.]]\n"
     ]
    }
   ],
   "source": [
    "import numpy as np\n",
    "\n",
    "# Computing the weight matrix from the random graph\n",
    "n = N_QUBITS\n",
    "w = np.zeros([n, n])\n",
    "\n",
    "for i in range(n):\n",
    "    for j in range(n):\n",
    "        temp = G.get_edge_data(i, j, default=0)\n",
    "        if temp != 0:\n",
    "            w[i, j] = temp[\"weight\"]\n",
    "print(w)"
   ]
  },
  {
   "cell_type": "markdown",
   "metadata": {},
   "source": [
    "The weight matrix that we got represents the edges of the graph"
   ]
  },
  {
   "cell_type": "markdown",
   "metadata": {},
   "source": [
    "<img src=\"images/weight_matrix.png\" alt=\"Weight Matrix\" width=\"600\"/>"
   ]
  },
  {
   "cell_type": "code",
   "execution_count": 7,
   "metadata": {},
   "outputs": [
    {
     "name": "stdout",
     "output_type": "stream",
     "text": [
      "case = [0, 0, 0, 0, 0, 0] cost = 0.0\n",
      "case = [1, 0, 0, 0, 0, 0] cost = 2.0\n",
      "case = [0, 1, 0, 0, 0, 0] cost = 2.0\n",
      "case = [1, 1, 0, 0, 0, 0] cost = 2.0\n",
      "case = [0, 0, 1, 0, 0, 0] cost = 2.0\n",
      "case = [1, 0, 1, 0, 0, 0] cost = 2.0\n",
      "case = [0, 1, 1, 0, 0, 0] cost = 4.0\n",
      "case = [1, 1, 1, 0, 0, 0] cost = 2.0\n",
      "case = [0, 0, 0, 1, 0, 0] cost = 3.0\n",
      "case = [1, 0, 0, 1, 0, 0] cost = 5.0\n",
      "case = [0, 1, 0, 1, 0, 0] cost = 3.0\n",
      "case = [1, 1, 0, 1, 0, 0] cost = 3.0\n",
      "case = [0, 0, 1, 1, 0, 0] cost = 3.0\n",
      "case = [1, 0, 1, 1, 0, 0] cost = 3.0\n",
      "case = [0, 1, 1, 1, 0, 0] cost = 3.0\n",
      "case = [1, 1, 1, 1, 0, 0] cost = 1.0\n",
      "case = [0, 0, 0, 0, 1, 0] cost = 2.0\n",
      "case = [1, 0, 0, 0, 1, 0] cost = 4.0\n",
      "case = [0, 1, 0, 0, 1, 0] cost = 4.0\n",
      "case = [1, 1, 0, 0, 1, 0] cost = 4.0\n",
      "case = [0, 0, 1, 0, 1, 0] cost = 4.0\n",
      "case = [1, 0, 1, 0, 1, 0] cost = 4.0\n",
      "case = [0, 1, 1, 0, 1, 0] cost = 6.0\n",
      "case = [1, 1, 1, 0, 1, 0] cost = 4.0\n",
      "case = [0, 0, 0, 1, 1, 0] cost = 3.0\n",
      "case = [1, 0, 0, 1, 1, 0] cost = 5.0\n",
      "case = [0, 1, 0, 1, 1, 0] cost = 3.0\n",
      "case = [1, 1, 0, 1, 1, 0] cost = 3.0\n",
      "case = [0, 0, 1, 1, 1, 0] cost = 3.0\n",
      "case = [1, 0, 1, 1, 1, 0] cost = 3.0\n",
      "case = [0, 1, 1, 1, 1, 0] cost = 3.0\n",
      "case = [1, 1, 1, 1, 1, 0] cost = 1.0\n",
      "case = [0, 0, 0, 0, 0, 1] cost = 1.0\n",
      "case = [1, 0, 0, 0, 0, 1] cost = 3.0\n",
      "case = [0, 1, 0, 0, 0, 1] cost = 3.0\n",
      "case = [1, 1, 0, 0, 0, 1] cost = 3.0\n",
      "case = [0, 0, 1, 0, 0, 1] cost = 3.0\n",
      "case = [1, 0, 1, 0, 0, 1] cost = 3.0\n",
      "case = [0, 1, 1, 0, 0, 1] cost = 5.0\n",
      "case = [1, 1, 1, 0, 0, 1] cost = 3.0\n",
      "case = [0, 0, 0, 1, 0, 1] cost = 4.0\n",
      "case = [1, 0, 0, 1, 0, 1] cost = 6.0\n",
      "case = [0, 1, 0, 1, 0, 1] cost = 4.0\n",
      "case = [1, 1, 0, 1, 0, 1] cost = 4.0\n",
      "case = [0, 0, 1, 1, 0, 1] cost = 4.0\n",
      "case = [1, 0, 1, 1, 0, 1] cost = 4.0\n",
      "case = [0, 1, 1, 1, 0, 1] cost = 4.0\n",
      "case = [1, 1, 1, 1, 0, 1] cost = 2.0\n",
      "case = [0, 0, 0, 0, 1, 1] cost = 1.0\n",
      "case = [1, 0, 0, 0, 1, 1] cost = 3.0\n",
      "case = [0, 1, 0, 0, 1, 1] cost = 3.0\n",
      "case = [1, 1, 0, 0, 1, 1] cost = 3.0\n",
      "case = [0, 0, 1, 0, 1, 1] cost = 3.0\n",
      "case = [1, 0, 1, 0, 1, 1] cost = 3.0\n",
      "case = [0, 1, 1, 0, 1, 1] cost = 5.0\n",
      "case = [1, 1, 1, 0, 1, 1] cost = 3.0\n",
      "case = [0, 0, 0, 1, 1, 1] cost = 2.0\n",
      "case = [1, 0, 0, 1, 1, 1] cost = 4.0\n",
      "case = [0, 1, 0, 1, 1, 1] cost = 2.0\n",
      "case = [1, 1, 0, 1, 1, 1] cost = 2.0\n",
      "case = [0, 0, 1, 1, 1, 1] cost = 2.0\n",
      "case = [1, 0, 1, 1, 1, 1] cost = 2.0\n",
      "case = [0, 1, 1, 1, 1, 1] cost = 2.0\n",
      "case = [1, 1, 1, 1, 1, 1] cost = 0.0\n",
      "\n",
      "Best solution = [0, 1, 1, 0, 1, 0] cost = 6.0\n"
     ]
    },
    {
     "data": {
      "image/png": "[encoded data removed]",
      "text/plain": [
       "<Figure size 640x480 with 1 Axes>"
      ]
     },
     "metadata": {},
     "output_type": "display_data"
    }
   ],
   "source": [
    "best_cost_brute = 0 # This variable will hold the maximum number of cuts\n",
    "\n",
    "# The number of iterations is 2^n\n",
    "for b in range(2**n):\n",
    "    # x contains the reversed binary representation of b\n",
    "    # example: b = 5, x = [1, 0, 1, 0, 0, 0]\n",
    "    x = [int(t) for t in reversed(list(bin(b)[2:].zfill(n)))] # The configuration\n",
    "    \n",
    "    cost = 0\n",
    "    for i in range(n):\n",
    "        for j in range(n):\n",
    "            cost = cost + w[i, j] * x[i] * (1 - x[j]) # Cost function of MaxCut\n",
    "\n",
    "    # Update the maximum number of cuts if needed\n",
    "    if best_cost_brute < cost:\n",
    "        best_cost_brute = cost\n",
    "        xbest_brute = x\n",
    "    print(\"case = \" + str(x) + \" cost = \" + str(cost))\n",
    "\n",
    "# Print the best solution found\n",
    "colors = [\"purple\" if xbest_brute[i] == 0 else \"cyan\" for i in range(n)]\n",
    "draw_coloured_graph(G, colors)\n",
    "print(\"\\nBest solution = \" + str(xbest_brute) + \" cost = \" + str(best_cost_brute))"
   ]
  },
  {
   "cell_type": "markdown",
   "metadata": {},
   "source": [
    "As we can see, as the number of nodes in the graph increases, the number of possible assignments increases exponentially."
   ]
  },
  {
   "cell_type": "markdown",
   "metadata": {},
   "source": [
    "### Make it quantum"
   ]
  },
  {
   "cell_type": "markdown",
   "metadata": {},
   "source": [
    "Solving qubo problem in classical computer is challenging as it solve qubo problem by checking every possible combination of variable states. However, as we have seen, this approach quickly becomes intractable for even moderately sized problems, leading to an exponential explosion in computation time.QUBOs are NP-hard in general which means that we cannot expect to solve such problems in feasible time on classic computers. \n",
    "\n",
    "Every QUBO can be transformed to an Ising model, therefore, QUBOs can be solved on quantum computers through quantum annealing or variational algorithms like QAOA.\n",
    "\n",
    "In QAOA,we encode QUBO instances as an Hamiltonian problem. For this,we need to find the Hamiltonian which encodes our cost function. Then Qubo problem just becomes finding ground state of the Cost Hamiltonian."
   ]
  },
  {
   "cell_type": "markdown",
   "metadata": {},
   "source": [
    "In our case, the Cost Hamiltonian is the following:\n",
    "$$\n",
    "\\begin{align*}\n",
    "H_C = & \\tfrac{1}{2} \\big(Z_0 \\otimes Z_1 \\otimes I_2 \\otimes I_3 \\otimes I_4 \\otimes I_5 \\big) + \\\\\n",
    "      & \\tfrac{1}{2} \\big(Z_0 \\otimes I_1 \\otimes Z_2 \\otimes I_3 \\otimes I_4 \\otimes I_5 \\big) + \\\\\n",
    "      & \\tfrac{1}{2} \\big(I_0 \\otimes Z_1 \\otimes I_2 \\otimes Z_3 \\otimes I_4 \\otimes I_5 \\big) + \\\\\n",
    "      & \\tfrac{1}{2} \\big(I_0 \\otimes I_1 \\otimes Z_2 \\otimes Z_3 \\otimes I_4 \\otimes I_5 \\big) + \\\\\n",
    "      & \\tfrac{1}{2} \\big(I_0 \\otimes I_1 \\otimes I_2 \\otimes Z_3 \\otimes Z_4 \\otimes I_5 \\big) + \\\\\n",
    "      & \\tfrac{1}{2} \\big(I_0 \\otimes I_1 \\otimes I_2 \\otimes I_3 \\otimes Z_4 \\otimes Z_5 \\big)\n",
    "\\end{align*}\n",
    "$$"
   ]
  },
  {
   "cell_type": "markdown",
   "metadata": {},
   "source": [
    "The key thing to note in this matrix is the fact that each pair of $Z$ gates in the Hamiltonian is actually representing an edge."
   ]
  },
  {
   "cell_type": "markdown",
   "metadata": {},
   "source": [
    "<img src=\"images/cost_hamiltonian.png\" alt=\"Cost Hamiltonian\" width=\"600\"/>"
   ]
  },
  {
   "cell_type": "markdown",
   "metadata": {},
   "source": [
    "### The layers of the QAOA algorithm"
   ]
  },
  {
   "cell_type": "markdown",
   "metadata": {},
   "source": [
    "As we explained, the Cost Hamiltonian is a fundamental part of the solution we are looking for. Now we will deepen in the understanding of its role in the QAOA algorithm."
   ]
  },
  {
   "cell_type": "markdown",
   "metadata": {},
   "source": [
    "The structure of the algorithm is the following:\n",
    "1. Preparation of equal superposition state (Applying Hadamard gates to all the qubits involved)\n",
    "2. $p$ repetitions of alternating **cost layers** and **mixed layers**\n",
    "3. Measurement in computational basis\n",
    "\n",
    "After these steps we evaluate the mean of cut values and use a classical optimizer to update the parameters on which the cost layers and mixed layers rely upon. This allows to improve the paramethers which will be fed into the algorithm again."
   ]
  },
  {
   "cell_type": "markdown",
   "metadata": {},
   "source": [
    "### Preparation for performing QAOA"
   ]
  },
  {
   "cell_type": "code",
   "execution_count": null,
   "metadata": {},
   "outputs": [],
   "source": [
    "!pip install qiskit\n",
    "!pip install qiskit_aer"
   ]
  },
  {
   "cell_type": "code",
   "execution_count": 8,
   "metadata": {},
   "outputs": [],
   "source": [
    "from qiskit import QuantumCircuit, ClassicalRegister, QuantumRegister\n",
    "from qiskit_aer import Aer\n",
    "from qiskit.circuit import Parameter\n",
    "#from qiskit import execute"
   ]
  },
  {
   "cell_type": "markdown",
   "metadata": {},
   "source": [
    "To perform the algorithm we need to create in advance the circuit that performs the preparation of equal superposition states and the **unitaries** that represent Cost Layer and Mixed Layer."
   ]
  },
  {
   "cell_type": "markdown",
   "metadata": {},
   "source": [
    "#### Preparation of equal superposition state\n"
   ]
  },
  {
   "cell_type": "code",
   "execution_count": 9,
   "metadata": {},
   "outputs": [
    {
     "data": {
      "text/html": [
       "<pre style=\"word-wrap: normal;white-space: pre;background: #fff0;line-height: 1.1;font-family: &quot;Courier New&quot;,Courier,monospace\">     ┌───┐\n",
       "q_0: ┤ H ├\n",
       "     ├───┤\n",
       "q_1: ┤ H ├\n",
       "     ├───┤\n",
       "q_2: ┤ H ├\n",
       "     ├───┤\n",
       "q_3: ┤ H ├\n",
       "     ├───┤\n",
       "q_4: ┤ H ├\n",
       "     ├───┤\n",
       "q_5: ┤ H ├\n",
       "     └───┘</pre>"
      ],
      "text/plain": [
       "     ┌───┐\n",
       "q_0: ┤ H ├\n",
       "     ├───┤\n",
       "q_1: ┤ H ├\n",
       "     ├───┤\n",
       "q_2: ┤ H ├\n",
       "     ├───┤\n",
       "q_3: ┤ H ├\n",
       "     ├───┤\n",
       "q_4: ┤ H ├\n",
       "     ├───┤\n",
       "q_5: ┤ H ├\n",
       "     └───┘"
      ]
     },
     "execution_count": 9,
     "metadata": {},
     "output_type": "execute_result"
    }
   ],
   "source": [
    "qc_0 = QuantumCircuit(N_QUBITS)\n",
    "for i in range(N_QUBITS):\n",
    "    qc_0.h(i)\n",
    "\n",
    "qc_0.draw()"
   ]
  },
  {
   "cell_type": "markdown",
   "metadata": {},
   "source": [
    "#### Cost layer"
   ]
  },
  {
   "cell_type": "markdown",
   "metadata": {},
   "source": [
    "The Cost Layer's Unitary operator is the following: \n",
    "$$\n",
    "\\begin{align*}\n",
    "U(H_P) = e^{-i \\gamma H_P}\n",
    "\\end{align*}\n",
    "$$\n",
    "\n",
    "Since in our example $H_P$ is\n",
    "$$\n",
    "\\begin{align*}\n",
    "H_P = & \\tfrac{1}{2} \\big(Z_0 \\otimes Z_1 \\otimes I_2 \\otimes I_3 \\otimes I_4 \\otimes I_5 \\big) + \\\\\n",
    "      & \\tfrac{1}{2} \\big(Z_0 \\otimes I_1 \\otimes Z_2 \\otimes I_3 \\otimes I_4 \\otimes I_5 \\big) + \\\\\n",
    "      & \\tfrac{1}{2} \\big(I_0 \\otimes Z_1 \\otimes I_2 \\otimes Z_3 \\otimes I_4 \\otimes I_5 \\big) + \\\\\n",
    "      & \\tfrac{1}{2} \\big(I_0 \\otimes I_1 \\otimes Z_2 \\otimes Z_3 \\otimes I_4 \\otimes I_5 \\big) + \\\\\n",
    "      & \\tfrac{1}{2} \\big(I_0 \\otimes I_1 \\otimes I_2 \\otimes Z_3 \\otimes Z_4 \\otimes I_5 \\big) + \\\\\n",
    "      & \\tfrac{1}{2} \\big(I_0 \\otimes I_1 \\otimes I_2 \\otimes I_3 \\otimes Z_4 \\otimes Z_5 \\big)\n",
    "\\end{align*}\n",
    "$$\n",
    "\n",
    "The Cost Layer for our example problem is\n",
    "$$\n",
    "\\begin{align*}\n",
    "U(H_P) = e^{-i \\gamma H_P} = e^{-i \\gamma Z_0 Z_1} e^{-i \\gamma Z_0 Z_2} e^{-i \\gamma Z_1 Z_3} e^{-i \\gamma Z_2 Z_3} e^{-i \\gamma Z_3 Z_4} e^{-i \\gamma Z_4 Z_5}\n",
    "\\end{align*}\n",
    "$$"
   ]
  },
  {
   "cell_type": "markdown",
   "metadata": {},
   "source": [
    "$U_c(\\gamma_1)$"
   ]
  },
  {
   "cell_type": "markdown",
   "metadata": {},
   "source": [
    "In summary:\n",
    "- The Cost Layer depends on the paramether $\\gamma$. \n",
    "- The gates involved are $R_Z$ gates which perform a single-qubit rotation about the Z axis with angle $\\gamma$"
   ]
  },
  {
   "cell_type": "code",
   "execution_count": 10,
   "metadata": {},
   "outputs": [
    {
     "data": {
      "text/html": [
       "<pre style=\"word-wrap: normal;white-space: pre;background: #fff0;line-height: 1.1;font-family: &quot;Courier New&quot;,Courier,monospace\">                                  ░                              ░      »\n",
       "q_0: ──■──────────────────────■───░───■──────────────────────■───░──────»\n",
       "     ┌─┴─┐┌────────────────┐┌─┴─┐ ░   │                      │   ░      »\n",
       "q_1: ┤ X ├┤ Rz(2*$\\gamma$) ├┤ X ├─░───┼──────────────────────┼───░───■──»\n",
       "     └───┘└────────────────┘└───┘ ░ ┌─┴─┐┌────────────────┐┌─┴─┐ ░   │  »\n",
       "q_2: ─────────────────────────────░─┤ X ├┤ Rz(2*$\\gamma$) ├┤ X ├─░───┼──»\n",
       "                                  ░ └───┘└────────────────┘└───┘ ░ ┌─┴─┐»\n",
       "q_3: ─────────────────────────────░──────────────────────────────░─┤ X ├»\n",
       "                                  ░                              ░ └───┘»\n",
       "q_4: ─────────────────────────────░──────────────────────────────░──────»\n",
       "                                  ░                              ░      »\n",
       "q_5: ─────────────────────────────░──────────────────────────────░──────»\n",
       "                                  ░                              ░      »\n",
       "«                             ░                              ░      »\n",
       "«q_0: ────────────────────────░──────────────────────────────░──────»\n",
       "«                             ░                              ░      »\n",
       "«q_1: ────────────────────■───░──────────────────────────────░──────»\n",
       "«                         │   ░                              ░      »\n",
       "«q_2: ────────────────────┼───░───■──────────────────────■───░──────»\n",
       "«     ┌────────────────┐┌─┴─┐ ░ ┌─┴─┐┌────────────────┐┌─┴─┐ ░      »\n",
       "«q_3: ┤ Rz(2*$\\gamma$) ├┤ X ├─░─┤ X ├┤ Rz(2*$\\gamma$) ├┤ X ├─░───■──»\n",
       "«     └────────────────┘└───┘ ░ └───┘└────────────────┘└───┘ ░ ┌─┴─┐»\n",
       "«q_4: ────────────────────────░──────────────────────────────░─┤ X ├»\n",
       "«                             ░                              ░ └───┘»\n",
       "«q_5: ────────────────────────░──────────────────────────────░──────»\n",
       "«                             ░                              ░      »\n",
       "«                             ░                              ░ \n",
       "«q_0: ────────────────────────░──────────────────────────────░─\n",
       "«                             ░                              ░ \n",
       "«q_1: ────────────────────────░──────────────────────────────░─\n",
       "«                             ░                              ░ \n",
       "«q_2: ────────────────────────░──────────────────────────────░─\n",
       "«                             ░                              ░ \n",
       "«q_3: ────────────────────■───░──────────────────────────────░─\n",
       "«     ┌────────────────┐┌─┴─┐ ░                              ░ \n",
       "«q_4: ┤ Rz(2*$\\gamma$) ├┤ X ├─░───■──────────────────────■───░─\n",
       "«     └────────────────┘└───┘ ░ ┌─┴─┐┌────────────────┐┌─┴─┐ ░ \n",
       "«q_5: ────────────────────────░─┤ X ├┤ Rz(2*$\\gamma$) ├┤ X ├─░─\n",
       "«                             ░ └───┘└────────────────┘└───┘ ░ </pre>"
      ],
      "text/plain": [
       "                                  ░                              ░      »\n",
       "q_0: ──■──────────────────────■───░───■──────────────────────■───░──────»\n",
       "     ┌─┴─┐┌────────────────┐┌─┴─┐ ░   │                      │   ░      »\n",
       "q_1: ┤ X ├┤ Rz(2*$\\gamma$) ├┤ X ├─░───┼──────────────────────┼───░───■──»\n",
       "     └───┘└────────────────┘└───┘ ░ ┌─┴─┐┌────────────────┐┌─┴─┐ ░   │  »\n",
       "q_2: ─────────────────────────────░─┤ X ├┤ Rz(2*$\\gamma$) ├┤ X ├─░───┼──»\n",
       "                                  ░ └───┘└────────────────┘└───┘ ░ ┌─┴─┐»\n",
       "q_3: ─────────────────────────────░──────────────────────────────░─┤ X ├»\n",
       "                                  ░                              ░ └───┘»\n",
       "q_4: ─────────────────────────────░──────────────────────────────░──────»\n",
       "                                  ░                              ░      »\n",
       "q_5: ─────────────────────────────░──────────────────────────────░──────»\n",
       "                                  ░                              ░      »\n",
       "«                             ░                              ░      »\n",
       "«q_0: ────────────────────────░──────────────────────────────░──────»\n",
       "«                             ░                              ░      »\n",
       "«q_1: ────────────────────■───░──────────────────────────────░──────»\n",
       "«                         │   ░                              ░      »\n",
       "«q_2: ────────────────────┼───░───■──────────────────────■───░──────»\n",
       "«     ┌────────────────┐┌─┴─┐ ░ ┌─┴─┐┌────────────────┐┌─┴─┐ ░      »\n",
       "«q_3: ┤ Rz(2*$\\gamma$) ├┤ X ├─░─┤ X ├┤ Rz(2*$\\gamma$) ├┤ X ├─░───■──»\n",
       "«     └────────────────┘└───┘ ░ └───┘└────────────────┘└───┘ ░ ┌─┴─┐»\n",
       "«q_4: ────────────────────────░──────────────────────────────░─┤ X ├»\n",
       "«                             ░                              ░ └───┘»\n",
       "«q_5: ────────────────────────░──────────────────────────────░──────»\n",
       "«                             ░                              ░      »\n",
       "«                             ░                              ░ \n",
       "«q_0: ────────────────────────░──────────────────────────────░─\n",
       "«                             ░                              ░ \n",
       "«q_1: ────────────────────────░──────────────────────────────░─\n",
       "«                             ░                              ░ \n",
       "«q_2: ────────────────────────░──────────────────────────────░─\n",
       "«                             ░                              ░ \n",
       "«q_3: ────────────────────■───░──────────────────────────────░─\n",
       "«     ┌────────────────┐┌─┴─┐ ░                              ░ \n",
       "«q_4: ┤ Rz(2*$\\gamma$) ├┤ X ├─░───■──────────────────────■───░─\n",
       "«     └────────────────┘└───┘ ░ ┌─┴─┐┌────────────────┐┌─┴─┐ ░ \n",
       "«q_5: ────────────────────────░─┤ X ├┤ Rz(2*$\\gamma$) ├┤ X ├─░─\n",
       "«                             ░ └───┘└────────────────┘└───┘ ░ "
      ]
     },
     "execution_count": 10,
     "metadata": {},
     "output_type": "execute_result"
    }
   ],
   "source": [
    "gamma = Parameter(\"$\\\\gamma$\")\n",
    "qc_p = QuantumCircuit(N_QUBITS)\n",
    "for pair in list(G.edges()):  # pairs of nodes\n",
    "    qc_p.rzz(2 * gamma, pair[0], pair[1])\n",
    "    qc_p.barrier()\n",
    "\n",
    "#qc_p.draw('mpl')\n",
    "qc_p.decompose().draw()"
   ]
  },
  {
   "cell_type": "markdown",
   "metadata": {},
   "source": [
    "#### Mixed layer"
   ]
  },
  {
   "cell_type": "markdown",
   "metadata": {},
   "source": [
    "The Mixed Layer's Unitary operator is the following: \n",
    "$$\n",
    "\\begin{align*}\n",
    "U(H_B) = e^{-i \\beta H_B}\n",
    "\\end{align*}\n",
    "$$\n",
    "\n",
    "In general $H_B$ is defined as follows\n",
    "$$\n",
    "\\begin{align*}\n",
    "H_P = & \\big(X_0 \\otimes I_1 \\otimes I_2 \\otimes I_3 \\otimes I_4 \\otimes I_5 \\big) + \\\\\n",
    "      & \\big(I_0 \\otimes X_1 \\otimes I_2 \\otimes I_3 \\otimes I_4 \\otimes I_5 \\big) + \\\\\n",
    "      & \\big(I_0 \\otimes I_1 \\otimes X_2 \\otimes I_3 \\otimes I_4 \\otimes I_5 \\big) + \\\\\n",
    "      & \\big(I_0 \\otimes I_1 \\otimes I_2 \\otimes X_3 \\otimes I_4 \\otimes I_5 \\big) + \\\\\n",
    "      & \\big(I_0 \\otimes I_1 \\otimes I_2 \\otimes I_3 \\otimes X_4 \\otimes I_5 \\big) + \\\\\n",
    "      & \\big(I_0 \\otimes I_1 \\otimes I_2 \\otimes I_3 \\otimes I_4 \\otimes X_5 \\big)\n",
    "\\end{align*}\n",
    "$$\n",
    "\n",
    "Therefore, the Mixed Layer's Unitary for our exaple can be also written as:\n",
    "$$\n",
    "\\begin{align*}\n",
    "U(H_B) = e^{-i \\beta H_B} = e^{-i \\beta X_0} e^{-i \\beta X_1} e^{-i \\beta X_2} e^{-i \\beta X_3} e^{-i \\beta X_4} e^{-i \\beta X_5} \n",
    "\\end{align*}\n",
    "$$"
   ]
  },
  {
   "cell_type": "code",
   "execution_count": 11,
   "metadata": {},
   "outputs": [
    {
     "data": {
      "text/html": [
       "<pre style=\"word-wrap: normal;white-space: pre;background: #fff0;line-height: 1.1;font-family: &quot;Courier New&quot;,Courier,monospace\">     ┌────────────────┐\n",
       "q_0: ┤ R(2*$\\beta$,0) ├\n",
       "     ├────────────────┤\n",
       "q_1: ┤ R(2*$\\beta$,0) ├\n",
       "     ├────────────────┤\n",
       "q_2: ┤ R(2*$\\beta$,0) ├\n",
       "     ├────────────────┤\n",
       "q_3: ┤ R(2*$\\beta$,0) ├\n",
       "     ├────────────────┤\n",
       "q_4: ┤ R(2*$\\beta$,0) ├\n",
       "     ├────────────────┤\n",
       "q_5: ┤ R(2*$\\beta$,0) ├\n",
       "     └────────────────┘</pre>"
      ],
      "text/plain": [
       "     ┌────────────────┐\n",
       "q_0: ┤ R(2*$\\beta$,0) ├\n",
       "     ├────────────────┤\n",
       "q_1: ┤ R(2*$\\beta$,0) ├\n",
       "     ├────────────────┤\n",
       "q_2: ┤ R(2*$\\beta$,0) ├\n",
       "     ├────────────────┤\n",
       "q_3: ┤ R(2*$\\beta$,0) ├\n",
       "     ├────────────────┤\n",
       "q_4: ┤ R(2*$\\beta$,0) ├\n",
       "     ├────────────────┤\n",
       "q_5: ┤ R(2*$\\beta$,0) ├\n",
       "     └────────────────┘"
      ]
     },
     "execution_count": 11,
     "metadata": {},
     "output_type": "execute_result"
    }
   ],
   "source": [
    "beta = Parameter(\"$\\\\beta$\")\n",
    "qc_mix = QuantumCircuit(N_QUBITS)\n",
    "for i in range(0, N_QUBITS):\n",
    "    qc_mix.rx(2 * beta, i)\n",
    "qc_mix.decompose().draw()"
   ]
  },
  {
   "cell_type": "markdown",
   "metadata": {},
   "source": [
    "### The QAOA circuit"
   ]
  },
  {
   "cell_type": "markdown",
   "metadata": {},
   "source": [
    "Let's put everything together!\n",
    "1. Preparation of equal superposition states\n",
    "2. Applying the unitary corresponding to the problem Hamiltonian\n",
    "3. Applying the mixing unitary"
   ]
  },
  {
   "cell_type": "code",
   "execution_count": 12,
   "metadata": {},
   "outputs": [
    {
     "data": {
      "text/html": [
       "<pre style=\"word-wrap: normal;white-space: pre;background: #fff0;line-height: 1.1;font-family: &quot;Courier New&quot;,Courier,monospace\">     ┌─────────┐                             ░                              ░ »\n",
       "q_0: ┤ U2(0,π) ├──■──────────────────────■───░───■──────────────────────■───░─»\n",
       "     ├─────────┤┌─┴─┐┌────────────────┐┌─┴─┐ ░   │                      │   ░ »\n",
       "q_1: ┤ U2(0,π) ├┤ X ├┤ Rz(2*$\\gamma$) ├┤ X ├─░───┼──────────────────────┼───░─»\n",
       "     ├─────────┤└───┘└────────────────┘└───┘ ░ ┌─┴─┐┌────────────────┐┌─┴─┐ ░ »\n",
       "q_2: ┤ U2(0,π) ├─────────────────────────────░─┤ X ├┤ Rz(2*$\\gamma$) ├┤ X ├─░─»\n",
       "     ├─────────┤                             ░ └───┘└────────────────┘└───┘ ░ »\n",
       "q_3: ┤ U2(0,π) ├─────────────────────────────░──────────────────────────────░─»\n",
       "     ├─────────┤                             ░                              ░ »\n",
       "q_4: ┤ U2(0,π) ├─────────────────────────────░──────────────────────────────░─»\n",
       "     ├─────────┤                             ░                              ░ »\n",
       "q_5: ┤ U2(0,π) ├─────────────────────────────░──────────────────────────────░─»\n",
       "     └─────────┘                             ░                              ░ »\n",
       "«                                  ░                              ░      »\n",
       "«q_0: ─────────────────────────────░──────────────────────────────░──────»\n",
       "«                                  ░                              ░      »\n",
       "«q_1: ──■──────────────────────■───░──────────────────────────────░──────»\n",
       "«       │                      │   ░                              ░      »\n",
       "«q_2: ──┼──────────────────────┼───░───■──────────────────────■───░──────»\n",
       "«     ┌─┴─┐┌────────────────┐┌─┴─┐ ░ ┌─┴─┐┌────────────────┐┌─┴─┐ ░      »\n",
       "«q_3: ┤ X ├┤ Rz(2*$\\gamma$) ├┤ X ├─░─┤ X ├┤ Rz(2*$\\gamma$) ├┤ X ├─░───■──»\n",
       "«     └───┘└────────────────┘└───┘ ░ └───┘└────────────────┘└───┘ ░ ┌─┴─┐»\n",
       "«q_4: ─────────────────────────────░──────────────────────────────░─┤ X ├»\n",
       "«                                  ░                              ░ └───┘»\n",
       "«q_5: ─────────────────────────────░──────────────────────────────░──────»\n",
       "«                                  ░                              ░      »\n",
       "«                             ░                              ░ »\n",
       "«q_0: ────────────────────────░──────────────────────────────░─»\n",
       "«                             ░                              ░ »\n",
       "«q_1: ────────────────────────░──────────────────────────────░─»\n",
       "«                             ░                              ░ »\n",
       "«q_2: ────────────────────────░──────────────────────────────░─»\n",
       "«                             ░                              ░ »\n",
       "«q_3: ────────────────────■───░──────────────────────────────░─»\n",
       "«     ┌────────────────┐┌─┴─┐ ░                              ░ »\n",
       "«q_4: ┤ Rz(2*$\\gamma$) ├┤ X ├─░───■──────────────────────■───░─»\n",
       "«     └────────────────┘└───┘ ░ ┌─┴─┐┌────────────────┐┌─┴─┐ ░ »\n",
       "«q_5: ────────────────────────░─┤ X ├┤ Rz(2*$\\gamma$) ├┤ X ├─░─»\n",
       "«                             ░ └───┘└────────────────┘└───┘ ░ »\n",
       "«     ┌────────────────┐\n",
       "«q_0: ┤ R(2*$\\beta$,0) ├\n",
       "«     ├────────────────┤\n",
       "«q_1: ┤ R(2*$\\beta$,0) ├\n",
       "«     ├────────────────┤\n",
       "«q_2: ┤ R(2*$\\beta$,0) ├\n",
       "«     ├────────────────┤\n",
       "«q_3: ┤ R(2*$\\beta$,0) ├\n",
       "«     ├────────────────┤\n",
       "«q_4: ┤ R(2*$\\beta$,0) ├\n",
       "«     ├────────────────┤\n",
       "«q_5: ┤ R(2*$\\beta$,0) ├\n",
       "«     └────────────────┘</pre>"
      ],
      "text/plain": [
       "     ┌─────────┐                             ░                              ░ »\n",
       "q_0: ┤ U2(0,π) ├──■──────────────────────■───░───■──────────────────────■───░─»\n",
       "     ├─────────┤┌─┴─┐┌────────────────┐┌─┴─┐ ░   │                      │   ░ »\n",
       "q_1: ┤ U2(0,π) ├┤ X ├┤ Rz(2*$\\gamma$) ├┤ X ├─░───┼──────────────────────┼───░─»\n",
       "     ├─────────┤└───┘└────────────────┘└───┘ ░ ┌─┴─┐┌────────────────┐┌─┴─┐ ░ »\n",
       "q_2: ┤ U2(0,π) ├─────────────────────────────░─┤ X ├┤ Rz(2*$\\gamma$) ├┤ X ├─░─»\n",
       "     ├─────────┤                             ░ └───┘└────────────────┘└───┘ ░ »\n",
       "q_3: ┤ U2(0,π) ├─────────────────────────────░──────────────────────────────░─»\n",
       "     ├─────────┤                             ░                              ░ »\n",
       "q_4: ┤ U2(0,π) ├─────────────────────────────░──────────────────────────────░─»\n",
       "     ├─────────┤                             ░                              ░ »\n",
       "q_5: ┤ U2(0,π) ├─────────────────────────────░──────────────────────────────░─»\n",
       "     └─────────┘                             ░                              ░ »\n",
       "«                                  ░                              ░      »\n",
       "«q_0: ─────────────────────────────░──────────────────────────────░──────»\n",
       "«                                  ░                              ░      »\n",
       "«q_1: ──■──────────────────────■───░──────────────────────────────░──────»\n",
       "«       │                      │   ░                              ░      »\n",
       "«q_2: ──┼──────────────────────┼───░───■──────────────────────■───░──────»\n",
       "«     ┌─┴─┐┌────────────────┐┌─┴─┐ ░ ┌─┴─┐┌────────────────┐┌─┴─┐ ░      »\n",
       "«q_3: ┤ X ├┤ Rz(2*$\\gamma$) ├┤ X ├─░─┤ X ├┤ Rz(2*$\\gamma$) ├┤ X ├─░───■──»\n",
       "«     └───┘└────────────────┘└───┘ ░ └───┘└────────────────┘└───┘ ░ ┌─┴─┐»\n",
       "«q_4: ─────────────────────────────░──────────────────────────────░─┤ X ├»\n",
       "«                                  ░                              ░ └───┘»\n",
       "«q_5: ─────────────────────────────░──────────────────────────────░──────»\n",
       "«                                  ░                              ░      »\n",
       "«                             ░                              ░ »\n",
       "«q_0: ────────────────────────░──────────────────────────────░─»\n",
       "«                             ░                              ░ »\n",
       "«q_1: ────────────────────────░──────────────────────────────░─»\n",
       "«                             ░                              ░ »\n",
       "«q_2: ────────────────────────░──────────────────────────────░─»\n",
       "«                             ░                              ░ »\n",
       "«q_3: ────────────────────■───░──────────────────────────────░─»\n",
       "«     ┌────────────────┐┌─┴─┐ ░                              ░ »\n",
       "«q_4: ┤ Rz(2*$\\gamma$) ├┤ X ├─░───■──────────────────────■───░─»\n",
       "«     └────────────────┘└───┘ ░ ┌─┴─┐┌────────────────┐┌─┴─┐ ░ »\n",
       "«q_5: ────────────────────────░─┤ X ├┤ Rz(2*$\\gamma$) ├┤ X ├─░─»\n",
       "«                             ░ └───┘└────────────────┘└───┘ ░ »\n",
       "«     ┌────────────────┐\n",
       "«q_0: ┤ R(2*$\\beta$,0) ├\n",
       "«     ├────────────────┤\n",
       "«q_1: ┤ R(2*$\\beta$,0) ├\n",
       "«     ├────────────────┤\n",
       "«q_2: ┤ R(2*$\\beta$,0) ├\n",
       "«     ├────────────────┤\n",
       "«q_3: ┤ R(2*$\\beta$,0) ├\n",
       "«     ├────────────────┤\n",
       "«q_4: ┤ R(2*$\\beta$,0) ├\n",
       "«     ├────────────────┤\n",
       "«q_5: ┤ R(2*$\\beta$,0) ├\n",
       "«     └────────────────┘"
      ]
     },
     "execution_count": 12,
     "metadata": {},
     "output_type": "execute_result"
    }
   ],
   "source": [
    "qc_qaoa = QuantumCircuit(N_QUBITS)\n",
    "qc_qaoa.append(qc_0, range(N_QUBITS))\n",
    "qc_qaoa.append(qc_p, range(N_QUBITS))\n",
    "qc_qaoa.append(qc_mix, range(N_QUBITS))\n",
    "\n",
    "qc_qaoa.decompose().decompose().draw()"
   ]
  },
  {
   "cell_type": "markdown",
   "metadata": {},
   "source": [
    "The circuit is ready, now we should use a classical optimization algorithm which will find the optimal parameters $\\gamma$ and $\\beta$ so that the expectation value is minimized."
   ]
  },
  {
   "cell_type": "markdown",
   "metadata": {},
   "source": [
    "<img src=\"images/QAOA.png\" alt=\"QAOA\" width=\"300\"/>"
   ]
  },
  {
   "cell_type": "code",
   "execution_count": 13,
   "metadata": {},
   "outputs": [],
   "source": [
    "def maxcut_obj(solution, graph):\n",
    "    \"\"\"Given a bit string as a solution, this function returns\n",
    "    the number of edges shared between the two partitions\n",
    "    of the graph.\n",
    "    Args:\n",
    "        solution: (str) solution bit string\n",
    "        graph: networkx graph\n",
    "    Returns:\n",
    "        obj: (float) Objective\n",
    "    \"\"\"\n",
    "    # pylint: disable=invalid-name\n",
    "    obj = 0\n",
    "    for i, j in graph.edges():\n",
    "        if solution[i] != solution[j]:\n",
    "            obj -= 1\n",
    "    return obj\n",
    "\n",
    "\n",
    "def compute_expectation(counts, graph):\n",
    "    \"\"\"Computes expectation value based on measurement results\n",
    "    Args:\n",
    "        counts: (dict) key as bit string, val as count\n",
    "        graph: networkx graph\n",
    "    Returns:\n",
    "        avg: float\n",
    "             expectation value\n",
    "    \"\"\"\n",
    "    avg = 0\n",
    "    sum_count = 0\n",
    "    for bit_string, count in counts.items():\n",
    "        obj = maxcut_obj(bit_string, graph)\n",
    "        avg += obj * count\n",
    "        sum_count += count\n",
    "    return avg/sum_count\n",
    "\n",
    "\n",
    "# We will also bring the different circuit components that\n",
    "# build the qaoa circuit under a single function\n",
    "def create_qaoa_circ(graph, theta):\n",
    "    \"\"\"Creates a parametrized qaoa circuit\n",
    "    Args:\n",
    "        graph: networkx graph\n",
    "        theta: (list) unitary parameters\n",
    "    Returns:\n",
    "        (QuantumCircuit) qiskit circuit\n",
    "    \"\"\"\n",
    "    nqubits = len(graph.nodes())\n",
    "    n_layers = len(theta)//2  # number of alternating unitaries\n",
    "    beta = theta[:n_layers]\n",
    "    gamma = theta[n_layers:]\n",
    "\n",
    "    qc = QuantumCircuit(nqubits)\n",
    "\n",
    "    # initial_state\n",
    "    qc.h(range(nqubits))\n",
    "\n",
    "    for layer_index in range(n_layers):\n",
    "        # problem unitary\n",
    "        for pair in list(graph.edges()):\n",
    "            qc.rzz(2 * gamma[layer_index], pair[0], pair[1])\n",
    "        # mixer unitary\n",
    "        for qubit in range(nqubits):\n",
    "            qc.rx(2 * beta[layer_index], qubit)\n",
    "\n",
    "    qc.measure_all()\n",
    "    return qc\n",
    "\n",
    "\n",
    "# Finally we write a function that executes the circuit\n",
    "# on the chosen backend\n",
    "def get_expectation(graph, shots=512):\n",
    "    \"\"\"Runs parametrized circuit\n",
    "    Args:\n",
    "        graph: networkx graph\n",
    "    \"\"\"\n",
    "    backend = Aer.get_backend('qasm_simulator')\n",
    "    backend.shots = shots\n",
    "\n",
    "    def execute_circ(theta):\n",
    "        qc = create_qaoa_circ(graph, theta)\n",
    "        counts = backend.run(qc, seed_simulator=10,\n",
    "                             nshots=512).result().get_counts()\n",
    "        return compute_expectation(counts, graph)\n",
    "\n",
    "    return execute_circ"
   ]
  },
  {
   "cell_type": "code",
   "execution_count": 14,
   "metadata": {},
   "outputs": [
    {
     "data": {
      "text/plain": [
       " message: Optimization terminated successfully.\n",
       " success: True\n",
       "  status: 1\n",
       "     fun: -3.5546875\n",
       "       x: [ 2.830e+00  4.840e-01]\n",
       "    nfev: 32\n",
       "   maxcv: 0.0"
      ]
     },
     "execution_count": 14,
     "metadata": {},
     "output_type": "execute_result"
    }
   ],
   "source": [
    "from scipy.optimize import minimize\n",
    "expectation = get_expectation(G)\n",
    "res = minimize(expectation,\n",
    "               [1.0, 1.0],\n",
    "               method='COBYLA')\n",
    "res"
   ]
  },
  {
   "cell_type": "markdown",
   "metadata": {},
   "source": [
    "#### Analyzing the results"
   ]
  },
  {
   "cell_type": "code",
   "execution_count": 15,
   "metadata": {},
   "outputs": [
    {
     "data": {
      "image/png": "[encoded data removed]",
      "text/plain": [
       "<Figure size 700x500 with 1 Axes>"
      ]
     },
     "execution_count": 15,
     "metadata": {},
     "output_type": "execute_result"
    }
   ],
   "source": [
    "backend = Aer.get_backend('aer_simulator')\n",
    "backend.shots = 512\n",
    "\n",
    "from qiskit.visualization import plot_histogram\n",
    "qc_res = create_qaoa_circ(G, res.x)\n",
    "counts = backend.run(qc_res, seed_simulator=10).result().get_counts()\n",
    "\n",
    "plot_histogram(counts, number_to_keep=24, sort=\"value_desc\")"
   ]
  },
  {
   "cell_type": "markdown",
   "metadata": {},
   "source": [
    "As we can see we get as first results either 100101 or 011010 which are equivalent in term of cuts (6 cuts) and so represent the optimal solutions to our example graph."
   ]
  },
  {
   "cell_type": "markdown",
   "metadata": {},
   "source": [
    "#### References:\n",
    "1. Farhi, Edward, Jeffrey Goldstone, and Sam Gutmann. \\\"A quantum approximate optimization algorithm.\\\" arXiv preprint [arXiv:1411.4028 (2014)](https://arxiv.org/abs/1411.4028).\n",
    "2. Qiskit textbook. \\\"Solving combinatorial optimization problems using QAOA.\\\" GitHub [Solving combinatorial optimization problems using QAOA.](https://github.com/Qiskit/textbook/blob/main/notebooks/ch-applications/qaoa.ipynb)"
   ]
  }
 ],
 "metadata": {
  "kernelspec": {
   "display_name": "myQenv",
   "language": "python",
   "name": "python3"
  },
  "language_info": {
   "codemirror_mode": {
    "name": "ipython",
    "version": 3
   },
   "file_extension": ".py",
   "mimetype": "text/x-python",
   "name": "python",
   "nbconvert_exporter": "python",
   "pygments_lexer": "ipython3",
   "version": "3.12.2"
  }
 },
 "nbformat": 4,
 "nbformat_minor": 2
}

{
 "cells": [
  {
   "cell_type": "markdown",
   "metadata": {},
   "source": [
    "## VQE for Ground State Optimization"
   ]
  },
  {
   "cell_type": "markdown",
   "metadata": {},
   "source": [
    "### Building the electronic Hamiltonian\n",
    "\n",
    "We specify the molecule we want to simulate by using the [XYZ File Format](https://en.wikipedia.org/wiki/XYZ_file_format) which describes the location of atoms in a molecule. \n",
    "\n",
    "This takes the following structure\n",
    "```\n",
    "<number of atoms>\n",
    "comment line\n",
    "<element> <X> <Y> <Z>\n",
    "...\n",
    "```\n",
    "Where X, Y and Z are the cartesian coordinates in angstroms ($10^{-10}$ m)."
   ]
  },
  {
   "cell_type": "code",
   "execution_count": null,
   "metadata": {
    "tags": [
     "parameters"
    ]
   },
   "outputs": [],
   "source": [
    "input = \"\"\"2\n",
    "Sample H2 molecule\n",
    "H 0.3710 0.0 0.0\n",
    "H -0.3710 0.0 0.0\"\"\""
   ]
  },
  {
   "cell_type": "markdown",
   "metadata": {},
   "source": [
    "To use this in our code, we parse using `xyz_parse`"
   ]
  },
  {
   "cell_type": "code",
   "execution_count": null,
   "metadata": {},
   "outputs": [],
   "source": [
    "import xyz_parse\n",
    "molecule = xyz_parse.Molecule.parse(input)\n",
    "repr(molecule)"
   ]
  },
  {
   "cell_type": "markdown",
   "metadata": {},
   "source": [
    "With `qml.qchem.molecular_hamiltonian`, which receives the atomic symbols of the molecule and the space coordinates; we get `H`, the Hamiltonian as a linear combination of Pauli operators, and `qubits`, the number of required qubits"
   ]
  },
  {
   "cell_type": "code",
   "execution_count": null,
   "metadata": {},
   "outputs": [],
   "source": [
    "import pennylane as qml\n",
    "from pennylane import numpy as np\n",
    "\n",
    "# Setup hamiltonian\n",
    "H, qubits = qml.qchem.molecular_hamiltonian(\n",
    "    molecule.symbols,\n",
    "    # Factor of 1.88973 to convert Angstrom to Bohr\n",
    "    np.array(molecule.coordinates, dtype=np.float64) * 1.88973\n",
    ")\n",
    "print(\"Number of qubits = \", qubits)\n",
    "print(\"The Hamiltonian is \", H)"
   ]
  },
  {
   "cell_type": "markdown",
   "metadata": {},
   "source": [
    "We use a [minimal basis set](<https://en.wikipedia.org/wiki/STO-nG_basis_sets>)\n",
    "to represent the [molecular orbitals](https://en.wikipedia.org/wiki/Molecular_orbital>). This means we use one qubit for each possible spin orbital. In this approximation, we have four spin orbitals (two for each electron) which defines the number of qubits."
   ]
  },
  {
   "cell_type": "markdown",
   "metadata": {},
   "source": [
    "### Implementing the VQE algorithm\n",
    "\n",
    "We can use Pennylane's standard qubit simulator:"
   ]
  },
  {
   "cell_type": "code",
   "execution_count": null,
   "metadata": {},
   "outputs": [],
   "source": [
    "dev = qml.device(\"default.qubit\", wires=qubits)"
   ]
  },
  {
   "cell_type": "markdown",
   "metadata": {},
   "source": [
    "#### Hartree-Fock State\n",
    "\n",
    "It is a common approximation for the ground state of a molecule, in which electrons are placed in the lowest molecular orbitals.\n",
    "\n",
    "`qml.qchem.hf_state` returns a list where each entry is a qubit. A 1 indicates an electron in that spin orbital, and a 0 no electron. This is the Jordan-Winger encoding. \n",
    "\n",
    "We need to define the quantum circuit that prepares the trial state of the\n",
    "molecule (ansatz). We want to prepare states of the form,\n",
    "\n",
    "$$\n",
    "    \\vert \\Psi(\\theta) \\rangle = \\cos(\\theta/2)~|1100\\rangle -\\sin(\\theta/2)~|0011\\rangle,\n",
    "$$\n",
    "\n",
    "This formula represents a normalized quantum state as a superposition of basis states. Normalized means the total probability must sum to 1.\n",
    "\n",
    "The Hartree-Fock State ($|1100\\rangle$) is a good starting approximation for the electronic ground state of a molecule.  It indicates two electrons occupying the lowest energy molecular orbitals.\n",
    "\n",
    "On the other hand, $|0011\\rangle$ is the double excitation state, the electrons occupy the highest energy orbitals.\n",
    "\n",
    "So $\\vert \\Psi(\\theta) \\rangle$ is a variational form that allows the wavefunction to be a combination of these basis states\n",
    "\n",
    "\n",
    "To implement this using Pennylane, we use the\n",
    "`hf_state` function to generate the vector representing the Hartree-Fock state."
   ]
  },
  {
   "cell_type": "code",
   "execution_count": null,
   "metadata": {},
   "outputs": [],
   "source": [
    "electrons = 2\n",
    "hf = qml.qchem.hf_state(electrons, qubits)\n",
    "print(hf)"
   ]
  },
  {
   "cell_type": "markdown",
   "metadata": {},
   "source": [
    "The `hf` array is used by the `pennylane.BasisState` operation to initialize\n",
    "the qubit register. We apply the `pennylane.DoubleExcitation` operation on the four qubits. The next step is to compute the expectation value of the molecular Hamiltonian in the trial state prepared by the circuit.\n",
    "We do this using the `expval` function. The decorator syntax allows us to run the cost function as an executable QNode with the gate parameter $\\theta$:"
   ]
  },
  {
   "cell_type": "code",
   "execution_count": null,
   "metadata": {},
   "outputs": [],
   "source": [
    "@qml.qnode(dev)\n",
    "def circuit(param, wires):\n",
    "    qml.BasisState(hf, wires=wires)\n",
    "    qml.DoubleExcitation(param, wires=[0, 1, 2, 3])\n",
    "    return qml.expval(H)"
   ]
  },
  {
   "cell_type": "markdown",
   "metadata": {},
   "source": [
    "We can now define our error function simply as the expected value calculated above:"
   ]
  },
  {
   "cell_type": "code",
   "execution_count": null,
   "metadata": {},
   "outputs": [],
   "source": [
    "def cost_fn(param):\n",
    "    return circuit(param, wires=range(qubits))"
   ]
  },
  {
   "cell_type": "markdown",
   "metadata": {},
   "source": [
    "We initialize the circuit parameter $\\theta$ to zero, meaning that we start\n",
    "from the Hartree-Fock state."
   ]
  },
  {
   "cell_type": "code",
   "execution_count": null,
   "metadata": {},
   "outputs": [],
   "source": [
    "theta = np.array(np.pi / 2)"
   ]
  },
  {
   "cell_type": "markdown",
   "metadata": {},
   "source": [
    "Here we use a basic gradient-descent optimizer.\n",
    "We carry out the optimization over a maximum of 100 steps aiming to reach a\n",
    "convergence tolerance of $10^{-6}$ for the value of the cost function."
   ]
  },
  {
   "cell_type": "code",
   "execution_count": null,
   "metadata": {},
   "outputs": [],
   "source": [
    "max_iterations = 200\n",
    "convergence_tolerance = 1e-06\n",
    "optimizer = qml.GradientDescentOptimizer(stepsize=0.03)"
   ]
  },
  {
   "cell_type": "markdown",
   "metadata": {},
   "source": [
    "We create a list of energies to then represent them in a graph using matplotlib"
   ]
  },
  {
   "cell_type": "code",
   "execution_count": null,
   "metadata": {},
   "outputs": [],
   "source": [
    "energies = []"
   ]
  },
  {
   "cell_type": "markdown",
   "metadata": {},
   "source": [
    "And we run the algorithm iterating over the calculated energy values until we reach the optimal one"
   ]
  },
  {
   "cell_type": "code",
   "execution_count": null,
   "metadata": {},
   "outputs": [],
   "source": [
    "for _ in range(max_iterations):\n",
    "    theta, prev_energy = optimizer.step_and_cost(cost_fn, theta)\n",
    "    energy = cost_fn(theta)\n",
    "    energies.append(energy)\n",
    "    if np.abs(energy - prev_energy) <= convergence_tolerance:\n",
    "        break\n",
    "\n",
    "print(f\"Final value of the ground-state energy = {energy:.8f} Ha\")\n",
    "print(f\"Optimal value of the circuit parameter = {theta:.4f}\")"
   ]
  },
  {
   "cell_type": "markdown",
   "metadata": {},
   "source": [
    "We plot the graph that shows the target energy and the ones calculated in each iteration"
   ]
  },
  {
   "cell_type": "code",
   "execution_count": null,
   "metadata": {},
   "outputs": [],
   "source": [
    "import matplotlib.pyplot as plt\n",
    "\n",
    "plt.plot(energies, \"b\", label=\"Energy\")\n",
    "plt.axhline(-1.137, linestyle=\"--\", color=\"black\", label=\"Target Energy\")\n",
    "plt.xlabel(\"Optimization Iterations\")\n",
    "plt.ylabel(\"Energy\")\n",
    "plt.title(\"Ground State Energy Calculation\")\n",
    "plt.legend()\n",
    "plt.show()"
   ]
  },
  {
   "cell_type": "markdown",
   "metadata": {},
   "source": [
    "The quantum circuit to prepare the trial state $\\vert \\Psi(\\theta) \\rangle$ is\n",
    "schematically illustrated in the figure below.\n",
    "\n",
    "\n",
    "In this figure, the gate $G^{2}$ corresponds to the\n",
    "`pennylane.DoubleExcitation` operation, implemented in PennyLane\n",
    "as a [Givens rotation](https://en.wikipedia.org/wiki/Givens_rotation>), which couples\n",
    "the four-qubit states $\\vert 1100 \\rangle$ and $\\vert 0011 \\rangle$"
   ]
  },
  {
   "cell_type": "code",
   "execution_count": null,
   "metadata": {},
   "outputs": [],
   "source": [
    "fig, ax = qml.draw_mpl(circuit)(1.2345,1.2345)"
   ]
  },
  {
   "cell_type": "markdown",
   "metadata": {},
   "source": [
    "To submit our results to **aqora** we need to set the output variable in our notebook"
   ]
  },
  {
   "cell_type": "code",
   "execution_count": null,
   "metadata": {},
   "outputs": [],
   "source": [
    "output = float(energy)"
   ]
  }
 ],
 "metadata": {
  "kernelspec": {
   "display_name": ".venv",
   "language": "python",
   "name": "python3"
  },
  "language_info": {
   "codemirror_mode": {
    "name": "ipython",
    "version": 3
   },
   "file_extension": ".py",
   "mimetype": "text/x-python",
   "name": "python",
   "nbconvert_exporter": "python",
   "pygments_lexer": "ipython3",
   "version": "3.12.4"
  },
  "orig_nbformat": 4
 },
 "nbformat": 4,
 "nbformat_minor": 2
}

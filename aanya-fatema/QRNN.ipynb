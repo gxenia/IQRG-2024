{
  "cells": [
    {
      "cell_type": "code",
      "execution_count": 1,
      "metadata": {
        "colab": {
          "base_uri": "https://localhost:8080/"
        },
        "id": "qYjgigIm0n4R",
        "outputId": "2b02435d-c6db-4741-8b53-1ad260bf8fd3",
        "collapsed": true
      },
      "outputs": [
        {
          "output_type": "stream",
          "name": "stdout",
          "text": [
            "Collecting pennylane\n",
            "  Downloading PennyLane-0.36.0-py3-none-any.whl (1.7 MB)\n",
            "\u001b[2K     \u001b[90m━━━━━━━━━━━━━━━━━━━━━━━━━━━━━━━━━━━━━━━━\u001b[0m \u001b[32m1.7/1.7 MB\u001b[0m \u001b[31m7.1 MB/s\u001b[0m eta \u001b[36m0:00:00\u001b[0m\n",
            "\u001b[?25hRequirement already satisfied: numpy<2.0 in /usr/local/lib/python3.10/dist-packages (from pennylane) (1.25.2)\n",
            "Requirement already satisfied: scipy in /usr/local/lib/python3.10/dist-packages (from pennylane) (1.11.4)\n",
            "Requirement already satisfied: networkx in /usr/local/lib/python3.10/dist-packages (from pennylane) (3.3)\n",
            "Collecting rustworkx (from pennylane)\n",
            "  Downloading rustworkx-0.15.1-cp38-abi3-manylinux_2_17_x86_64.manylinux2014_x86_64.whl (2.0 MB)\n",
            "\u001b[2K     \u001b[90m━━━━━━━━━━━━━━━━━━━━━━━━━━━━━━━━━━━━━━━━\u001b[0m \u001b[32m2.0/2.0 MB\u001b[0m \u001b[31m13.0 MB/s\u001b[0m eta \u001b[36m0:00:00\u001b[0m\n",
            "\u001b[?25hRequirement already satisfied: autograd in /usr/local/lib/python3.10/dist-packages (from pennylane) (1.6.2)\n",
            "Requirement already satisfied: toml in /usr/local/lib/python3.10/dist-packages (from pennylane) (0.10.2)\n",
            "Collecting appdirs (from pennylane)\n",
            "  Downloading appdirs-1.4.4-py2.py3-none-any.whl (9.6 kB)\n",
            "Collecting semantic-version>=2.7 (from pennylane)\n",
            "  Downloading semantic_version-2.10.0-py2.py3-none-any.whl (15 kB)\n",
            "Collecting autoray>=0.6.1 (from pennylane)\n",
            "  Downloading autoray-0.6.12-py3-none-any.whl (50 kB)\n",
            "\u001b[2K     \u001b[90m━━━━━━━━━━━━━━━━━━━━━━━━━━━━━━━━━━━━━━━━\u001b[0m \u001b[32m51.0/51.0 kB\u001b[0m \u001b[31m4.6 MB/s\u001b[0m eta \u001b[36m0:00:00\u001b[0m\n",
            "\u001b[?25hRequirement already satisfied: cachetools in /usr/local/lib/python3.10/dist-packages (from pennylane) (5.3.3)\n",
            "Collecting pennylane-lightning>=0.36 (from pennylane)\n",
            "  Downloading PennyLane_Lightning-0.36.0-cp310-cp310-manylinux_2_17_x86_64.manylinux2014_x86_64.whl (19.1 MB)\n",
            "\u001b[2K     \u001b[90m━━━━━━━━━━━━━━━━━━━━━━━━━━━━━━━━━━━━━━━━\u001b[0m \u001b[32m19.1/19.1 MB\u001b[0m \u001b[31m20.3 MB/s\u001b[0m eta \u001b[36m0:00:00\u001b[0m\n",
            "\u001b[?25hRequirement already satisfied: requests in /usr/local/lib/python3.10/dist-packages (from pennylane) (2.31.0)\n",
            "Requirement already satisfied: typing-extensions in /usr/local/lib/python3.10/dist-packages (from pennylane) (4.12.2)\n",
            "Requirement already satisfied: future>=0.15.2 in /usr/local/lib/python3.10/dist-packages (from autograd->pennylane) (0.18.3)\n",
            "Requirement already satisfied: charset-normalizer<4,>=2 in /usr/local/lib/python3.10/dist-packages (from requests->pennylane) (3.3.2)\n",
            "Requirement already satisfied: idna<4,>=2.5 in /usr/local/lib/python3.10/dist-packages (from requests->pennylane) (3.7)\n",
            "Requirement already satisfied: urllib3<3,>=1.21.1 in /usr/local/lib/python3.10/dist-packages (from requests->pennylane) (2.0.7)\n",
            "Requirement already satisfied: certifi>=2017.4.17 in /usr/local/lib/python3.10/dist-packages (from requests->pennylane) (2024.6.2)\n",
            "Installing collected packages: appdirs, semantic-version, rustworkx, autoray, pennylane-lightning, pennylane\n",
            "Successfully installed appdirs-1.4.4 autoray-0.6.12 pennylane-0.36.0 pennylane-lightning-0.36.0 rustworkx-0.15.1 semantic-version-2.10.0\n"
          ]
        }
      ],
      "source": [
        "! pip install pennylane\n",
        "import numpy as np\n",
        "import pandas as pd\n",
        "import tensorflow as tf\n",
        "import matplotlib.pyplot as plt\n",
        "from sklearn.preprocessing import MinMaxScaler\n",
        "from tensorflow.keras import regularizers\n",
        "from tensorflow.keras.models import Sequential\n",
        "from tensorflow.keras.layers import LSTM, Dense, RNN\n",
        "import pennylane as qml\n",
        "from google.colab import files"
      ]
    },
    {
      "cell_type": "code",
      "execution_count": 2,
      "metadata": {
        "colab": {
          "base_uri": "https://localhost:8080/",
          "height": 73
        },
        "id": "aDNFVIdn71AU",
        "outputId": "74c91c5e-bd85-4016-f272-1ee73ecf1a16"
      },
      "outputs": [
        {
          "output_type": "display_data",
          "data": {
            "text/plain": [
              "<IPython.core.display.HTML object>"
            ],
            "text/html": [
              "\n",
              "     <input type=\"file\" id=\"files-2a593da3-f989-49ed-890a-e75f37de9ded\" name=\"files[]\" multiple disabled\n",
              "        style=\"border:none\" />\n",
              "     <output id=\"result-2a593da3-f989-49ed-890a-e75f37de9ded\">\n",
              "      Upload widget is only available when the cell has been executed in the\n",
              "      current browser session. Please rerun this cell to enable.\n",
              "      </output>\n",
              "      <script>// Copyright 2017 Google LLC\n",
              "//\n",
              "// Licensed under the Apache License, Version 2.0 (the \"License\");\n",
              "// you may not use this file except in compliance with the License.\n",
              "// You may obtain a copy of the License at\n",
              "//\n",
              "//      http://www.apache.org/licenses/LICENSE-2.0\n",
              "//\n",
              "// Unless required by applicable law or agreed to in writing, software\n",
              "// distributed under the License is distributed on an \"AS IS\" BASIS,\n",
              "// WITHOUT WARRANTIES OR CONDITIONS OF ANY KIND, either express or implied.\n",
              "// See the License for the specific language governing permissions and\n",
              "// limitations under the License.\n",
              "\n",
              "/**\n",
              " * @fileoverview Helpers for google.colab Python module.\n",
              " */\n",
              "(function(scope) {\n",
              "function span(text, styleAttributes = {}) {\n",
              "  const element = document.createElement('span');\n",
              "  element.textContent = text;\n",
              "  for (const key of Object.keys(styleAttributes)) {\n",
              "    element.style[key] = styleAttributes[key];\n",
              "  }\n",
              "  return element;\n",
              "}\n",
              "\n",
              "// Max number of bytes which will be uploaded at a time.\n",
              "const MAX_PAYLOAD_SIZE = 100 * 1024;\n",
              "\n",
              "function _uploadFiles(inputId, outputId) {\n",
              "  const steps = uploadFilesStep(inputId, outputId);\n",
              "  const outputElement = document.getElementById(outputId);\n",
              "  // Cache steps on the outputElement to make it available for the next call\n",
              "  // to uploadFilesContinue from Python.\n",
              "  outputElement.steps = steps;\n",
              "\n",
              "  return _uploadFilesContinue(outputId);\n",
              "}\n",
              "\n",
              "// This is roughly an async generator (not supported in the browser yet),\n",
              "// where there are multiple asynchronous steps and the Python side is going\n",
              "// to poll for completion of each step.\n",
              "// This uses a Promise to block the python side on completion of each step,\n",
              "// then passes the result of the previous step as the input to the next step.\n",
              "function _uploadFilesContinue(outputId) {\n",
              "  const outputElement = document.getElementById(outputId);\n",
              "  const steps = outputElement.steps;\n",
              "\n",
              "  const next = steps.next(outputElement.lastPromiseValue);\n",
              "  return Promise.resolve(next.value.promise).then((value) => {\n",
              "    // Cache the last promise value to make it available to the next\n",
              "    // step of the generator.\n",
              "    outputElement.lastPromiseValue = value;\n",
              "    return next.value.response;\n",
              "  });\n",
              "}\n",
              "\n",
              "/**\n",
              " * Generator function which is called between each async step of the upload\n",
              " * process.\n",
              " * @param {string} inputId Element ID of the input file picker element.\n",
              " * @param {string} outputId Element ID of the output display.\n",
              " * @return {!Iterable<!Object>} Iterable of next steps.\n",
              " */\n",
              "function* uploadFilesStep(inputId, outputId) {\n",
              "  const inputElement = document.getElementById(inputId);\n",
              "  inputElement.disabled = false;\n",
              "\n",
              "  const outputElement = document.getElementById(outputId);\n",
              "  outputElement.innerHTML = '';\n",
              "\n",
              "  const pickedPromise = new Promise((resolve) => {\n",
              "    inputElement.addEventListener('change', (e) => {\n",
              "      resolve(e.target.files);\n",
              "    });\n",
              "  });\n",
              "\n",
              "  const cancel = document.createElement('button');\n",
              "  inputElement.parentElement.appendChild(cancel);\n",
              "  cancel.textContent = 'Cancel upload';\n",
              "  const cancelPromise = new Promise((resolve) => {\n",
              "    cancel.onclick = () => {\n",
              "      resolve(null);\n",
              "    };\n",
              "  });\n",
              "\n",
              "  // Wait for the user to pick the files.\n",
              "  const files = yield {\n",
              "    promise: Promise.race([pickedPromise, cancelPromise]),\n",
              "    response: {\n",
              "      action: 'starting',\n",
              "    }\n",
              "  };\n",
              "\n",
              "  cancel.remove();\n",
              "\n",
              "  // Disable the input element since further picks are not allowed.\n",
              "  inputElement.disabled = true;\n",
              "\n",
              "  if (!files) {\n",
              "    return {\n",
              "      response: {\n",
              "        action: 'complete',\n",
              "      }\n",
              "    };\n",
              "  }\n",
              "\n",
              "  for (const file of files) {\n",
              "    const li = document.createElement('li');\n",
              "    li.append(span(file.name, {fontWeight: 'bold'}));\n",
              "    li.append(span(\n",
              "        `(${file.type || 'n/a'}) - ${file.size} bytes, ` +\n",
              "        `last modified: ${\n",
              "            file.lastModifiedDate ? file.lastModifiedDate.toLocaleDateString() :\n",
              "                                    'n/a'} - `));\n",
              "    const percent = span('0% done');\n",
              "    li.appendChild(percent);\n",
              "\n",
              "    outputElement.appendChild(li);\n",
              "\n",
              "    const fileDataPromise = new Promise((resolve) => {\n",
              "      const reader = new FileReader();\n",
              "      reader.onload = (e) => {\n",
              "        resolve(e.target.result);\n",
              "      };\n",
              "      reader.readAsArrayBuffer(file);\n",
              "    });\n",
              "    // Wait for the data to be ready.\n",
              "    let fileData = yield {\n",
              "      promise: fileDataPromise,\n",
              "      response: {\n",
              "        action: 'continue',\n",
              "      }\n",
              "    };\n",
              "\n",
              "    // Use a chunked sending to avoid message size limits. See b/62115660.\n",
              "    let position = 0;\n",
              "    do {\n",
              "      const length = Math.min(fileData.byteLength - position, MAX_PAYLOAD_SIZE);\n",
              "      const chunk = new Uint8Array(fileData, position, length);\n",
              "      position += length;\n",
              "\n",
              "      const base64 = btoa(String.fromCharCode.apply(null, chunk));\n",
              "      yield {\n",
              "        response: {\n",
              "          action: 'append',\n",
              "          file: file.name,\n",
              "          data: base64,\n",
              "        },\n",
              "      };\n",
              "\n",
              "      let percentDone = fileData.byteLength === 0 ?\n",
              "          100 :\n",
              "          Math.round((position / fileData.byteLength) * 100);\n",
              "      percent.textContent = `${percentDone}% done`;\n",
              "\n",
              "    } while (position < fileData.byteLength);\n",
              "  }\n",
              "\n",
              "  // All done.\n",
              "  yield {\n",
              "    response: {\n",
              "      action: 'complete',\n",
              "    }\n",
              "  };\n",
              "}\n",
              "\n",
              "scope.google = scope.google || {};\n",
              "scope.google.colab = scope.google.colab || {};\n",
              "scope.google.colab._files = {\n",
              "  _uploadFiles,\n",
              "  _uploadFilesContinue,\n",
              "};\n",
              "})(self);\n",
              "</script> "
            ]
          },
          "metadata": {}
        },
        {
          "output_type": "stream",
          "name": "stdout",
          "text": [
            "Saving data.csv to data.csv\n"
          ]
        }
      ],
      "source": [
        "upload = files.upload()\n",
        "predata = pd.read_csv('data.csv')\n",
        "predata = predata[['Year', 'Value']]\n",
        "data = predata.groupby('Year')['Value'].mean().reset_index()"
      ]
    },
    {
      "cell_type": "code",
      "execution_count": 3,
      "metadata": {
        "id": "DX26NGYW77fv"
      },
      "outputs": [],
      "source": [
        "train = data[data['Year'] < 2011]\n",
        "test = data[data['Year'] >= 2011]\n",
        "\n",
        "scaler = MinMaxScaler()\n",
        "train = scaler.fit_transform(train)\n",
        "test = scaler.transform(test)\n",
        "\n",
        "x_train = train[:, :-1]\n",
        "y_train = train[:, -1]\n",
        "x_test = test[:, :-1]\n",
        "y_test = test[:, -1]\n",
        "\n",
        "x_train = np.reshape(x_train, (x_train.shape[0], 1, x_train.shape[1]))\n",
        "x_test = np.reshape(x_test, (x_test.shape[0], 1, x_test.shape[1]))"
      ]
    },
    {
      "cell_type": "code",
      "execution_count": 4,
      "metadata": {
        "id": "YVfthuV_8Tka"
      },
      "outputs": [],
      "source": [
        "n_qubits = 6\n",
        "dev = qml.device(\"default.qubit\", wires=n_qubits)\n",
        "\n",
        "@qml.qnode(dev, interface='tf', diff_method='backprop')\n",
        "def quantum_circuit(inputs, weights):\n",
        "    qml.templates.AngleEmbedding(inputs, wires=range(n_qubits))\n",
        "    qml.templates.BasicEntanglerLayers(weights, wires=range(n_qubits))\n",
        "    return [qml.expval(qml.PauliZ(i)) for i in range(n_qubits)]\n",
        "\n",
        "weight_shapes = {\"weights\": (8, n_qubits)}"
      ]
    },
    {
      "cell_type": "code",
      "execution_count": 5,
      "metadata": {
        "id": "rZ_gymLB81RV",
        "collapsed": true
      },
      "outputs": [],
      "source": [
        "class QuantumRNNCell(tf.keras.layers.AbstractRNNCell):\n",
        "    def __init__(self, **kwargs):\n",
        "        super(QuantumRNNCell, self).__init__(**kwargs)\n",
        "        self.q_weights_real = self.add_weight(shape=(8, n_qubits), initializer=\"random_normal\", trainable=True, dtype=tf.float64, regularizer=regularizers.l2(0.01))\n",
        "        self.q_weights_imag = self.add_weight(shape=(8, n_qubits), initializer=\"random_normal\", trainable=True, dtype=tf.float64, regularizer=regularizers.l2(0.01))\n",
        "        self._state_size = n_qubits\n",
        "        self._output_size = n_qubits\n",
        "\n",
        "    @property\n",
        "    def state_size(self):\n",
        "        return self._state_size\n",
        "\n",
        "    @property\n",
        "    def output_size(self):\n",
        "        return self._output_size\n",
        "\n",
        "    def call(self, inputs, states):\n",
        "        states = states[0]\n",
        "        inputs = tf.cast(inputs, tf.complex128)\n",
        "        inputs = tf.reshape(inputs, [-1, inputs.shape[-1]])\n",
        "        weights = tf.complex(self.q_weights_real, self.q_weights_imag)\n",
        "\n",
        "        def circuit_map(input):\n",
        "            result = quantum_circuit(input, weights)\n",
        "            return result\n",
        "\n",
        "        outputs = tf.vectorized_map(circuit_map, inputs)\n",
        "        outputs = tf.math.real(outputs)\n",
        "        outputs = tf.reshape(outputs, [-1, self.output_size])\n",
        "        new_states = outputs\n",
        "        return outputs, [new_states]\n",
        "\n",
        "    def get_initial_state(self, inputs=None, batch_size=None, dtype=tf.float64):\n",
        "        return tf.zeros((batch_size, self.state_size), dtype=tf.float64)\n",
        "\n",
        "quantum_rnn_cell = QuantumRNNCell()"
      ]
    },
    {
      "cell_type": "code",
      "source": [
        "model = Sequential()\n",
        "model.add(RNN(quantum_rnn_cell, return_sequences=True, input_shape=(x_train.shape[1], x_train.shape[2])))\n",
        "model.add(LSTM(100, return_sequences=True))\n",
        "model.add(LSTM(100, return_sequences=False))\n",
        "model.add(Dense(1))\n",
        "\n",
        "model.compile(optimizer='adam', loss='mean_squared_error')\n",
        "history = model.fit(x_train, y_train, batch_size=24, epochs=50)"
      ],
      "metadata": {
        "colab": {
          "base_uri": "https://localhost:8080/"
        },
        "id": "ugkTc184Me5f",
        "outputId": "10d02d2e-b698-4dc1-a3fc-2ca56f0a301e"
      },
      "execution_count": 6,
      "outputs": [
        {
          "output_type": "stream",
          "name": "stderr",
          "text": [
            "WARNING:tensorflow:AutoGraph could not transform <function _gcd_import at 0x7a7adfcbf400> and will run it as-is.\n",
            "Cause: Unable to locate the source code of <function _gcd_import at 0x7a7adfcbf400>. Note that functions defined in certain environments, like the interactive Python shell, do not expose their source code. If that is the case, you should define them in a .py source file. If you are certain the code is graph-compatible, wrap the call using @tf.autograph.experimental.do_not_convert. Original error: could not get source code\n",
            "To silence this warning, decorate the function with @tf.autograph.experimental.do_not_convert\n"
          ]
        },
        {
          "output_type": "stream",
          "name": "stdout",
          "text": [
            "WARNING: AutoGraph could not transform <function _gcd_import at 0x7a7adfcbf400> and will run it as-is.\n",
            "Cause: Unable to locate the source code of <function _gcd_import at 0x7a7adfcbf400>. Note that functions defined in certain environments, like the interactive Python shell, do not expose their source code. If that is the case, you should define them in a .py source file. If you are certain the code is graph-compatible, wrap the call using @tf.autograph.experimental.do_not_convert. Original error: could not get source code\n",
            "To silence this warning, decorate the function with @tf.autograph.experimental.do_not_convert\n"
          ]
        },
        {
          "output_type": "stream",
          "name": "stderr",
          "text": [
            "WARNING:tensorflow:AutoGraph could not transform <function _c3_mro at 0x7a7adfbf04c0> and will run it as-is.\n",
            "Cause: for/else statement not yet supported\n",
            "To silence this warning, decorate the function with @tf.autograph.experimental.do_not_convert\n"
          ]
        },
        {
          "output_type": "stream",
          "name": "stdout",
          "text": [
            "WARNING: AutoGraph could not transform <function _c3_mro at 0x7a7adfbf04c0> and will run it as-is.\n",
            "Cause: for/else statement not yet supported\n",
            "To silence this warning, decorate the function with @tf.autograph.experimental.do_not_convert\n",
            "Epoch 1/50\n",
            "3/3 [==============================] - 103s 84ms/step - loss: 0.2577\n",
            "Epoch 2/50\n",
            "3/3 [==============================] - 0s 72ms/step - loss: 0.2163\n",
            "Epoch 3/50\n",
            "3/3 [==============================] - 0s 67ms/step - loss: 0.1758\n",
            "Epoch 4/50\n",
            "3/3 [==============================] - 0s 69ms/step - loss: 0.1412\n",
            "Epoch 5/50\n",
            "3/3 [==============================] - 0s 68ms/step - loss: 0.1150\n",
            "Epoch 6/50\n",
            "3/3 [==============================] - 0s 63ms/step - loss: 0.0977\n",
            "Epoch 7/50\n",
            "3/3 [==============================] - 0s 69ms/step - loss: 0.0913\n",
            "Epoch 8/50\n",
            "3/3 [==============================] - 0s 68ms/step - loss: 0.0947\n",
            "Epoch 9/50\n",
            "3/3 [==============================] - 0s 86ms/step - loss: 0.0941\n",
            "Epoch 10/50\n",
            "3/3 [==============================] - 0s 93ms/step - loss: 0.0985\n",
            "Epoch 11/50\n",
            "3/3 [==============================] - 0s 109ms/step - loss: 0.0952\n",
            "Epoch 12/50\n",
            "3/3 [==============================] - 0s 108ms/step - loss: 0.0898\n",
            "Epoch 13/50\n",
            "3/3 [==============================] - 0s 119ms/step - loss: 0.0887\n",
            "Epoch 14/50\n",
            "3/3 [==============================] - 0s 102ms/step - loss: 0.0940\n",
            "Epoch 15/50\n",
            "3/3 [==============================] - 0s 118ms/step - loss: 0.0893\n",
            "Epoch 16/50\n",
            "3/3 [==============================] - 0s 109ms/step - loss: 0.0930\n",
            "Epoch 17/50\n",
            "3/3 [==============================] - 0s 112ms/step - loss: 0.0952\n",
            "Epoch 18/50\n",
            "3/3 [==============================] - 0s 76ms/step - loss: 0.0933\n",
            "Epoch 19/50\n",
            "3/3 [==============================] - 0s 72ms/step - loss: 0.0896\n",
            "Epoch 20/50\n",
            "3/3 [==============================] - 0s 73ms/step - loss: 0.0898\n",
            "Epoch 21/50\n",
            "3/3 [==============================] - 0s 69ms/step - loss: 0.0894\n",
            "Epoch 22/50\n",
            "3/3 [==============================] - 0s 69ms/step - loss: 0.0930\n",
            "Epoch 23/50\n",
            "3/3 [==============================] - 0s 75ms/step - loss: 0.0945\n",
            "Epoch 24/50\n",
            "3/3 [==============================] - 0s 69ms/step - loss: 0.0942\n",
            "Epoch 25/50\n",
            "3/3 [==============================] - 0s 72ms/step - loss: 0.0915\n",
            "Epoch 26/50\n",
            "3/3 [==============================] - 0s 67ms/step - loss: 0.0899\n",
            "Epoch 27/50\n",
            "3/3 [==============================] - 0s 67ms/step - loss: 0.0883\n",
            "Epoch 28/50\n",
            "3/3 [==============================] - 0s 73ms/step - loss: 0.0915\n",
            "Epoch 29/50\n",
            "3/3 [==============================] - 0s 70ms/step - loss: 0.0913\n",
            "Epoch 30/50\n",
            "3/3 [==============================] - 0s 79ms/step - loss: 0.0912\n",
            "Epoch 31/50\n",
            "3/3 [==============================] - 0s 68ms/step - loss: 0.0904\n",
            "Epoch 32/50\n",
            "3/3 [==============================] - 0s 68ms/step - loss: 0.0918\n",
            "Epoch 33/50\n",
            "3/3 [==============================] - 0s 76ms/step - loss: 0.0921\n",
            "Epoch 34/50\n",
            "3/3 [==============================] - 0s 67ms/step - loss: 0.0888\n",
            "Epoch 35/50\n",
            "3/3 [==============================] - 0s 76ms/step - loss: 0.0891\n",
            "Epoch 36/50\n",
            "3/3 [==============================] - 0s 70ms/step - loss: 0.0917\n",
            "Epoch 37/50\n",
            "3/3 [==============================] - 0s 71ms/step - loss: 0.0893\n",
            "Epoch 38/50\n",
            "3/3 [==============================] - 0s 69ms/step - loss: 0.0908\n",
            "Epoch 39/50\n",
            "3/3 [==============================] - 0s 75ms/step - loss: 0.0902\n",
            "Epoch 40/50\n",
            "3/3 [==============================] - 0s 71ms/step - loss: 0.0915\n",
            "Epoch 41/50\n",
            "3/3 [==============================] - 0s 74ms/step - loss: 0.0904\n",
            "Epoch 42/50\n",
            "3/3 [==============================] - 0s 77ms/step - loss: 0.0903\n",
            "Epoch 43/50\n",
            "3/3 [==============================] - 0s 69ms/step - loss: 0.0909\n",
            "Epoch 44/50\n",
            "3/3 [==============================] - 0s 71ms/step - loss: 0.0895\n",
            "Epoch 45/50\n",
            "3/3 [==============================] - 0s 67ms/step - loss: 0.0894\n",
            "Epoch 46/50\n",
            "3/3 [==============================] - 0s 67ms/step - loss: 0.0918\n",
            "Epoch 47/50\n",
            "3/3 [==============================] - 0s 76ms/step - loss: 0.0890\n",
            "Epoch 48/50\n",
            "3/3 [==============================] - 0s 70ms/step - loss: 0.0898\n",
            "Epoch 49/50\n",
            "3/3 [==============================] - 0s 69ms/step - loss: 0.0891\n",
            "Epoch 50/50\n",
            "3/3 [==============================] - 0s 66ms/step - loss: 0.0890\n"
          ]
        }
      ]
    },
    {
      "cell_type": "code",
      "execution_count": 7,
      "metadata": {
        "colab": {
          "base_uri": "https://localhost:8080/"
        },
        "id": "KgWUx6sT8jbJ",
        "outputId": "6b78702d-be5d-4d8e-b3a5-d05ae82e8e85"
      },
      "outputs": [
        {
          "output_type": "stream",
          "name": "stdout",
          "text": [
            "1/1 [==============================] - 39s 39s/step\n"
          ]
        }
      ],
      "source": [
        "y_pred = model.predict(x_test)"
      ]
    },
    {
      "cell_type": "code",
      "execution_count": 8,
      "metadata": {
        "id": "wGfxnMmV8nis"
      },
      "outputs": [],
      "source": [
        "test_df = pd.DataFrame(test, columns=['Year', 'Value'])\n",
        "test_df['Value'] = y_test\n",
        "y_test_inverse = scaler.inverse_transform(test_df)[:, -1]\n",
        "\n",
        "pred_df = pd.DataFrame(test, columns=['Year', 'Value'])\n",
        "pred_df['Value'] = y_pred\n",
        "y_pred_inverse = scaler.inverse_transform(pred_df)[:, -1]"
      ]
    },
    {
      "cell_type": "code",
      "source": [
        "print(f\"predictions: {y_pred_inverse}\")"
      ],
      "metadata": {
        "colab": {
          "base_uri": "https://localhost:8080/"
        },
        "id": "w6qskzt6H7Gc",
        "outputId": "e7730a8b-c3d4-40ac-8b8f-42823c94a2af"
      },
      "execution_count": 9,
      "outputs": [
        {
          "output_type": "stream",
          "name": "stdout",
          "text": [
            "predictions: [346.02544298 346.02544298 346.05617132 346.06360362 346.05220371\n",
            " 346.04544788 342.05793116 335.93023862 337.27283054 346.07327674\n",
            " 345.24208281 336.68649314 334.46014489]\n"
          ]
        }
      ]
    },
    {
      "cell_type": "code",
      "execution_count": 12,
      "metadata": {
        "id": "7LyAjJ278lbK"
      },
      "outputs": [],
      "source": [
        "#GRAPHING THE PREDICTIONS AGAINST REAL MEASURED VALUES FROM data.csv\n",
        "#Year = range(2011, 2024)\n",
        "#plt.plot(data['Year'], data['Value'], label='Real Data')\n",
        "#plt.plot(data['Year'][data['Year'] >= 2011], y_pred_inverse, label='Predicted Values')\n",
        "#plt.title(\"Actual vs Predicted Values by the QRNN Model\")\n",
        "#plt.xlabel(\"Years\")\n",
        "#plt.ylabel(\"CO2 Emissions (ppm)\")\n",
        "#plt.grid(True)\n",
        "#plt.legend()\n",
        "#plt.xlim(data['Year'].min(), data['Year'].max())\n",
        "#plt.ylim(data['Value'].min(), data['Value'].max())\n",
        "#plt.show()"
      ]
    },
    {
      "cell_type": "code",
      "execution_count": 11,
      "metadata": {
        "id": "xQaxZo688rsD",
        "colab": {
          "base_uri": "https://localhost:8080/"
        },
        "outputId": "51a2d12b-eabc-469a-e597-b0ca5afd441d"
      },
      "outputs": [
        {
          "output_type": "stream",
          "name": "stdout",
          "text": [
            "Test RMSE: 64.90\n"
          ]
        }
      ],
      "source": [
        "rmse = np.sqrt(np.mean((y_pred_inverse - y_test_inverse)**2))\n",
        "print('Test RMSE: %.2f' % rmse)"
      ]
    }
  ],
  "metadata": {
    "colab": {
      "provenance": [],
      "gpuType": "T4"
    },
    "kernelspec": {
      "display_name": "Python 3",
      "name": "python3"
    },
    "language_info": {
      "name": "python"
    },
    "accelerator": "GPU"
  },
  "nbformat": 4,
  "nbformat_minor": 0
}
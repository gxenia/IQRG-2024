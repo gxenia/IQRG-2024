{
  "nbformat": 4,
  "nbformat_minor": 0,
  "metadata": {
    "colab": {
      "provenance": [],
      "collapsed_sections": [
        "Xmhqh-rRczZO"
      ]
    },
    "kernelspec": {
      "name": "python3",
      "display_name": "Python 3"
    },
    "language_info": {
      "name": "python"
    }
  },
  "cells": [
    {
      "cell_type": "markdown",
      "source": [
        "# Linear Search vs Grover's Search Algorithm"
      ],
      "metadata": {
        "id": "8c8PUYhecYy6"
      }
    },
    {
      "cell_type": "markdown",
      "source": [
        "## Installations"
      ],
      "metadata": {
        "id": "Xmhqh-rRczZO"
      }
    },
    {
      "cell_type": "code",
      "source": [
        "pip install --upgrade pip"
      ],
      "metadata": {
        "colab": {
          "base_uri": "https://localhost:8080/"
        },
        "id": "fAvZgXZEcuaj",
        "outputId": "7c77128d-6ad6-40d0-a876-18d5c71e24ee"
      },
      "execution_count": 1,
      "outputs": [
        {
          "output_type": "stream",
          "name": "stdout",
          "text": [
            "Requirement already satisfied: pip in /usr/local/lib/python3.10/dist-packages (23.1.2)\n",
            "Collecting pip\n",
            "  Downloading pip-24.1-py3-none-any.whl (1.8 MB)\n",
            "\u001b[2K     \u001b[90m━━━━━━━━━━━━━━━━━━━━━━━━━━━━━━━━━━━━━━━━\u001b[0m \u001b[32m1.8/1.8 MB\u001b[0m \u001b[31m8.3 MB/s\u001b[0m eta \u001b[36m0:00:00\u001b[0m\n",
            "\u001b[?25hInstalling collected packages: pip\n",
            "  Attempting uninstall: pip\n",
            "    Found existing installation: pip 23.1.2\n",
            "    Uninstalling pip-23.1.2:\n",
            "      Successfully uninstalled pip-23.1.2\n",
            "Successfully installed pip-24.1\n"
          ]
        }
      ]
    },
    {
      "cell_type": "code",
      "source": [
        "pip install qiskit[visualization]==0.46 --quiet"
      ],
      "metadata": {
        "colab": {
          "base_uri": "https://localhost:8080/"
        },
        "id": "Y_-B-5uhcfa1",
        "outputId": "c2ccc079-5c00-4c5d-99ad-c8489a8e9ce5"
      },
      "execution_count": 2,
      "outputs": [
        {
          "output_type": "stream",
          "name": "stdout",
          "text": [
            "\u001b[?25l     \u001b[90m━━━━━━━━━━━━━━━━━━━━━━━━━━━━━━━━━━━━━━━━\u001b[0m \u001b[32m0.0/162.6 kB\u001b[0m \u001b[31m?\u001b[0m eta \u001b[36m-:--:--\u001b[0m\r\u001b[2K     \u001b[91m━━━━━━━━━━━━━━━━━━━━━━━━━━━\u001b[0m\u001b[91m╸\u001b[0m\u001b[90m━━━━━━━━━━━━\u001b[0m \u001b[32m112.6/162.6 kB\u001b[0m \u001b[31m5.3 MB/s\u001b[0m eta \u001b[36m0:00:01\u001b[0m\r\u001b[2K     \u001b[90m━━━━━━━━━━━━━━━━━━━━━━━━━━━━━━━━━━━━━━━━\u001b[0m \u001b[32m162.6/162.6 kB\u001b[0m \u001b[31m2.8 MB/s\u001b[0m eta \u001b[36m0:00:00\u001b[0m\n",
            "\u001b[?25h  Preparing metadata (setup.py) ... \u001b[?25l\u001b[?25hdone\n",
            "\u001b[2K   \u001b[90m━━━━━━━━━━━━━━━━━━━━━━━━━━━━━━━━━━━━━━━━\u001b[0m \u001b[32m6.3/6.3 MB\u001b[0m \u001b[31m38.7 MB/s\u001b[0m eta \u001b[36m0:00:00\u001b[0m\n",
            "\u001b[2K   \u001b[90m━━━━━━━━━━━━━━━━━━━━━━━━━━━━━━━━━━━━━━━━\u001b[0m \u001b[32m116.3/116.3 kB\u001b[0m \u001b[31m7.0 MB/s\u001b[0m eta \u001b[36m0:00:00\u001b[0m\n",
            "\u001b[2K   \u001b[90m━━━━━━━━━━━━━━━━━━━━━━━━━━━━━━━━━━━━━━━━\u001b[0m \u001b[32m49.6/49.6 kB\u001b[0m \u001b[31m2.2 MB/s\u001b[0m eta \u001b[36m0:00:00\u001b[0m\n",
            "\u001b[2K   \u001b[90m━━━━━━━━━━━━━━━━━━━━━━━━━━━━━━━━━━━━━━━━\u001b[0m \u001b[32m2.1/2.1 MB\u001b[0m \u001b[31m38.6 MB/s\u001b[0m eta \u001b[36m0:00:00\u001b[0m\n",
            "\u001b[2K   \u001b[90m━━━━━━━━━━━━━━━━━━━━━━━━━━━━━━━━━━━━━━━━\u001b[0m \u001b[32m49.7/49.7 kB\u001b[0m \u001b[31m3.8 MB/s\u001b[0m eta \u001b[36m0:00:00\u001b[0m\n",
            "\u001b[2K   \u001b[90m━━━━━━━━━━━━━━━━━━━━━━━━━━━━━━━━━━━━━━━━\u001b[0m \u001b[32m39.4/39.4 MB\u001b[0m \u001b[31m12.5 MB/s\u001b[0m eta \u001b[36m0:00:00\u001b[0m\n",
            "\u001b[2K   \u001b[90m━━━━━━━━━━━━━━━━━━━━━━━━━━━━━━━━━━━━━━━━\u001b[0m \u001b[32m107.5/107.5 kB\u001b[0m \u001b[31m6.9 MB/s\u001b[0m eta \u001b[36m0:00:00\u001b[0m\n",
            "\u001b[2K   \u001b[90m━━━━━━━━━━━━━━━━━━━━━━━━━━━━━━━━━━━━━━━━\u001b[0m \u001b[32m1.6/1.6 MB\u001b[0m \u001b[31m29.1 MB/s\u001b[0m eta \u001b[36m0:00:00\u001b[0m\n",
            "\u001b[?25h  Building wheel for pylatexenc (setup.py) ... \u001b[?25l\u001b[?25hdone\n",
            "\u001b[33mWARNING: Running pip as the 'root' user can result in broken permissions and conflicting behaviour with the system package manager, possibly rendering your system unusable.It is recommended to use a virtual environment instead: https://pip.pypa.io/warnings/venv. Use the --root-user-action option if you know what you are doing and want to suppress this warning.\u001b[0m\u001b[33m\n",
            "\u001b[0m"
          ]
        }
      ]
    },
    {
      "cell_type": "code",
      "source": [
        "pip install qiskit-aer --quiet"
      ],
      "metadata": {
        "colab": {
          "base_uri": "https://localhost:8080/"
        },
        "id": "AneTdf93dDWf",
        "outputId": "f7bb1d30-63bf-464c-ce94-4ea21f3f1693"
      },
      "execution_count": 3,
      "outputs": [
        {
          "output_type": "stream",
          "name": "stdout",
          "text": [
            "\u001b[2K   \u001b[90m━━━━━━━━━━━━━━━━━━━━━━━━━━━━━━━━━━━━━━━━\u001b[0m \u001b[32m12.4/12.4 MB\u001b[0m \u001b[31m57.7 MB/s\u001b[0m eta \u001b[36m0:00:00\u001b[0m\n",
            "\u001b[?25h\u001b[33mWARNING: Running pip as the 'root' user can result in broken permissions and conflicting behaviour with the system package manager, possibly rendering your system unusable.It is recommended to use a virtual environment instead: https://pip.pypa.io/warnings/venv. Use the --root-user-action option if you know what you are doing and want to suppress this warning.\u001b[0m\u001b[33m\n",
            "\u001b[0m"
          ]
        }
      ]
    },
    {
      "cell_type": "code",
      "source": [
        "pip install qiskit --quiet"
      ],
      "metadata": {
        "colab": {
          "base_uri": "https://localhost:8080/"
        },
        "id": "QQ2XxmvndG5v",
        "outputId": "d8fe9ae9-c9d9-47a7-e178-8ba38f0eb12b"
      },
      "execution_count": 4,
      "outputs": [
        {
          "output_type": "stream",
          "name": "stdout",
          "text": [
            "\u001b[33mWARNING: Running pip as the 'root' user can result in broken permissions and conflicting behaviour with the system package manager, possibly rendering your system unusable.It is recommended to use a virtual environment instead: https://pip.pypa.io/warnings/venv. Use the --root-user-action option if you know what you are doing and want to suppress this warning.\u001b[0m\u001b[33m\n",
            "\u001b[0m"
          ]
        }
      ]
    },
    {
      "cell_type": "code",
      "source": [
        "pip install qiskit-ibm-provider --quiet"
      ],
      "metadata": {
        "colab": {
          "base_uri": "https://localhost:8080/"
        },
        "id": "kxS793nfda78",
        "outputId": "990a7211-0c79-435a-a56f-85a97295e71f"
      },
      "execution_count": 5,
      "outputs": [
        {
          "output_type": "stream",
          "name": "stdout",
          "text": [
            "\u001b[?25l   \u001b[90m━━━━━━━━━━━━━━━━━━━━━━━━━━━━━━━━━━━━━━━━\u001b[0m \u001b[32m0.0/249.9 kB\u001b[0m \u001b[31m?\u001b[0m eta \u001b[36m-:--:--\u001b[0m\r\u001b[2K   \u001b[91m━━━━━━━━━━━━━━━━━━━\u001b[0m\u001b[91m╸\u001b[0m\u001b[90m━━━━━━━━━━━━━━━━━━━━\u001b[0m \u001b[32m122.9/249.9 kB\u001b[0m \u001b[31m3.5 MB/s\u001b[0m eta \u001b[36m0:00:01\u001b[0m\r\u001b[2K   \u001b[90m━━━━━━━━━━━━━━━━━━━━━━━━━━━━━━━━━━━━━━━━\u001b[0m \u001b[32m249.9/249.9 kB\u001b[0m \u001b[31m4.0 MB/s\u001b[0m eta \u001b[36m0:00:00\u001b[0m\n",
            "\u001b[2K   \u001b[90m━━━━━━━━━━━━━━━━━━━━━━━━━━━━━━━━━━━━━━━━\u001b[0m \u001b[32m130.2/130.2 kB\u001b[0m \u001b[31m10.4 MB/s\u001b[0m eta \u001b[36m0:00:00\u001b[0m\n",
            "\u001b[2K   \u001b[90m━━━━━━━━━━━━━━━━━━━━━━━━━━━━━━━━━━━━━━━━\u001b[0m \u001b[32m130.4/130.4 kB\u001b[0m \u001b[31m10.0 MB/s\u001b[0m eta \u001b[36m0:00:00\u001b[0m\n",
            "\u001b[?25h\u001b[33mWARNING: Running pip as the 'root' user can result in broken permissions and conflicting behaviour with the system package manager, possibly rendering your system unusable.It is recommended to use a virtual environment instead: https://pip.pypa.io/warnings/venv. Use the --root-user-action option if you know what you are doing and want to suppress this warning.\u001b[0m\u001b[33m\n",
            "\u001b[0m"
          ]
        }
      ]
    },
    {
      "cell_type": "code",
      "source": [
        "pip install pandas matplotlib seaborn\n"
      ],
      "metadata": {
        "colab": {
          "base_uri": "https://localhost:8080/"
        },
        "id": "yDvmpzmEkoVB",
        "outputId": "e9fefdaa-04af-466b-c985-93dcc2e3eaed"
      },
      "execution_count": 6,
      "outputs": [
        {
          "output_type": "stream",
          "name": "stdout",
          "text": [
            "Requirement already satisfied: pandas in /usr/local/lib/python3.10/dist-packages (2.0.3)\n",
            "Requirement already satisfied: matplotlib in /usr/local/lib/python3.10/dist-packages (3.7.1)\n",
            "Requirement already satisfied: seaborn in /usr/local/lib/python3.10/dist-packages (0.13.1)\n",
            "Requirement already satisfied: python-dateutil>=2.8.2 in /usr/local/lib/python3.10/dist-packages (from pandas) (2.8.2)\n",
            "Requirement already satisfied: pytz>=2020.1 in /usr/local/lib/python3.10/dist-packages (from pandas) (2023.4)\n",
            "Requirement already satisfied: tzdata>=2022.1 in /usr/local/lib/python3.10/dist-packages (from pandas) (2024.1)\n",
            "Requirement already satisfied: numpy>=1.21.0 in /usr/local/lib/python3.10/dist-packages (from pandas) (1.25.2)\n",
            "Requirement already satisfied: contourpy>=1.0.1 in /usr/local/lib/python3.10/dist-packages (from matplotlib) (1.2.1)\n",
            "Requirement already satisfied: cycler>=0.10 in /usr/local/lib/python3.10/dist-packages (from matplotlib) (0.12.1)\n",
            "Requirement already satisfied: fonttools>=4.22.0 in /usr/local/lib/python3.10/dist-packages (from matplotlib) (4.53.0)\n",
            "Requirement already satisfied: kiwisolver>=1.0.1 in /usr/local/lib/python3.10/dist-packages (from matplotlib) (1.4.5)\n",
            "Requirement already satisfied: packaging>=20.0 in /usr/local/lib/python3.10/dist-packages (from matplotlib) (24.1)\n",
            "Requirement already satisfied: pillow>=6.2.0 in /usr/local/lib/python3.10/dist-packages (from matplotlib) (9.4.0)\n",
            "Requirement already satisfied: pyparsing>=2.3.1 in /usr/local/lib/python3.10/dist-packages (from matplotlib) (3.1.2)\n",
            "Requirement already satisfied: six>=1.5 in /usr/local/lib/python3.10/dist-packages (from python-dateutil>=2.8.2->pandas) (1.16.0)\n",
            "\u001b[33mWARNING: Running pip as the 'root' user can result in broken permissions and conflicting behaviour with the system package manager, possibly rendering your system unusable.It is recommended to use a virtual environment instead: https://pip.pypa.io/warnings/venv. Use the --root-user-action option if you know what you are doing and want to suppress this warning.\u001b[0m\u001b[33m\n",
            "\u001b[0m"
          ]
        }
      ]
    },
    {
      "cell_type": "markdown",
      "source": [
        "## Linear Search"
      ],
      "metadata": {
        "id": "sQD9VJxedofT"
      }
    },
    {
      "cell_type": "code",
      "source": [
        "import random\n",
        "import time\n",
        "import pandas as pd\n",
        "import matplotlib.pyplot as plt\n",
        "import seaborn as sns\n",
        "import math"
      ],
      "metadata": {
        "id": "xROBHX9GeLyw"
      },
      "execution_count": 8,
      "outputs": []
    },
    {
      "cell_type": "code",
      "source": [
        "def create_set(number):\n",
        "  '''\n",
        "  A function to return a list of 0s and 1s of whatever length the user inputs\n",
        "  '''\n",
        "  emptyList = []\n",
        "  for i in range(0,number):\n",
        "      emptyList.append(random.randint(0,1))\n",
        "\n",
        "  return emptyList"
      ],
      "metadata": {
        "id": "_VAaE2aJeDkR"
      },
      "execution_count": 9,
      "outputs": []
    },
    {
      "cell_type": "code",
      "source": [
        "def linear(dataset):\n",
        "  \"\"\"\n",
        "  A function that will search through each element in the list and if it is a 1\n",
        " (the marked item), its index will be added to the list called indices and that list\n",
        " will be returned\n",
        "  \"\"\"\n",
        "  indices = []\n",
        "  for i in range(0, len(dataset)):\n",
        "    if dataset[i] == 1:\n",
        "      indices.append(i)\n",
        "  return indices\n"
      ],
      "metadata": {
        "id": "yTRC26IfepR9"
      },
      "execution_count": 10,
      "outputs": []
    },
    {
      "cell_type": "code",
      "source": [
        "# creates an empty list to store the different execution times\n",
        "times = []\n",
        "\n",
        "for i in range(0,100): # algorithm is repeated 100 times with different datasets\n",
        "  dataset = create_set(100000)\n",
        "  start_time = time.perf_counter() # stores current time of program\n",
        "  result = linear(dataset) # performs linear search\n",
        "  #print(result)\n",
        "  end_time = time.perf_counter() # stores current time of program\n",
        "  difference = end_time-start_time # finds the difference between two times to calculate the duration of the linear search\n",
        "  times.append(difference) # adds the execution time to the times list\n",
        "\n",
        "# calculates the total time taken to run algorithm 100 times\n",
        "total_time = sum(times)\n",
        "\n",
        "# calculates the average time to run the algorithm once\n",
        "average_time = total_time/100\n",
        "\n",
        "# outputs the average time rounded to 5 decimal places\n",
        "print(round(average_time,5))\n"
      ],
      "metadata": {
        "colab": {
          "base_uri": "https://localhost:8080/"
        },
        "id": "-4PzN7SSCVUs",
        "outputId": "59333d49-fd95-44a1-ce60-6f94cef6eea1"
      },
      "execution_count": 11,
      "outputs": [
        {
          "output_type": "stream",
          "name": "stdout",
          "text": [
            "0.0114\n"
          ]
        }
      ]
    },
    {
      "cell_type": "markdown",
      "source": [
        "## Plotting Data for Linear Search"
      ],
      "metadata": {
        "id": "XBhs3KHAktdQ"
      }
    },
    {
      "cell_type": "code",
      "source": [
        "# creates a pandas dataframe\n",
        "# creates a dictionary to store the time taken for algorithm to run with different dataset sizes\n",
        "data = pd.DataFrame({\n",
        "    'String Length': [100000, 200000, 300000, 400000, 500000, 600000, 700000, 800000, 900000, 1000000],\n",
        "    'Linear Time': [0.01219*100, 0.02166*100, 0.03213*100, 0.04215*100, 0.05446*100, 0.06584*100, 0.07596*100, 0.08598*100, 0.09485*100, 0.1055*100], # values multiplied by 100 so they're >1\n",
        "    'Grover Time': [math.sqrt(0.01219*100), math.sqrt(0.02166*100), math.sqrt(0.03213*100), math.sqrt(0.04215*100), math.sqrt(0.05446*100), math.sqrt(0.06584*100), math.sqrt(0.07596*100), math.sqrt(0.08598*100), math.sqrt(0.09485*100), math.sqrt(0.1055*100)]\n",
        "    # Grover has a time complexity of O(√n) so by rooting the values of time, we can estimate the time that Grover would take\n",
        "})\n",
        "\n",
        "# outputs the dataframe\n",
        "print(data)"
      ],
      "metadata": {
        "colab": {
          "base_uri": "https://localhost:8080/"
        },
        "id": "9iAuGcG1jTuM",
        "outputId": "39f0acec-23f9-42cd-85c8-775ad2834c52"
      },
      "execution_count": 25,
      "outputs": [
        {
          "output_type": "stream",
          "name": "stdout",
          "text": [
            "   String Length  Linear Time  Grover Time\n",
            "0         100000        1.219     1.104083\n",
            "1         200000        2.166     1.471734\n",
            "2         300000        3.213     1.792484\n",
            "3         400000        4.215     2.053047\n",
            "4         500000        5.446     2.333667\n",
            "5         600000        6.584     2.565931\n",
            "6         700000        7.596     2.756084\n",
            "7         800000        8.598     2.932235\n",
            "8         900000        9.485     3.079773\n",
            "9        1000000       10.550     3.248076\n"
          ]
        }
      ]
    },
    {
      "cell_type": "code",
      "source": [
        "# the melt function is used to transform the DataFrame from wide format to long format, making it suitable for Seaborn's lineplot function\n",
        "data_melted = data.melt(id_vars='String Length', var_name='Dataset', value_name='Time')\n",
        "\n",
        "# plots graph and values with labelled axis\n",
        "sns.lineplot(x='String Length', y='Time', data=data_melted, hue='Dataset', marker='o')\n",
        "plt.title(\"How the time varies with the length of a string in linear search and Grover's search\")\n",
        "plt.xlabel('String Length')\n",
        "plt.ylabel('Time (seconds)')\n",
        "plt.grid(True)\n",
        "\n",
        "# displays the graph\n",
        "plt.show()"
      ],
      "metadata": {
        "colab": {
          "base_uri": "https://localhost:8080/",
          "height": 472
        },
        "id": "EySbCS-nmzVj",
        "outputId": "f7a08b82-5391-4782-ff4d-d386a5a6fe01"
      },
      "execution_count": 24,
      "outputs": [
        {
          "output_type": "display_data",
          "data": {
            "text/plain": [
              "<Figure size 640x480 with 1 Axes>"
            ],
            "image/png": "[encoded data removed]"
          },
          "metadata": {}
        }
      ]
    },
    {
      "cell_type": "markdown",
      "source": [
        "## Grover's Search Algorithm"
      ],
      "metadata": {
        "id": "uV6Xbs4QoPTK"
      }
    },
    {
      "cell_type": "code",
      "source": [
        "from qiskit import *\n",
        "\n",
        "# define the oracle circuit with 2 qubits\n",
        "oracle = QuantumCircuit(2, name='oracle')\n",
        "\n",
        "# flip the phase of both qubits\n",
        "oracle.cz(0,1)\n",
        "\n",
        "# turn the oracle circuit into its own gate\n",
        "oracle.to_gate()\n",
        "\n",
        "# call the statevector simulator\n",
        "backend = Aer.get_backend('statevector_simulator')\n",
        "\n",
        "# define the grover circuit with 2 qubits and 2 registers\n",
        "grover_circ = QuantumCircuit(2,2)\n",
        "\n",
        "# apply H gate to both qubits to create superposition\n",
        "grover_circ.h([0,1])\n",
        "\n",
        "# add the oracle to query each state simultaneously\n",
        "grover_circ.append(oracle,[0,1])\n",
        "\n",
        "grover_circ.draw('mpl')\n",
        "\n"
      ],
      "metadata": {
        "colab": {
          "base_uri": "https://localhost:8080/",
          "height": 255
        },
        "id": "BSjlGaEKQ9TO",
        "outputId": "6a1cae67-1896-4f02-f5e3-2144522ee4db"
      },
      "execution_count": 62,
      "outputs": [
        {
          "output_type": "execute_result",
          "data": {
            "text/plain": [
              "<Figure size 370.906x284.278 with 1 Axes>"
            ],
            "image/png": "[encoded data removed]"
          },
          "metadata": {},
          "execution_count": 62
        }
      ]
    },
    {
      "cell_type": "code",
      "source": [
        "# execute the job on the simulator\n",
        "job = execute(grover_circ, backend)\n",
        "\n",
        "# retrieve results\n",
        "result = job.result()\n",
        "\n",
        "# retrieve the statevector\n",
        "sv = result.get_statevector()\n",
        "\n",
        "# round the values\n",
        "np.around(sv,2)"
      ],
      "metadata": {
        "colab": {
          "base_uri": "https://localhost:8080/"
        },
        "id": "UjpG5VSZR2Ia",
        "outputId": "266865a7-342a-4418-ad18-7e9220744a8b"
      },
      "execution_count": 63,
      "outputs": [
        {
          "output_type": "stream",
          "name": "stderr",
          "text": [
            "<ipython-input-63-f73b1b1e6664>:2: DeprecationWarning: The function ``qiskit.execute_function.execute()`` is deprecated as of qiskit 0.46.0. It will be removed in the Qiskit 1.0 release. This function combines ``transpile`` and ``backend.run``, which is covered by ``Sampler`` :mod:`~qiskit.primitives`. Alternatively, you can also run :func:`.transpile` followed by ``backend.run()``.\n",
            "  job = execute(grover_circ, backend)\n"
          ]
        },
        {
          "output_type": "execute_result",
          "data": {
            "text/plain": [
              "array([ 0.5+0.j,  0.5+0.j,  0.5+0.j, -0.5+0.j])"
            ]
          },
          "metadata": {},
          "execution_count": 63
        }
      ]
    },
    {
      "cell_type": "code",
      "source": [
        "# create reflection circuit with 2 qubits\n",
        "#\n",
        "reflection = QuantumCircuit(2, name='reflection')\n",
        "\n",
        "#\n",
        "# apply H gate to all qubits\n",
        "reflection.h([0,1])\n",
        "\n",
        "# apply a Z gate to all qubits\n",
        "reflection.z([0,1])\n",
        "\n",
        "# apply a controlled-Z gate to all qubits\n",
        "reflection.cz(0,1)\n",
        "\n",
        "# the previous three steps ensure that a negative phase is only applied to the |00> state\n",
        "\n",
        "# transform the state back to the original state by applying an H gate\n",
        "reflection.h([0,1])\n",
        "\n",
        "# turn the reflection circuit into its own gate\n",
        "reflection.to_gate()"
      ],
      "metadata": {
        "colab": {
          "base_uri": "https://localhost:8080/"
        },
        "id": "ITNa19g6SOGU",
        "outputId": "00255f4a-0589-46f0-b6a5-a6b11c7240a0"
      },
      "execution_count": 46,
      "outputs": [
        {
          "output_type": "execute_result",
          "data": {
            "text/plain": [
              "Instruction(name='reflection', num_qubits=2, num_clbits=0, params=[])"
            ]
          },
          "metadata": {},
          "execution_count": 46
        }
      ]
    },
    {
      "cell_type": "code",
      "source": [
        "reflection.draw('mpl')"
      ],
      "metadata": {
        "colab": {
          "base_uri": "https://localhost:8080/",
          "height": 191
        },
        "id": "WDzqoEoqTbOC",
        "outputId": "f95e0853-8709-42d1-dd6e-691b1fefc3ac"
      },
      "execution_count": 57,
      "outputs": [
        {
          "output_type": "execute_result",
          "data": {
            "text/plain": [
              "<Figure size 454.517x200.667 with 1 Axes>"
            ],
            "image/png": "[encoded data removed]"
          },
          "metadata": {},
          "execution_count": 57
        }
      ]
    },
    {
      "cell_type": "code",
      "source": [
        "# call the qasm simulator\n",
        "backend =  Aer.get_backend('qasm_simulator')\n",
        "\n",
        "# create circuit with 2 qubits and 2 registers\n",
        "grover_circ = QuantumCircuit(2,2)\n",
        "\n",
        "# appy H gate to both qubits to create superposition\n",
        "grover_circ.h([0,1])\n",
        "\n",
        "# add oracle gate to both qubits\n",
        "grover_circ.append(oracle,[0,1])\n",
        "\n",
        "# add reflection operator to both qubits\n",
        "grover_circ.append(reflection,[0,1])\n",
        "\n",
        "# measure the qubits\n",
        "grover_circ.measure([0,1],[0,1])\n",
        "\n",
        "# output drawing of the circuit\n",
        "grover_circ.draw('mpl')"
      ],
      "metadata": {
        "colab": {
          "base_uri": "https://localhost:8080/",
          "height": 310
        },
        "id": "gYkAddqHTvOD",
        "outputId": "66e1d8cd-f6db-4eaa-9924-38ce182de3c4"
      },
      "execution_count": 59,
      "outputs": [
        {
          "output_type": "stream",
          "name": "stderr",
          "text": [
            "/usr/local/lib/python3.10/dist-packages/qiskit/visualization/circuit/matplotlib.py:266: FutureWarning: The default matplotlib drawer scheme will be changed to \"iqp\" in a following release. To silence this warning, specify the current default explicitly as style=\"clifford\", or the new default as style=\"iqp\".\n",
            "  self._style, def_font_ratio = load_style(self._style)\n"
          ]
        },
        {
          "output_type": "execute_result",
          "data": {
            "text/plain": [
              "<Figure size 705.35x284.278 with 1 Axes>"
            ],
            "image/png": "[encoded data removed]"
          },
          "metadata": {},
          "execution_count": 59
        }
      ]
    },
    {
      "cell_type": "code",
      "source": [
        "# execute the job\n",
        "job = execute(grover_circ, backend, shots=1000)\n",
        "\n",
        "# get results\n",
        "result = job.result()\n",
        "\n",
        "# get counts\n",
        "result.get_counts()"
      ],
      "metadata": {
        "colab": {
          "base_uri": "https://localhost:8080/"
        },
        "id": "mY-rL-voUcCQ",
        "outputId": "b7758024-6402-4c0c-feb4-88a8a6deac05"
      },
      "execution_count": 60,
      "outputs": [
        {
          "output_type": "stream",
          "name": "stderr",
          "text": [
            "<ipython-input-60-d4c1968bc912>:2: DeprecationWarning: The function ``qiskit.execute_function.execute()`` is deprecated as of qiskit 0.46.0. It will be removed in the Qiskit 1.0 release. This function combines ``transpile`` and ``backend.run``, which is covered by ``Sampler`` :mod:`~qiskit.primitives`. Alternatively, you can also run :func:`.transpile` followed by ``backend.run()``.\n",
            "  job = execute(grover_circ, backend, shots=1000)\n"
          ]
        },
        {
          "output_type": "execute_result",
          "data": {
            "text/plain": [
              "{'11': 1000}"
            ]
          },
          "metadata": {},
          "execution_count": 60
        }
      ]
    },
    {
      "cell_type": "code",
      "source": [],
      "metadata": {
        "id": "CwuYlI1CUqAt"
      },
      "execution_count": null,
      "outputs": []
    }
  ]
}
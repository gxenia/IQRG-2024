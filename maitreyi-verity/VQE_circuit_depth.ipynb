{
  "nbformat": 4,
  "nbformat_minor": 0,
  "metadata": {
    "colab": {
      "provenance": []
    },
    "kernelspec": {
      "name": "python3",
      "display_name": "Python 3"
    },
    "language_info": {
      "name": "python"
    }
  },
  "cells": [
    {
      "cell_type": "code",
      "execution_count": null,
      "metadata": {
        "colab": {
          "base_uri": "https://localhost:8080/"
        },
        "id": "-ewcMIBokdvq",
        "outputId": "9e4f7d55-4564-4cfc-9b66-14dbf4b0a817"
      },
      "outputs": [
        {
          "output_type": "stream",
          "name": "stdout",
          "text": [
            "Requirement already satisfied: pip in /usr/local/lib/python3.10/dist-packages (24.1)\n",
            "\u001b[33mWARNING: Running pip as the 'root' user can result in broken permissions and conflicting behaviour with the system package manager, possibly rendering your system unusable.It is recommended to use a virtual environment instead: https://pip.pypa.io/warnings/venv. Use the --root-user-action option if you know what you are doing and want to suppress this warning.\u001b[0m\u001b[33m\n",
            "\u001b[0mRequirement already satisfied: qiskit in /usr/local/lib/python3.10/dist-packages (1.1.1)\n",
            "Requirement already satisfied: qiskit-nature in /usr/local/lib/python3.10/dist-packages (0.7.2)\n",
            "Requirement already satisfied: rustworkx>=0.14.0 in /usr/local/lib/python3.10/dist-packages (from qiskit) (0.14.2)\n",
            "Requirement already satisfied: numpy<3,>=1.17 in /usr/local/lib/python3.10/dist-packages (from qiskit) (1.25.2)\n",
            "Requirement already satisfied: scipy>=1.5 in /usr/local/lib/python3.10/dist-packages (from qiskit) (1.11.4)\n",
            "Requirement already satisfied: sympy>=1.3 in /usr/local/lib/python3.10/dist-packages (from qiskit) (1.12.1)\n",
            "Requirement already satisfied: dill>=0.3 in /usr/local/lib/python3.10/dist-packages (from qiskit) (0.3.8)\n",
            "Requirement already satisfied: python-dateutil>=2.8.0 in /usr/local/lib/python3.10/dist-packages (from qiskit) (2.8.2)\n",
            "Requirement already satisfied: stevedore>=3.0.0 in /usr/local/lib/python3.10/dist-packages (from qiskit) (5.2.0)\n",
            "Requirement already satisfied: typing-extensions in /usr/local/lib/python3.10/dist-packages (from qiskit) (4.12.2)\n",
            "Requirement already satisfied: symengine>=0.11 in /usr/local/lib/python3.10/dist-packages (from qiskit) (0.11.0)\n",
            "Requirement already satisfied: qiskit-algorithms>=0.2.1 in /usr/local/lib/python3.10/dist-packages (from qiskit-nature) (0.3.0)\n",
            "Requirement already satisfied: psutil>=5 in /usr/local/lib/python3.10/dist-packages (from qiskit-nature) (5.9.5)\n",
            "Requirement already satisfied: setuptools>=40.1.0 in /usr/local/lib/python3.10/dist-packages (from qiskit-nature) (67.7.2)\n",
            "Requirement already satisfied: h5py in /usr/local/lib/python3.10/dist-packages (from qiskit-nature) (3.9.0)\n",
            "Requirement already satisfied: six>=1.5 in /usr/local/lib/python3.10/dist-packages (from python-dateutil>=2.8.0->qiskit) (1.16.0)\n",
            "Requirement already satisfied: pbr!=2.1.0,>=2.0.0 in /usr/local/lib/python3.10/dist-packages (from stevedore>=3.0.0->qiskit) (6.0.0)\n",
            "Requirement already satisfied: mpmath<1.4.0,>=1.1.0 in /usr/local/lib/python3.10/dist-packages (from sympy>=1.3->qiskit) (1.3.0)\n",
            "\u001b[33mWARNING: Running pip as the 'root' user can result in broken permissions and conflicting behaviour with the system package manager, possibly rendering your system unusable.It is recommended to use a virtual environment instead: https://pip.pypa.io/warnings/venv. Use the --root-user-action option if you know what you are doing and want to suppress this warning.\u001b[0m\u001b[33m\n",
            "\u001b[0mRequirement already satisfied: qiskit-aer in /usr/local/lib/python3.10/dist-packages (0.14.2)\n",
            "Requirement already satisfied: qiskit>=0.45.2 in /usr/local/lib/python3.10/dist-packages (from qiskit-aer) (1.1.1)\n",
            "Requirement already satisfied: numpy>=1.16.3 in /usr/local/lib/python3.10/dist-packages (from qiskit-aer) (1.25.2)\n",
            "Requirement already satisfied: scipy>=1.0 in /usr/local/lib/python3.10/dist-packages (from qiskit-aer) (1.11.4)\n",
            "Requirement already satisfied: psutil>=5 in /usr/local/lib/python3.10/dist-packages (from qiskit-aer) (5.9.5)\n",
            "Requirement already satisfied: rustworkx>=0.14.0 in /usr/local/lib/python3.10/dist-packages (from qiskit>=0.45.2->qiskit-aer) (0.14.2)\n",
            "Requirement already satisfied: sympy>=1.3 in /usr/local/lib/python3.10/dist-packages (from qiskit>=0.45.2->qiskit-aer) (1.12.1)\n",
            "Requirement already satisfied: dill>=0.3 in /usr/local/lib/python3.10/dist-packages (from qiskit>=0.45.2->qiskit-aer) (0.3.8)\n",
            "Requirement already satisfied: python-dateutil>=2.8.0 in /usr/local/lib/python3.10/dist-packages (from qiskit>=0.45.2->qiskit-aer) (2.8.2)\n",
            "Requirement already satisfied: stevedore>=3.0.0 in /usr/local/lib/python3.10/dist-packages (from qiskit>=0.45.2->qiskit-aer) (5.2.0)\n",
            "Requirement already satisfied: typing-extensions in /usr/local/lib/python3.10/dist-packages (from qiskit>=0.45.2->qiskit-aer) (4.12.2)\n",
            "Requirement already satisfied: symengine>=0.11 in /usr/local/lib/python3.10/dist-packages (from qiskit>=0.45.2->qiskit-aer) (0.11.0)\n",
            "Requirement already satisfied: six>=1.5 in /usr/local/lib/python3.10/dist-packages (from python-dateutil>=2.8.0->qiskit>=0.45.2->qiskit-aer) (1.16.0)\n",
            "Requirement already satisfied: pbr!=2.1.0,>=2.0.0 in /usr/local/lib/python3.10/dist-packages (from stevedore>=3.0.0->qiskit>=0.45.2->qiskit-aer) (6.0.0)\n",
            "Requirement already satisfied: mpmath<1.4.0,>=1.1.0 in /usr/local/lib/python3.10/dist-packages (from sympy>=1.3->qiskit>=0.45.2->qiskit-aer) (1.3.0)\n",
            "\u001b[33mWARNING: Running pip as the 'root' user can result in broken permissions and conflicting behaviour with the system package manager, possibly rendering your system unusable.It is recommended to use a virtual environment instead: https://pip.pypa.io/warnings/venv. Use the --root-user-action option if you know what you are doing and want to suppress this warning.\u001b[0m\u001b[33m\n",
            "\u001b[0mRequirement already satisfied: pyscf in /usr/local/lib/python3.10/dist-packages (2.6.2)\n",
            "Requirement already satisfied: numpy!=1.16,!=1.17,>=1.13 in /usr/local/lib/python3.10/dist-packages (from pyscf) (1.25.2)\n",
            "Requirement already satisfied: scipy!=1.5.0,!=1.5.1 in /usr/local/lib/python3.10/dist-packages (from pyscf) (1.11.4)\n",
            "Requirement already satisfied: h5py>=2.7 in /usr/local/lib/python3.10/dist-packages (from pyscf) (3.9.0)\n",
            "Requirement already satisfied: setuptools in /usr/local/lib/python3.10/dist-packages (from pyscf) (67.7.2)\n",
            "\u001b[33mWARNING: Running pip as the 'root' user can result in broken permissions and conflicting behaviour with the system package manager, possibly rendering your system unusable.It is recommended to use a virtual environment instead: https://pip.pypa.io/warnings/venv. Use the --root-user-action option if you know what you are doing and want to suppress this warning.\u001b[0m\u001b[33m\n",
            "\u001b[0m"
          ]
        }
      ],
      "source": [
        "! pip3 install --upgrade pip\n",
        "! pip install qiskit qiskit-nature\n",
        "import qiskit\n",
        "! pip install qiskit-aer\n",
        "! pip install pyscf"
      ]
    },
    {
      "cell_type": "code",
      "source": [
        "#VQE!!!\n",
        "import qiskit_nature\n",
        "from qiskit_algorithms.minimum_eigensolvers import NumPyMinimumEigensolver, VQE\n",
        "from qiskit_nature.second_q.transformers import FreezeCoreTransformer\n",
        "from qiskit_nature.second_q.formats.molecule_info import MoleculeInfo\n",
        "from qiskit_nature.second_q.mappers import ParityMapper\n",
        "from qiskit_nature.second_q.circuit.library import UCCSD, HartreeFock\n",
        "\n",
        "qiskit_nature.settings.use_pauli_sum_op = False\n",
        "\n",
        "from qiskit_nature.second_q.drivers import PySCFDriver\n",
        "import matplotlib.pyplot as plt\n",
        "from qiskit.circuit.library import EfficientSU2"
      ],
      "metadata": {
        "id": "9skCrTmhoESa"
      },
      "execution_count": null,
      "outputs": []
    },
    {
      "cell_type": "code",
      "source": [
        "def get_qubit_op(dist):\n",
        "    # Define Molecule\n",
        "    molecule = MoleculeInfo(\n",
        "        # Coordinates in Angstrom\n",
        "        symbols=[\"Li\", \"H\"],\n",
        "        coords=([0.0, 0.0, 0.0], [dist, 0.0, 0.0]),\n",
        "        multiplicity=1,  # = 2*spin + 1\n",
        "        charge=0,\n",
        "    )\n",
        "\n",
        "    driver = PySCFDriver.from_molecule(molecule)\n",
        "\n",
        "    # Get properties\n",
        "    properties = driver.run()\n",
        "\n",
        "    # Reduce number of qubits used -> freeze core & remove 2 unoccupied orbitals\n",
        "    problem = FreezeCoreTransformer(\n",
        "        freeze_core=True, remove_orbitals=[-3, -2]\n",
        "    ).transform(properties)\n",
        "\n",
        "    num_particles = problem.num_particles\n",
        "    num_spatial_orbitals = problem.num_spatial_orbitals\n",
        "\n",
        "    mapper = ParityMapper(num_particles=num_particles)\n",
        "    qubit_op = mapper.map(problem.second_q_ops()[0])\n",
        "    return qubit_op, num_particles, num_spatial_orbitals, problem, mapper\n"
      ],
      "metadata": {
        "id": "FtFsr1U5oHYl"
      },
      "execution_count": null,
      "outputs": []
    },
    {
      "cell_type": "code",
      "source": [
        "from qiskit_aer.primitives import Estimator\n",
        "from qiskit_algorithms.optimizers import SLSQP\n",
        "import numpy as np\n",
        "from qiskit.circuit import QuantumCircuit\n",
        "\n",
        "#exact GSE is calculated on qubit operator and classical exact eigensolver.\n",
        "#exact eigensolver (full config interaction (fci)): calculates exact eigenvalues and eigenvectors\n",
        "\n",
        "def exact_solver(qubit_op, problem):\n",
        "    sol = NumPyMinimumEigensolver().compute_minimum_eigenvalue(qubit_op)\n",
        "    result = problem.interpret(sol)\n",
        "    return result   # initial state |psi> is created -> VQE uses to produce final ansatz = min_theta (|psi(theta)>)\n",
        "\n",
        "from qiskit_aer import Aer\n",
        "\n",
        "def vqe_circuit_depth(qubit_op, num_particles, num_spatial_orbitals, qubit_converter):\n",
        "    init_state = HartreeFock(num_spatial_orbitals, num_particles, qubit_converter)\n",
        "    ansatz = UCCSD(num_spatial_orbitals, num_particles, qubit_converter, initial_state=init_state)\n",
        "    circuit = QuantumCircuit(qubit_op.num_qubits)\n",
        "    circuit.compose(init_state, inplace=True)\n",
        "    circuit.compose(ansatz, inplace=True)\n",
        "    return circuit.decompose().depth()\n",
        "\n",
        "distances = np.arange(0.5, 4.0, 0.2)\n",
        "exact_energies = []\n",
        "vqe_energies = []\n",
        "optimizer = SLSQP(maxiter=10)\n",
        "noiseless_estimator = Estimator(approximation=True)\n",
        "\n",
        "for dist in distances:\n",
        "    (qubit_op, num_particles, num_spatial_orbitals, problem, mapper) = get_qubit_op(\n",
        "        dist\n",
        "    )\n",
        "\n",
        "    result = exact_solver(qubit_op, problem)\n",
        "    exact_energies.append(result.total_energies[0].real)\n",
        "    vqe_depth = vqe_circuit_depth(qubit_op, num_particles, num_spatial_orbitals, qubit_converter)\n",
        "\n",
        "    print(f\"Interatomic Distance: {np.round(dist, 2)}\")\n",
        "    print(f\"VQE Circuit Depth: {vqe_depth}\")\n",
        "\n",
        "print(\"All distances have been calculated\")\n"
      ],
      "metadata": {
        "colab": {
          "base_uri": "https://localhost:8080/"
        },
        "id": "iMygUsqXoON6",
        "outputId": "69a68343-35fd-4e47-e25f-41d3bfb896df"
      },
      "execution_count": null,
      "outputs": [
        {
          "output_type": "stream",
          "name": "stdout",
          "text": [
            "Interatomic Distance: 0.5\n",
            "VQE Circuit Depth: 26\n",
            "Interatomic Distance: 0.7\n",
            "VQE Circuit Depth: 26\n",
            "Interatomic Distance: 0.9\n",
            "VQE Circuit Depth: 26\n",
            "Interatomic Distance: 1.1\n",
            "VQE Circuit Depth: 26\n",
            "Interatomic Distance: 1.3\n",
            "VQE Circuit Depth: 26\n",
            "Interatomic Distance: 1.5\n",
            "VQE Circuit Depth: 26\n",
            "Interatomic Distance: 1.7\n",
            "VQE Circuit Depth: 26\n",
            "Interatomic Distance: 1.9\n",
            "VQE Circuit Depth: 26\n",
            "Interatomic Distance: 2.1\n",
            "VQE Circuit Depth: 26\n",
            "Interatomic Distance: 2.3\n",
            "VQE Circuit Depth: 26\n",
            "Interatomic Distance: 2.5\n",
            "VQE Circuit Depth: 26\n",
            "Interatomic Distance: 2.7\n",
            "VQE Circuit Depth: 26\n",
            "Interatomic Distance: 2.9\n",
            "VQE Circuit Depth: 26\n",
            "Interatomic Distance: 3.1\n",
            "VQE Circuit Depth: 26\n",
            "Interatomic Distance: 3.3\n",
            "VQE Circuit Depth: 26\n",
            "Interatomic Distance: 3.5\n",
            "VQE Circuit Depth: 26\n",
            "Interatomic Distance: 3.7\n",
            "VQE Circuit Depth: 26\n",
            "Interatomic Distance: 3.9\n",
            "VQE Circuit Depth: 26\n",
            "All energies have been calculated\n"
          ]
        }
      ]
    }
  ]
}
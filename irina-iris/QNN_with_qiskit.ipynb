{
  "nbformat": 4,
  "nbformat_minor": 0,
  "metadata": {
    "colab": {
      "provenance": []
    },
    "kernelspec": {
      "name": "python3",
      "display_name": "Python 3"
    },
    "language_info": {
      "name": "python"
    }
  },
  "cells": [
    {
      "cell_type": "markdown",
      "source": [
        "Installing preqisites:"
      ],
      "metadata": {
        "id": "22zai7n4NFxt"
      }
    },
    {
      "cell_type": "code",
      "execution_count": null,
      "metadata": {
        "colab": {
          "base_uri": "https://localhost:8080/"
        },
        "id": "uUT1gidWtM9c",
        "outputId": "443eb46f-be3c-4cc1-955e-1fac2314fd8a"
      },
      "outputs": [
        {
          "output_type": "stream",
          "name": "stdout",
          "text": [
            "Collecting qiskit\n",
            "  Downloading qiskit-1.1.1-cp38-abi3-manylinux_2_17_x86_64.manylinux2014_x86_64.whl (4.3 MB)\n",
            "\u001b[2K     \u001b[90m━━━━━━━━━━━━━━━━━━━━━━━━━━━━━━━━━━━━━━━━\u001b[0m \u001b[32m4.3/4.3 MB\u001b[0m \u001b[31m13.2 MB/s\u001b[0m eta \u001b[36m0:00:00\u001b[0m\n",
            "\u001b[?25hCollecting rustworkx>=0.14.0 (from qiskit)\n",
            "  Downloading rustworkx-0.14.2-cp310-cp310-manylinux_2_17_x86_64.manylinux2014_x86_64.whl (2.1 MB)\n",
            "\u001b[2K     \u001b[90m━━━━━━━━━━━━━━━━━━━━━━━━━━━━━━━━━━━━━━━━\u001b[0m \u001b[32m2.1/2.1 MB\u001b[0m \u001b[31m17.2 MB/s\u001b[0m eta \u001b[36m0:00:00\u001b[0m\n",
            "\u001b[?25hRequirement already satisfied: numpy<3,>=1.17 in /usr/local/lib/python3.10/dist-packages (from qiskit) (1.25.2)\n",
            "Requirement already satisfied: scipy>=1.5 in /usr/local/lib/python3.10/dist-packages (from qiskit) (1.11.4)\n",
            "Requirement already satisfied: sympy>=1.3 in /usr/local/lib/python3.10/dist-packages (from qiskit) (1.12.1)\n",
            "Collecting dill>=0.3 (from qiskit)\n",
            "  Downloading dill-0.3.8-py3-none-any.whl (116 kB)\n",
            "\u001b[2K     \u001b[90m━━━━━━━━━━━━━━━━━━━━━━━━━━━━━━━━━━━━━━━━\u001b[0m \u001b[32m116.3/116.3 kB\u001b[0m \u001b[31m6.3 MB/s\u001b[0m eta \u001b[36m0:00:00\u001b[0m\n",
            "\u001b[?25hRequirement already satisfied: python-dateutil>=2.8.0 in /usr/local/lib/python3.10/dist-packages (from qiskit) (2.8.2)\n",
            "Collecting stevedore>=3.0.0 (from qiskit)\n",
            "  Downloading stevedore-5.2.0-py3-none-any.whl (49 kB)\n",
            "\u001b[2K     \u001b[90m━━━━━━━━━━━━━━━━━━━━━━━━━━━━━━━━━━━━━━━━\u001b[0m \u001b[32m49.7/49.7 kB\u001b[0m \u001b[31m3.0 MB/s\u001b[0m eta \u001b[36m0:00:00\u001b[0m\n",
            "\u001b[?25hRequirement already satisfied: typing-extensions in /usr/local/lib/python3.10/dist-packages (from qiskit) (4.12.2)\n",
            "Collecting symengine>=0.11 (from qiskit)\n",
            "  Downloading symengine-0.11.0-cp310-cp310-manylinux_2_12_x86_64.manylinux2010_x86_64.whl (39.4 MB)\n",
            "\u001b[2K     \u001b[90m━━━━━━━━━━━━━━━━━━━━━━━━━━━━━━━━━━━━━━━━\u001b[0m \u001b[32m39.4/39.4 MB\u001b[0m \u001b[31m17.9 MB/s\u001b[0m eta \u001b[36m0:00:00\u001b[0m\n",
            "\u001b[?25hRequirement already satisfied: six>=1.5 in /usr/local/lib/python3.10/dist-packages (from python-dateutil>=2.8.0->qiskit) (1.16.0)\n",
            "Collecting pbr!=2.1.0,>=2.0.0 (from stevedore>=3.0.0->qiskit)\n",
            "  Downloading pbr-6.0.0-py2.py3-none-any.whl (107 kB)\n",
            "\u001b[2K     \u001b[90m━━━━━━━━━━━━━━━━━━━━━━━━━━━━━━━━━━━━━━━━\u001b[0m \u001b[32m107.5/107.5 kB\u001b[0m \u001b[31m8.7 MB/s\u001b[0m eta \u001b[36m0:00:00\u001b[0m\n",
            "\u001b[?25hRequirement already satisfied: mpmath<1.4.0,>=1.1.0 in /usr/local/lib/python3.10/dist-packages (from sympy>=1.3->qiskit) (1.3.0)\n",
            "Installing collected packages: symengine, rustworkx, pbr, dill, stevedore, qiskit\n",
            "Successfully installed dill-0.3.8 pbr-6.0.0 qiskit-1.1.1 rustworkx-0.14.2 stevedore-5.2.0 symengine-0.11.0\n"
          ]
        }
      ],
      "source": [
        "pip install qiskit"
      ]
    },
    {
      "cell_type": "code",
      "source": [
        "pip install qiskit-aer"
      ],
      "metadata": {
        "colab": {
          "base_uri": "https://localhost:8080/"
        },
        "id": "_p9ee8UXwssu",
        "outputId": "1b40ee4e-faa8-4a5a-c829-ec422b6e99b8"
      },
      "execution_count": null,
      "outputs": [
        {
          "output_type": "stream",
          "name": "stdout",
          "text": [
            "Requirement already satisfied: qiskit-aer in /usr/local/lib/python3.10/dist-packages (0.14.2)\n",
            "Requirement already satisfied: qiskit>=0.45.2 in /usr/local/lib/python3.10/dist-packages (from qiskit-aer) (1.1.1)\n",
            "Requirement already satisfied: numpy>=1.16.3 in /usr/local/lib/python3.10/dist-packages (from qiskit-aer) (1.25.2)\n",
            "Requirement already satisfied: scipy>=1.0 in /usr/local/lib/python3.10/dist-packages (from qiskit-aer) (1.11.4)\n",
            "Requirement already satisfied: psutil>=5 in /usr/local/lib/python3.10/dist-packages (from qiskit-aer) (5.9.5)\n",
            "Requirement already satisfied: rustworkx>=0.14.0 in /usr/local/lib/python3.10/dist-packages (from qiskit>=0.45.2->qiskit-aer) (0.14.2)\n",
            "Requirement already satisfied: sympy>=1.3 in /usr/local/lib/python3.10/dist-packages (from qiskit>=0.45.2->qiskit-aer) (1.12.1)\n",
            "Requirement already satisfied: dill>=0.3 in /usr/local/lib/python3.10/dist-packages (from qiskit>=0.45.2->qiskit-aer) (0.3.8)\n",
            "Requirement already satisfied: python-dateutil>=2.8.0 in /usr/local/lib/python3.10/dist-packages (from qiskit>=0.45.2->qiskit-aer) (2.8.2)\n",
            "Requirement already satisfied: stevedore>=3.0.0 in /usr/local/lib/python3.10/dist-packages (from qiskit>=0.45.2->qiskit-aer) (5.2.0)\n",
            "Requirement already satisfied: typing-extensions in /usr/local/lib/python3.10/dist-packages (from qiskit>=0.45.2->qiskit-aer) (4.12.2)\n",
            "Requirement already satisfied: symengine>=0.11 in /usr/local/lib/python3.10/dist-packages (from qiskit>=0.45.2->qiskit-aer) (0.11.0)\n",
            "Requirement already satisfied: six>=1.5 in /usr/local/lib/python3.10/dist-packages (from python-dateutil>=2.8.0->qiskit>=0.45.2->qiskit-aer) (1.16.0)\n",
            "Requirement already satisfied: pbr!=2.1.0,>=2.0.0 in /usr/local/lib/python3.10/dist-packages (from stevedore>=3.0.0->qiskit>=0.45.2->qiskit-aer) (6.0.0)\n",
            "Requirement already satisfied: mpmath<1.4.0,>=1.1.0 in /usr/local/lib/python3.10/dist-packages (from sympy>=1.3->qiskit>=0.45.2->qiskit-aer) (1.3.0)\n"
          ]
        }
      ]
    },
    {
      "cell_type": "code",
      "source": [
        "pip install pandas"
      ],
      "metadata": {
        "colab": {
          "base_uri": "https://localhost:8080/"
        },
        "id": "XjbwnXNMxFsw",
        "outputId": "cb768163-3ddc-4967-f2e8-1a82f4904043"
      },
      "execution_count": null,
      "outputs": [
        {
          "output_type": "stream",
          "name": "stdout",
          "text": [
            "Requirement already satisfied: pandas in /usr/local/lib/python3.10/dist-packages (2.0.3)\n",
            "Requirement already satisfied: python-dateutil>=2.8.2 in /usr/local/lib/python3.10/dist-packages (from pandas) (2.8.2)\n",
            "Requirement already satisfied: pytz>=2020.1 in /usr/local/lib/python3.10/dist-packages (from pandas) (2023.4)\n",
            "Requirement already satisfied: tzdata>=2022.1 in /usr/local/lib/python3.10/dist-packages (from pandas) (2024.1)\n",
            "Requirement already satisfied: numpy>=1.21.0 in /usr/local/lib/python3.10/dist-packages (from pandas) (1.25.2)\n",
            "Requirement already satisfied: six>=1.5 in /usr/local/lib/python3.10/dist-packages (from python-dateutil>=2.8.2->pandas) (1.16.0)\n"
          ]
        }
      ]
    },
    {
      "cell_type": "code",
      "source": [
        "pip install scikit-learn"
      ],
      "metadata": {
        "colab": {
          "base_uri": "https://localhost:8080/"
        },
        "id": "N4gsHp1nxPCE",
        "outputId": "9b7d4225-23b9-4300-9b82-adfbea07dbfd"
      },
      "execution_count": null,
      "outputs": [
        {
          "output_type": "stream",
          "name": "stdout",
          "text": [
            "Requirement already satisfied: scikit-learn in /usr/local/lib/python3.10/dist-packages (1.2.2)\n",
            "Requirement already satisfied: numpy>=1.17.3 in /usr/local/lib/python3.10/dist-packages (from scikit-learn) (1.25.2)\n",
            "Requirement already satisfied: scipy>=1.3.2 in /usr/local/lib/python3.10/dist-packages (from scikit-learn) (1.11.4)\n",
            "Requirement already satisfied: joblib>=1.1.1 in /usr/local/lib/python3.10/dist-packages (from scikit-learn) (1.4.2)\n",
            "Requirement already satisfied: threadpoolctl>=2.0.0 in /usr/local/lib/python3.10/dist-packages (from scikit-learn) (3.5.0)\n"
          ]
        }
      ]
    },
    {
      "cell_type": "code",
      "source": [
        "pip install numpy"
      ],
      "metadata": {
        "colab": {
          "base_uri": "https://localhost:8080/"
        },
        "id": "dh9-zQC9xi9x",
        "outputId": "a1ffe335-4078-40e9-ca56-4309ec9bcee6"
      },
      "execution_count": null,
      "outputs": [
        {
          "output_type": "stream",
          "name": "stdout",
          "text": [
            "Requirement already satisfied: numpy in /usr/local/lib/python3.10/dist-packages (1.25.2)\n"
          ]
        }
      ]
    },
    {
      "cell_type": "code",
      "source": [
        "pip install matplotlib"
      ],
      "metadata": {
        "colab": {
          "base_uri": "https://localhost:8080/"
        },
        "id": "0xgL6wIExuc2",
        "outputId": "d953ee96-3948-45cb-ab8d-68df88f4c20d"
      },
      "execution_count": null,
      "outputs": [
        {
          "output_type": "stream",
          "name": "stdout",
          "text": [
            "Requirement already satisfied: matplotlib in /usr/local/lib/python3.10/dist-packages (3.7.1)\n",
            "Requirement already satisfied: contourpy>=1.0.1 in /usr/local/lib/python3.10/dist-packages (from matplotlib) (1.2.1)\n",
            "Requirement already satisfied: cycler>=0.10 in /usr/local/lib/python3.10/dist-packages (from matplotlib) (0.12.1)\n",
            "Requirement already satisfied: fonttools>=4.22.0 in /usr/local/lib/python3.10/dist-packages (from matplotlib) (4.53.0)\n",
            "Requirement already satisfied: kiwisolver>=1.0.1 in /usr/local/lib/python3.10/dist-packages (from matplotlib) (1.4.5)\n",
            "Requirement already satisfied: numpy>=1.20 in /usr/local/lib/python3.10/dist-packages (from matplotlib) (1.25.2)\n",
            "Requirement already satisfied: packaging>=20.0 in /usr/local/lib/python3.10/dist-packages (from matplotlib) (24.1)\n",
            "Requirement already satisfied: pillow>=6.2.0 in /usr/local/lib/python3.10/dist-packages (from matplotlib) (9.4.0)\n",
            "Requirement already satisfied: pyparsing>=2.3.1 in /usr/local/lib/python3.10/dist-packages (from matplotlib) (3.1.2)\n",
            "Requirement already satisfied: python-dateutil>=2.7 in /usr/local/lib/python3.10/dist-packages (from matplotlib) (2.8.2)\n",
            "Requirement already satisfied: six>=1.5 in /usr/local/lib/python3.10/dist-packages (from python-dateutil>=2.7->matplotlib) (1.16.0)\n"
          ]
        }
      ]
    },
    {
      "cell_type": "markdown",
      "source": [
        "Importing the datasets:"
      ],
      "metadata": {
        "id": "PEnKD09cNaev"
      }
    },
    {
      "cell_type": "code",
      "source": [
        "from google.colab import files\n",
        "\n",
        "\n",
        "uploaded = files.upload()"
      ],
      "metadata": {
        "colab": {
          "base_uri": "https://localhost:8080/",
          "height": 107
        },
        "id": "kWgpdsI61Xjl",
        "outputId": "12962540-51ce-452a-cbee-25c3c6fe84e3"
      },
      "execution_count": null,
      "outputs": [
        {
          "output_type": "display_data",
          "data": {
            "text/plain": [
              "<IPython.core.display.HTML object>"
            ],
            "text/html": [
              "\n",
              "     <input type=\"file\" id=\"files-6ed0d12f-3f2e-449a-83a2-f232a9673834\" name=\"files[]\" multiple disabled\n",
              "        style=\"border:none\" />\n",
              "     <output id=\"result-6ed0d12f-3f2e-449a-83a2-f232a9673834\">\n",
              "      Upload widget is only available when the cell has been executed in the\n",
              "      current browser session. Please rerun this cell to enable.\n",
              "      </output>\n",
              "      <script>// Copyright 2017 Google LLC\n",
              "//\n",
              "// Licensed under the Apache License, Version 2.0 (the \"License\");\n",
              "// you may not use this file except in compliance with the License.\n",
              "// You may obtain a copy of the License at\n",
              "//\n",
              "//      http://www.apache.org/licenses/LICENSE-2.0\n",
              "//\n",
              "// Unless required by applicable law or agreed to in writing, software\n",
              "// distributed under the License is distributed on an \"AS IS\" BASIS,\n",
              "// WITHOUT WARRANTIES OR CONDITIONS OF ANY KIND, either express or implied.\n",
              "// See the License for the specific language governing permissions and\n",
              "// limitations under the License.\n",
              "\n",
              "/**\n",
              " * @fileoverview Helpers for google.colab Python module.\n",
              " */\n",
              "(function(scope) {\n",
              "function span(text, styleAttributes = {}) {\n",
              "  const element = document.createElement('span');\n",
              "  element.textContent = text;\n",
              "  for (const key of Object.keys(styleAttributes)) {\n",
              "    element.style[key] = styleAttributes[key];\n",
              "  }\n",
              "  return element;\n",
              "}\n",
              "\n",
              "// Max number of bytes which will be uploaded at a time.\n",
              "const MAX_PAYLOAD_SIZE = 100 * 1024;\n",
              "\n",
              "function _uploadFiles(inputId, outputId) {\n",
              "  const steps = uploadFilesStep(inputId, outputId);\n",
              "  const outputElement = document.getElementById(outputId);\n",
              "  // Cache steps on the outputElement to make it available for the next call\n",
              "  // to uploadFilesContinue from Python.\n",
              "  outputElement.steps = steps;\n",
              "\n",
              "  return _uploadFilesContinue(outputId);\n",
              "}\n",
              "\n",
              "// This is roughly an async generator (not supported in the browser yet),\n",
              "// where there are multiple asynchronous steps and the Python side is going\n",
              "// to poll for completion of each step.\n",
              "// This uses a Promise to block the python side on completion of each step,\n",
              "// then passes the result of the previous step as the input to the next step.\n",
              "function _uploadFilesContinue(outputId) {\n",
              "  const outputElement = document.getElementById(outputId);\n",
              "  const steps = outputElement.steps;\n",
              "\n",
              "  const next = steps.next(outputElement.lastPromiseValue);\n",
              "  return Promise.resolve(next.value.promise).then((value) => {\n",
              "    // Cache the last promise value to make it available to the next\n",
              "    // step of the generator.\n",
              "    outputElement.lastPromiseValue = value;\n",
              "    return next.value.response;\n",
              "  });\n",
              "}\n",
              "\n",
              "/**\n",
              " * Generator function which is called between each async step of the upload\n",
              " * process.\n",
              " * @param {string} inputId Element ID of the input file picker element.\n",
              " * @param {string} outputId Element ID of the output display.\n",
              " * @return {!Iterable<!Object>} Iterable of next steps.\n",
              " */\n",
              "function* uploadFilesStep(inputId, outputId) {\n",
              "  const inputElement = document.getElementById(inputId);\n",
              "  inputElement.disabled = false;\n",
              "\n",
              "  const outputElement = document.getElementById(outputId);\n",
              "  outputElement.innerHTML = '';\n",
              "\n",
              "  const pickedPromise = new Promise((resolve) => {\n",
              "    inputElement.addEventListener('change', (e) => {\n",
              "      resolve(e.target.files);\n",
              "    });\n",
              "  });\n",
              "\n",
              "  const cancel = document.createElement('button');\n",
              "  inputElement.parentElement.appendChild(cancel);\n",
              "  cancel.textContent = 'Cancel upload';\n",
              "  const cancelPromise = new Promise((resolve) => {\n",
              "    cancel.onclick = () => {\n",
              "      resolve(null);\n",
              "    };\n",
              "  });\n",
              "\n",
              "  // Wait for the user to pick the files.\n",
              "  const files = yield {\n",
              "    promise: Promise.race([pickedPromise, cancelPromise]),\n",
              "    response: {\n",
              "      action: 'starting',\n",
              "    }\n",
              "  };\n",
              "\n",
              "  cancel.remove();\n",
              "\n",
              "  // Disable the input element since further picks are not allowed.\n",
              "  inputElement.disabled = true;\n",
              "\n",
              "  if (!files) {\n",
              "    return {\n",
              "      response: {\n",
              "        action: 'complete',\n",
              "      }\n",
              "    };\n",
              "  }\n",
              "\n",
              "  for (const file of files) {\n",
              "    const li = document.createElement('li');\n",
              "    li.append(span(file.name, {fontWeight: 'bold'}));\n",
              "    li.append(span(\n",
              "        `(${file.type || 'n/a'}) - ${file.size} bytes, ` +\n",
              "        `last modified: ${\n",
              "            file.lastModifiedDate ? file.lastModifiedDate.toLocaleDateString() :\n",
              "                                    'n/a'} - `));\n",
              "    const percent = span('0% done');\n",
              "    li.appendChild(percent);\n",
              "\n",
              "    outputElement.appendChild(li);\n",
              "\n",
              "    const fileDataPromise = new Promise((resolve) => {\n",
              "      const reader = new FileReader();\n",
              "      reader.onload = (e) => {\n",
              "        resolve(e.target.result);\n",
              "      };\n",
              "      reader.readAsArrayBuffer(file);\n",
              "    });\n",
              "    // Wait for the data to be ready.\n",
              "    let fileData = yield {\n",
              "      promise: fileDataPromise,\n",
              "      response: {\n",
              "        action: 'continue',\n",
              "      }\n",
              "    };\n",
              "\n",
              "    // Use a chunked sending to avoid message size limits. See b/62115660.\n",
              "    let position = 0;\n",
              "    do {\n",
              "      const length = Math.min(fileData.byteLength - position, MAX_PAYLOAD_SIZE);\n",
              "      const chunk = new Uint8Array(fileData, position, length);\n",
              "      position += length;\n",
              "\n",
              "      const base64 = btoa(String.fromCharCode.apply(null, chunk));\n",
              "      yield {\n",
              "        response: {\n",
              "          action: 'append',\n",
              "          file: file.name,\n",
              "          data: base64,\n",
              "        },\n",
              "      };\n",
              "\n",
              "      let percentDone = fileData.byteLength === 0 ?\n",
              "          100 :\n",
              "          Math.round((position / fileData.byteLength) * 100);\n",
              "      percent.textContent = `${percentDone}% done`;\n",
              "\n",
              "    } while (position < fileData.byteLength);\n",
              "  }\n",
              "\n",
              "  // All done.\n",
              "  yield {\n",
              "    response: {\n",
              "      action: 'complete',\n",
              "    }\n",
              "  };\n",
              "}\n",
              "\n",
              "scope.google = scope.google || {};\n",
              "scope.google.colab = scope.google.colab || {};\n",
              "scope.google.colab._files = {\n",
              "  _uploadFiles,\n",
              "  _uploadFilesContinue,\n",
              "};\n",
              "})(self);\n",
              "</script> "
            ]
          },
          "metadata": {}
        },
        {
          "output_type": "stream",
          "name": "stdout",
          "text": [
            "Saving data.csv to data.csv\n",
            "Saving PER_dataset.csv to PER_dataset.csv\n"
          ]
        }
      ]
    },
    {
      "cell_type": "markdown",
      "source": [
        "Load the datasets:"
      ],
      "metadata": {
        "id": "PS1mKtrqNtRd"
      }
    },
    {
      "cell_type": "code",
      "source": [
        "import pandas as pd\n",
        "import io\n",
        "\n",
        "df = pd.read_csv(io.BytesIO(uploaded['data.csv']))\n",
        "print(df)\n",
        "\n",
        "df1 = pd.read_csv(io.BytesIO(uploaded['PER_dataset.csv']))\n",
        "print(df1)\n"
      ],
      "metadata": {
        "colab": {
          "base_uri": "https://localhost:8080/"
        },
        "id": "sZ6WIy8f3TRk",
        "outputId": "e3266918-37c7-4f66-dece-d6151e623fc0"
      },
      "execution_count": null,
      "outputs": [
        {
          "output_type": "stream",
          "name": "stdout",
          "text": [
            "        valence  year  acousticness  \\\n",
            "0        0.0594  1921       0.98200   \n",
            "1        0.9630  1921       0.73200   \n",
            "2        0.0394  1921       0.96100   \n",
            "3        0.1650  1921       0.96700   \n",
            "4        0.2530  1921       0.95700   \n",
            "...         ...   ...           ...   \n",
            "170648   0.6080  2020       0.08460   \n",
            "170649   0.7340  2020       0.20600   \n",
            "170650   0.6370  2020       0.10100   \n",
            "170651   0.1950  2020       0.00998   \n",
            "170652   0.6420  2020       0.13200   \n",
            "\n",
            "                                                  artists  danceability  \\\n",
            "0       ['Sergei Rachmaninoff', 'James Levine', 'Berli...         0.279   \n",
            "1                                          ['Dennis Day']         0.819   \n",
            "2       ['KHP Kridhamardawa Karaton Ngayogyakarta Hadi...         0.328   \n",
            "3                                        ['Frank Parker']         0.275   \n",
            "4                                          ['Phil Regan']         0.418   \n",
            "...                                                   ...           ...   \n",
            "170648  ['Anuel AA', 'Daddy Yankee', 'KAROL G', 'Ozuna...         0.786   \n",
            "170649                                       ['Ashnikko']         0.717   \n",
            "170650                                        ['MAMAMOO']         0.634   \n",
            "170651                                         ['Eminem']         0.671   \n",
            "170652                              ['KEVVO', 'J Balvin']         0.856   \n",
            "\n",
            "        duration_ms  energy  explicit                      id  \\\n",
            "0            831667   0.211         0  4BJqT0PrAfrxzMOxytFOIz   \n",
            "1            180533   0.341         0  7xPhfUan2yNtyFG0cUWkt8   \n",
            "2            500062   0.166         0  1o6I8BglA6ylDMrIELygv1   \n",
            "3            210000   0.309         0  3ftBPsC5vPBKxYSee08FDH   \n",
            "4            166693   0.193         0  4d6HGyGT8e121BsdKmw9v6   \n",
            "...             ...     ...       ...                     ...   \n",
            "170648       301714   0.808         0  0KkIkfsLEJbrcIhYsCL7L5   \n",
            "170649       150654   0.753         0  0OStKKAuXlxA0fMH54Qs6E   \n",
            "170650       211280   0.858         0  4BZXVFYCb76Q0Klojq4piV   \n",
            "170651       337147   0.623         1  5SiZJoLXp3WOl3J4C8IK0d   \n",
            "170652       189507   0.721         1  7HmnJHfs0BkFzX4x8j0hkl   \n",
            "\n",
            "        instrumentalness  key  liveness  loudness  mode  \\\n",
            "0               0.878000   10    0.6650   -20.096     1   \n",
            "1               0.000000    7    0.1600   -12.441     1   \n",
            "2               0.913000    3    0.1010   -14.850     1   \n",
            "3               0.000028    5    0.3810    -9.316     1   \n",
            "4               0.000002    3    0.2290   -10.096     1   \n",
            "...                  ...  ...       ...       ...   ...   \n",
            "170648          0.000289    7    0.0822    -3.702     1   \n",
            "170649          0.000000    7    0.1010    -6.020     1   \n",
            "170650          0.000009    4    0.2580    -2.226     0   \n",
            "170651          0.000008    2    0.6430    -7.161     1   \n",
            "170652          0.004710    7    0.1820    -4.928     1   \n",
            "\n",
            "                                                     name  popularity  \\\n",
            "0       Piano Concerto No. 3 in D Minor, Op. 30: III. ...           4   \n",
            "1                                 Clancy Lowered the Boom           5   \n",
            "2                                               Gati Bali           5   \n",
            "3                                               Danny Boy           3   \n",
            "4                             When Irish Eyes Are Smiling           2   \n",
            "...                                                   ...         ...   \n",
            "170648                                              China          72   \n",
            "170649                        Halloweenie III: Seven Days          68   \n",
            "170650                                                AYA          76   \n",
            "170651                                           Darkness          70   \n",
            "170652                    Billetes Azules (with J Balvin)          74   \n",
            "\n",
            "       release_date  speechiness    tempo  \n",
            "0              1921       0.0366   80.954  \n",
            "1              1921       0.4150   60.936  \n",
            "2              1921       0.0339  110.339  \n",
            "3              1921       0.0354  100.109  \n",
            "4              1921       0.0380  101.665  \n",
            "...             ...          ...      ...  \n",
            "170648   2020-05-29       0.0881  105.029  \n",
            "170649   2020-10-23       0.0605  137.936  \n",
            "170650   2020-11-03       0.0809   91.688  \n",
            "170651   2020-01-17       0.3080   75.055  \n",
            "170652   2020-10-16       0.1080   94.991  \n",
            "\n",
            "[170653 rows x 19 columns]\n",
            "      userId  songId  Q1  Q2  Q3  Extraversion  sociability  assertiveness  \\\n",
            "0         16   30951   1   1   1      3.000000         2.75           3.25   \n",
            "1         34   30951   3   3   3      2.166667         1.75           2.50   \n",
            "2         78   30951   4   3   2      2.583333         2.50           3.25   \n",
            "3        236   30951   3   2   2      3.000000         3.25           2.75   \n",
            "4        238   30951   1   1   1      1.833333         1.50           2.25   \n",
            "...      ...     ...  ..  ..  ..           ...          ...            ...   \n",
            "5273      40   28965   1   1   1      3.250000         3.00           3.50   \n",
            "5274      62   28965   5   5   5      3.000000         2.50           3.00   \n",
            "5275     229   28965   3   2   3      3.750000         3.50           3.50   \n",
            "5276     289   28965   4   5   4      3.250000         3.50           3.00   \n",
            "5277     307   28965   1   1   1      3.666667         3.75           3.75   \n",
            "\n",
            "      energy_level  Agreeableness  ...  mirentropy  inharmonicity   activity  \\\n",
            "0             3.00       3.333333  ...    0.921491       0.459217  11.971966   \n",
            "1             2.25       3.833333  ...    0.921491       0.459217  11.971966   \n",
            "2             2.00       2.500000  ...    0.921491       0.459217  11.971966   \n",
            "3             3.00       3.166667  ...    0.921491       0.459217  11.971966   \n",
            "4             1.75       4.416667  ...    0.921491       0.459217  11.971966   \n",
            "...            ...            ...  ...         ...            ...        ...   \n",
            "5273          3.25       2.333333  ...    0.880075       0.459500   6.966590   \n",
            "5274          3.50       2.416667  ...    0.880075       0.459500   6.966590   \n",
            "5275          4.25       4.166667  ...    0.880075       0.459500   6.966590   \n",
            "5276          3.25       2.750000  ...    0.880075       0.459500   6.966590   \n",
            "5277          3.50       3.250000  ...    0.880075       0.459500   6.966590   \n",
            "\n",
            "       valence   tension     happy       sad    tender     anger      fear  \n",
            "0     9.240689  4.974047  5.042411  2.402048  0.249117  6.445638  1.236304  \n",
            "1     9.240689  4.974047  5.042411  2.402048  0.249117  6.445638  1.236304  \n",
            "2     9.240689  4.974047  5.042411  2.402048  0.249117  6.445638  1.236304  \n",
            "3     9.240689  4.974047  5.042411  2.402048  0.249117  6.445638  1.236304  \n",
            "4     9.240689  4.974047  5.042411  2.402048  0.249117  6.445638  1.236304  \n",
            "...        ...       ...       ...       ...       ...       ...       ...  \n",
            "5273  8.648606  7.142978  4.825800  0.345482  1.988954  1.189433  0.952750  \n",
            "5274  8.648606  7.142978  4.825800  0.345482  1.988954  1.189433  0.952750  \n",
            "5275  8.648606  7.142978  4.825800  0.345482  1.988954  1.189433  0.952750  \n",
            "5276  8.648606  7.142978  4.825800  0.345482  1.988954  1.189433  0.952750  \n",
            "5277  8.648606  7.142978  4.825800  0.345482  1.988954  1.189433  0.952750  \n",
            "\n",
            "[5278 rows x 54 columns]\n"
          ]
        }
      ]
    },
    {
      "cell_type": "code",
      "source": [
        "from sklearn.preprocessing import StandardScaler\n",
        "from sklearn.model_selection import train_test_split\n",
        "from sklearn.ensemble import RandomForestRegressor\n",
        "from sklearn.metrics import mean_squared_error\n",
        "\n",
        "from sklearn.decomposition import PCA\n",
        "\n",
        "\n",
        "# Select personality traits and song characteristics\n",
        "personality_traits = ['Extraversion', 'sociability', 'assertiveness', 'energy_level',\n",
        "                      'Agreeableness', 'compassion', 'respectfulness', 'trust',\n",
        "                      'Conscientiousness', 'organization', 'productiveness', 'responsibility',\n",
        "                      'Neuroticism', 'anxiety', 'depression', 'emotional_volatility',\n",
        "                      'Openness', 'intellectual_curiosity', 'aesthetic_sensitivity', 'creative_imagination']\n",
        "\n",
        "song_traits = ['rms', 'lowenergy', 'eventdensity', 'pulseclarity', 'attacktime_mean', 'attacktime_std',\n",
        "               'attacktime_slope', 'attacktime_periodentropy', 'attackslope_mean', 'attackslope_std',\n",
        "               'attackslope_slope', 'attackslope_periodentropy', 'zerocross', 'brightness', 'centroid',\n",
        "               'spread', 'skewness', 'kurtosis', 'flatness', 'mirentropy', 'inharmonicity', 'activity',\n",
        "               'valence', 'tension', 'happy', 'sad', 'tender', 'anger', 'fear']\n",
        "\n",
        "# Create feature sets\n",
        "X = df1[personality_traits]\n",
        "y = df1[song_traits]\n",
        "\n",
        "# Normalize the feature columns\n",
        "scaler = StandardScaler()\n",
        "X_normalized = scaler.fit_transform(X)\n",
        "\n",
        "# Split the data into training and testing sets\n",
        "X_train, X_test, y_train, y_test = train_test_split(X_normalized, y, test_size=0.2, random_state=42)\n",
        "\n",
        "# Train a RandomForestRegressor model\n",
        "model = RandomForestRegressor(n_estimators=100, random_state=42)\n",
        "model.fit(X_train, y_train)\n",
        "\n",
        "# Evaluate the model\n",
        "y_pred = model.predict(X_test)\n",
        "mse = mean_squared_error(y_test, y_pred)\n",
        "print(f'Mean Squared Error: {mse}')\n",
        "\n",
        "print(pd.DataFrame({'Actual': y_test.values.flatten(), 'Predicted': y_pred.flatten()}))\n",
        "\n",
        "def recommend_songs(personality_input):\n",
        "    # Convert the input personality traits to a DataFrame\n",
        "    user_traits = pd.DataFrame([personality_input], columns=personality_traits)\n",
        "\n",
        "    # Normalize the input personality traits\n",
        "    normalized_user_traits = scaler.transform(user_traits)\n",
        "\n",
        "    # Predict the song traits for the input personality\n",
        "    predicted_song_traits = model.predict(normalized_user_traits)\n",
        "\n",
        "    return predicted_song_traits\n",
        "\n",
        "# Example personality input\n",
        "example_personality = {\n",
        "    'Extraversion': 0, 'sociability': 0, 'assertiveness': 2.5, 'energy_level': 4.5,\n",
        "    'Agreeableness': 0, 'compassion': 3.0, 'respectfulness': 4.5, 'trust': 4.0,\n",
        "    'Conscientiousness': 0, 'organization': 5.0, 'productiveness': 3.0, 'responsibility': 3.0,\n",
        "    'Neuroticism': 0, 'anxiety': 0, 'depression': 4.5, 'emotional_volatility': 4.0,\n",
        "    'Openness': 2.0, 'intellectual_curiosity': 4.3, 'aesthetic_sensitivity': 4.0, 'creative_imagination': 2.0\n",
        "}\n",
        "\n",
        "predicted_traits = recommend_songs(example_personality)\n",
        "print(predicted_traits)"
      ],
      "metadata": {
        "colab": {
          "base_uri": "https://localhost:8080/"
        },
        "id": "XJh8bSjAx20p",
        "outputId": "6cd2f6fe-2478-4649-ba10-40bf2f9f760e"
      },
      "execution_count": null,
      "outputs": [
        {
          "output_type": "stream",
          "name": "stdout",
          "text": [
            "Mean Squared Error: 3.1879659547111203e+32\n",
            "          Actual  Predicted\n",
            "0       0.220447   0.157540\n",
            "1       0.503794   0.523897\n",
            "2       1.717667   2.935345\n",
            "3       0.609115   0.479981\n",
            "4       0.057749   0.063694\n",
            "...          ...        ...\n",
            "30619   3.390161   5.987787\n",
            "30620   1.315837   0.910582\n",
            "30621  -5.642081  -2.117800\n",
            "30622  12.568808   6.426979\n",
            "30623   4.419845   3.029060\n",
            "\n",
            "[30624 rows x 2 columns]\n",
            "[[ 1.90047835e-01  5.12183756e-01  2.77322670e+00  4.99010393e-01\n",
            "   6.26627703e-02  2.33829153e-02  1.81326061e-03  9.67408356e-01\n",
            "   2.51654389e+06  1.98887632e+06 -2.95332884e-04  9.65625111e-01\n",
            "   1.91489735e+03  5.96642285e-01  4.55859898e+03  5.52142332e-01\n",
            "   2.52986957e+12  1.11884835e+17  4.00256554e-01  9.22183254e-01\n",
            "   4.79897459e-01  1.31574476e+01  8.48665314e+00  6.52332199e+00\n",
            "   5.76866390e+00  1.06020981e+00 -1.94806511e+00  6.96994739e+00\n",
            "   2.72411784e+00]]\n"
          ]
        }
      ]
    },
    {
      "cell_type": "code",
      "source": [
        "def find_matching_songs(predicted_traits, df1, top_n=1):\n",
        "    # Calculate the Euclidean distance between the predicted traits and the traits of each song in the dataset\n",
        "    distances = ((df1[song_traits] - predicted_traits) ** 2).sum(axis=1) ** 0.5\n",
        "    print(distances)\n",
        "\n",
        "    # Find the indices of the top N closest matches\n",
        "    closest_matches = distances.nsmallest(top_n).index\n",
        "\n",
        "    # Return the corresponding songs\n",
        "    recommended_songs = df1.loc[closest_matches, 'songId']\n",
        "\n",
        "    return recommended_songs\n",
        "\n",
        "# Find matching songs for the example personality input\n",
        "predicted_traits_df = pd.DataFrame(predicted_traits, columns=song_traits)\n",
        "recommended_songs = find_matching_songs(predicted_traits_df, df1)\n",
        "print(recommended_songs)"
      ],
      "metadata": {
        "colab": {
          "base_uri": "https://localhost:8080/"
        },
        "id": "JD9nXqUC5QeV",
        "outputId": "85258f9f-a4fd-4d05-a9a9-2b03d0710a95"
      },
      "execution_count": null,
      "outputs": [
        {
          "output_type": "stream",
          "name": "stdout",
          "text": [
            "0       2.713371e+16\n",
            "1       0.000000e+00\n",
            "2       0.000000e+00\n",
            "3       0.000000e+00\n",
            "4       0.000000e+00\n",
            "            ...     \n",
            "5273    0.000000e+00\n",
            "5274    0.000000e+00\n",
            "5275    0.000000e+00\n",
            "5276    0.000000e+00\n",
            "5277    0.000000e+00\n",
            "Length: 5278, dtype: float64\n",
            "1    30951\n",
            "Name: songId, dtype: int64\n"
          ]
        }
      ]
    },
    {
      "cell_type": "code",
      "source": [
        "# Implementing PCE\n",
        "\n",
        "scaler=StandardScaler()\n",
        "\n",
        "\n",
        "scaler.fit(df1)\n",
        "Scaled_data=scaler.transform(df1)\n",
        "\n",
        "# Set the n_components=3\n",
        "principal=PCA(n_components=5)\n",
        "principal.fit(Scaled_data)\n",
        "x=principal.transform(Scaled_data)\n",
        "\n",
        "# Check the dimensions of data after PCA\n",
        "print(x.shape)\n",
        "\n",
        "#print(principal.components_)\n",
        "\n",
        "print(principal.explained_variance_ratio_)"
      ],
      "metadata": {
        "colab": {
          "base_uri": "https://localhost:8080/"
        },
        "id": "32JOsA6g6dlL",
        "outputId": "5de7372c-9089-4f87-90c8-30bc41d88db0"
      },
      "execution_count": null,
      "outputs": [
        {
          "output_type": "stream",
          "name": "stdout",
          "text": [
            "(5278, 5)\n",
            "[0.22359725 0.09704261 0.07590284 0.06810421 0.06310263]\n"
          ]
        }
      ]
    },
    {
      "cell_type": "code",
      "source": [
        "pip install qiskit-aer"
      ],
      "metadata": {
        "colab": {
          "base_uri": "https://localhost:8080/"
        },
        "id": "yQEXpzfuO-mt",
        "outputId": "2a9443f4-21d3-496a-e143-2a0c9d1e6da0"
      },
      "execution_count": null,
      "outputs": [
        {
          "output_type": "stream",
          "name": "stdout",
          "text": [
            "Requirement already satisfied: qiskit-aer in /usr/local/lib/python3.10/dist-packages (0.14.2)\n",
            "Requirement already satisfied: qiskit>=0.45.2 in /usr/local/lib/python3.10/dist-packages (from qiskit-aer) (1.1.1)\n",
            "Requirement already satisfied: numpy>=1.16.3 in /usr/local/lib/python3.10/dist-packages (from qiskit-aer) (1.25.2)\n",
            "Requirement already satisfied: scipy>=1.0 in /usr/local/lib/python3.10/dist-packages (from qiskit-aer) (1.11.4)\n",
            "Requirement already satisfied: psutil>=5 in /usr/local/lib/python3.10/dist-packages (from qiskit-aer) (5.9.5)\n",
            "Requirement already satisfied: rustworkx>=0.14.0 in /usr/local/lib/python3.10/dist-packages (from qiskit>=0.45.2->qiskit-aer) (0.14.2)\n",
            "Requirement already satisfied: sympy>=1.3 in /usr/local/lib/python3.10/dist-packages (from qiskit>=0.45.2->qiskit-aer) (1.12.1)\n",
            "Requirement already satisfied: dill>=0.3 in /usr/local/lib/python3.10/dist-packages (from qiskit>=0.45.2->qiskit-aer) (0.3.8)\n",
            "Requirement already satisfied: python-dateutil>=2.8.0 in /usr/local/lib/python3.10/dist-packages (from qiskit>=0.45.2->qiskit-aer) (2.8.2)\n",
            "Requirement already satisfied: stevedore>=3.0.0 in /usr/local/lib/python3.10/dist-packages (from qiskit>=0.45.2->qiskit-aer) (5.2.0)\n",
            "Requirement already satisfied: typing-extensions in /usr/local/lib/python3.10/dist-packages (from qiskit>=0.45.2->qiskit-aer) (4.12.2)\n",
            "Requirement already satisfied: symengine>=0.11 in /usr/local/lib/python3.10/dist-packages (from qiskit>=0.45.2->qiskit-aer) (0.11.0)\n",
            "Requirement already satisfied: six>=1.5 in /usr/local/lib/python3.10/dist-packages (from python-dateutil>=2.8.0->qiskit>=0.45.2->qiskit-aer) (1.16.0)\n",
            "Requirement already satisfied: pbr!=2.1.0,>=2.0.0 in /usr/local/lib/python3.10/dist-packages (from stevedore>=3.0.0->qiskit>=0.45.2->qiskit-aer) (6.0.0)\n",
            "Requirement already satisfied: mpmath<1.4.0,>=1.1.0 in /usr/local/lib/python3.10/dist-packages (from sympy>=1.3->qiskit>=0.45.2->qiskit-aer) (1.3.0)\n"
          ]
        }
      ]
    },
    {
      "cell_type": "code",
      "source": [
        "from qiskit_aer import Aer\n",
        "from qiskit import QuantumCircuit, transpile, assemble\n",
        "from qiskit.visualization import plot_histogram\n",
        "import numpy as np\n",
        "\n",
        "# Quantum Neural Network (QNN) Parameters\n",
        "num_qubits = 5  # Number of qubits\n",
        "num_layers = 1  # Depth of the quantum circuit\n",
        "\n",
        "# Create a quantum circuit\n",
        "qc = QuantumCircuit(num_qubits, num_qubits)\n",
        "\n",
        "# Quantum circuit architecture (simple for illustration)\n",
        "def quantum_layer(circuit, qubits):\n",
        "    circuit.h(qubits[0])\n",
        "    circuit.cx(qubits[0], qubits[1])\n",
        "    circuit.cx(qubits[1], qubits[2])\n",
        "    circuit.cx(qubits[2], qubits[3])\n",
        "    circuit.cx(qubits[3], qubits[4])\n",
        "\n",
        "# From classical to quantum state\n",
        "def encode_data(data, circuit, qubits):\n",
        "    for index, value in enumerate(data):\n",
        "        circuit.ry(value, num_qubits - 1)\n",
        "    return circuit\n",
        "\n",
        "# Training\n",
        "for df1, label in zip(X_train, y_train):\n",
        "    encode_data(df1, qc, range(num_qubits))\n",
        "\n",
        "for _ in range(num_layers):\n",
        "        quantum_layer(qc, range(num_qubits))\n",
        "\n",
        "# Measure qc\n",
        "qc.measure(range(num_qubits), range(num_qubits))\n",
        "\n",
        "# Simulate qc\n",
        "simulator = Aer.get_backend('qasm_simulator')\n",
        "compiled_circuit = transpile(qc, simulator)\n",
        "job = simulator.run(compiled_circuit, shots=1000)\n",
        "result = job.result()\n",
        "counts = result.get_counts(qc)\n",
        "\n",
        "\n",
        "predicted_class = max(counts, key=counts.get)\n",
        "print(f\"Data: {df1} | Predicted Class: {predicted_class} | True Class: {label}\")\n",
        "\n",
        "\n",
        "qc = QuantumCircuit(num_qubits, num_qubits)\n"
      ],
      "metadata": {
        "colab": {
          "base_uri": "https://localhost:8080/"
        },
        "id": "48uRgBDOIV0m",
        "outputId": "27dae566-f076-4d6b-c73f-e808db7a3afd"
      },
      "execution_count": null,
      "outputs": [
        {
          "output_type": "stream",
          "name": "stdout",
          "text": [
            "Data: [ 0.86246281  0.33272     0.9303055   0.92509974 -0.886988   -0.1855985\n",
            " -1.29951165 -0.64680486  0.36205606  0.89874252  0.0798905  -0.13675049\n",
            " -0.03873814 -0.46125413 -0.11271871  0.46633909  0.91852692  0.97073718\n",
            "  0.5311656   0.66332361] | Predicted Class: 10000 | True Class: fear\n"
          ]
        }
      ]
    }
  ]
}
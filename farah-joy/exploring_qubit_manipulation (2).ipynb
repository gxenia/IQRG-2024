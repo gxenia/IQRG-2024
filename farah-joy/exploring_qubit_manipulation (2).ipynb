{
  "cells": [
    {
      "cell_type": "markdown",
      "metadata": {
        "id": "5auYVfwwX0R0"
      },
      "source": [
        "# Explore Quantum Computing with Qubit Manipulation!\n",
        "\n",
        "## Welcome to our Quantum Computing Tool! This interactive Google Colab allows you to witness quantum gates in action. Click on the \"Run\" button and see firsthand how each gate manipulates qubits. Have fun experimenting!"
      ]
    },
    {
      "cell_type": "markdown",
      "metadata": {
        "id": "Hl8XFjCv0hGI"
      },
      "source": [
        "### Let's install all the necessary stuff first"
      ]
    },
    {
      "cell_type": "code",
      "execution_count": null,
      "metadata": {
        "id": "xFc3N-BDFadW"
      },
      "outputs": [],
      "source": [
        "! pip3 install --upgrade pip"
      ]
    },
    {
      "cell_type": "code",
      "execution_count": null,
      "metadata": {
        "id": "q269JSUy0asZ"
      },
      "outputs": [],
      "source": [
        "!pip install qiskit==0.46"
      ]
    },
    {
      "cell_type": "code",
      "execution_count": null,
      "metadata": {
        "id": "F2tGg-FIBEcD"
      },
      "outputs": [],
      "source": [
        "! pip install qiskit-aer"
      ]
    },
    {
      "cell_type": "code",
      "execution_count": null,
      "metadata": {
        "id": "cmqypBfNTRXW"
      },
      "outputs": [],
      "source": [
        "# Check which version of qiskit has been installed (it should be 0.46)\n",
        "import qiskit\n",
        "qiskit.version.get_version_info()"
      ]
    },
    {
      "cell_type": "code",
      "execution_count": null,
      "metadata": {
        "id": "5D-7xF-K3MJk"
      },
      "outputs": [],
      "source": [
        "!pip install pylatexenc"
      ]
    },
    {
      "cell_type": "markdown",
      "metadata": {
        "id": "JUNoDudTbI0n"
      },
      "source": [
        "###**Now, you're ready to experience what each gate does!**"
      ]
    },
    {
      "cell_type": "markdown",
      "metadata": {
        "id": "c96tN-8UcMzW"
      },
      "source": [
        "## The Pauli X Gate (X gate)\n",
        "\n"
      ]
    },
    {
      "cell_type": "code",
      "execution_count": null,
      "metadata": {
        "id": "7TG1A-ySt3WW"
      },
      "outputs": [],
      "source": [
        "from qiskit import QuantumCircuit, Aer, execute\n",
        "from qiskit.visualization import plot_histogram, visualize_transition"
      ]
    },
    {
      "cell_type": "code",
      "execution_count": null,
      "metadata": {
        "id": "bznmZm_c1GYA"
      },
      "outputs": [],
      "source": [
        "quantum_bit = 1\n",
        "\n",
        "classical_bit = 1\n",
        "\n",
        "circ = QuantumCircuit(quantum_bit, classical_bit)"
      ]
    },
    {
      "cell_type": "code",
      "execution_count": null,
      "metadata": {
        "id": "NETcDf_R135w"
      },
      "outputs": [],
      "source": [
        "circ.x(0)"
      ]
    },
    {
      "cell_type": "code",
      "execution_count": null,
      "metadata": {
        "id": "i1T-HLlH2Cir"
      },
      "outputs": [],
      "source": [
        "circ.draw(output='mpl')"
      ]
    },
    {
      "cell_type": "code",
      "execution_count": null,
      "metadata": {
        "colab": {
          "background_save": true
        },
        "id": "Poh9Ba_v2-Av"
      },
      "outputs": [],
      "source": [
        "visualize_transition(circ)"
      ]
    },
    {
      "cell_type": "code",
      "execution_count": null,
      "metadata": {
        "colab": {
          "background_save": true
        },
        "id": "pJmJBmk_3Dhv"
      },
      "outputs": [],
      "source": [
        "circ.measure(0, 0)"
      ]
    },
    {
      "cell_type": "code",
      "execution_count": null,
      "metadata": {
        "colab": {
          "background_save": true
        },
        "id": "NrbV3AON3X91"
      },
      "outputs": [],
      "source": [
        "simulator = Aer.get_backend('qasm_simulator')\n",
        "\n",
        "result = execute(circ, backend=simulator, shots=1000).result()\n",
        "\n",
        "counts = result.get_counts(circ)\n",
        "\n",
        "plot_histogram(counts)"
      ]
    },
    {
      "cell_type": "markdown",
      "metadata": {
        "id": "f9gs0N_W4Zpg"
      },
      "source": [
        "As you can see, the result is always 1, meaning that the qubit is always in the ∣1⟩ state. This is because the X-gate flips the qubit from ∣0⟩ to ∣1⟩."
      ]
    },
    {
      "cell_type": "markdown",
      "metadata": {
        "id": "DbWtHj7e54VX"
      },
      "source": [
        "## The Hadamard Gate (H gate)"
      ]
    },
    {
      "cell_type": "code",
      "execution_count": null,
      "metadata": {
        "colab": {
          "background_save": true
        },
        "id": "QX37NlId_z4M"
      },
      "outputs": [],
      "source": [
        "from qiskit import QuantumCircuit, Aer, execute\n",
        "from qiskit.visualization import plot_histogram, visualize_transition"
      ]
    },
    {
      "cell_type": "code",
      "execution_count": null,
      "metadata": {
        "colab": {
          "background_save": true
        },
        "id": "c46FFViE_6u0"
      },
      "outputs": [],
      "source": [
        "qc = QuantumCircuit(1,1)"
      ]
    },
    {
      "cell_type": "code",
      "execution_count": null,
      "metadata": {
        "colab": {
          "background_save": true
        },
        "id": "9GIxdj6-__g0"
      },
      "outputs": [],
      "source": [
        "qc.h(0)"
      ]
    },
    {
      "cell_type": "code",
      "execution_count": null,
      "metadata": {
        "colab": {
          "background_save": true
        },
        "id": "eCVG0h_SAPVE"
      },
      "outputs": [],
      "source": [
        "visualize_transition(qc)"
      ]
    },
    {
      "cell_type": "code",
      "execution_count": null,
      "metadata": {
        "colab": {
          "background_save": true
        },
        "id": "oMl2MWb5AYj0"
      },
      "outputs": [],
      "source": [
        "qc.measure(0,0)"
      ]
    },
    {
      "cell_type": "code",
      "execution_count": null,
      "metadata": {
        "colab": {
          "background_save": true
        },
        "id": "e-5E7UddAbqs"
      },
      "outputs": [],
      "source": [
        "qc.draw(output='mpl')"
      ]
    },
    {
      "cell_type": "code",
      "execution_count": null,
      "metadata": {
        "colab": {
          "background_save": true
        },
        "id": "cwOo9j_6AqsG"
      },
      "outputs": [],
      "source": [
        "simulator = Aer.get_backend('qasm_simulator')"
      ]
    },
    {
      "cell_type": "code",
      "execution_count": null,
      "metadata": {
        "colab": {
          "background_save": true
        },
        "id": "x6Jm0yZvAyei"
      },
      "outputs": [],
      "source": [
        "result = execute(qc, backend=simulator, shots=1024).result()\n",
        "counts = result.get_counts()\n",
        "plot_histogram(counts)"
      ]
    },
    {
      "cell_type": "markdown",
      "metadata": {
        "id": "jV3xZ9kiBVZq"
      },
      "source": [
        "As We can see, the qubit is in a superposition of |0⟩ and |1⟩. The result is either 0 or 1, each with a 50% probability. Which one will it be? We won't know until we measure it! That's the magic of the H gate. The output is basically known as  |+⟩ state."
      ]
    },
    {
      "cell_type": "code",
      "execution_count": null,
      "metadata": {
        "colab": {
          "background_save": true
        },
        "id": "FAiTlSXeC_NK"
      },
      "outputs": [],
      "source": [
        "qc3 = QuantumCircuit(1, 1)\n",
        "\n",
        "qc3.x(0)\n",
        "\n",
        "qc3.h(0)\n",
        "\n",
        "qc3.draw(output='mpl')"
      ]
    },
    {
      "cell_type": "code",
      "execution_count": null,
      "metadata": {
        "colab": {
          "background_save": true
        },
        "id": "j4c8pTqFDlHi"
      },
      "outputs": [],
      "source": [
        "visualize_transition(qc3)"
      ]
    },
    {
      "cell_type": "code",
      "execution_count": null,
      "metadata": {
        "colab": {
          "background_save": true
        },
        "id": "Vpx1I4m9Ds6S"
      },
      "outputs": [],
      "source": [
        "qc3.measure(0,0)\n",
        "qc3.draw(output='mpl')"
      ]
    },
    {
      "cell_type": "code",
      "execution_count": null,
      "metadata": {
        "colab": {
          "background_save": true
        },
        "id": "32BMAJihEHJi"
      },
      "outputs": [],
      "source": [
        "result = execute(qc3, backend=simulator, shots=1024).result()\n",
        "counts = result.get_counts()\n",
        "plot_histogram(counts)"
      ]
    },
    {
      "cell_type": "markdown",
      "metadata": {
        "id": "qjBDYeQKEXR7"
      },
      "source": [
        "As We can see, the qubit is in a superposition of |0⟩ and -|1⟩. The result is either 0 or 1, each with a 50% probability. Which one will it be? We won't know until we measure it! That's the magic of the H gate. The output is basically known as  |-⟩ state."
      ]
    },
    {
      "cell_type": "markdown",
      "metadata": {
        "id": "6sidh1joQYaA"
      },
      "source": [
        "## The CX (CNOT) Gate\n"
      ]
    },
    {
      "cell_type": "code",
      "execution_count": null,
      "metadata": {
        "colab": {
          "background_save": true
        },
        "id": "8n_eVpOATSCN"
      },
      "outputs": [],
      "source": [
        "from qiskit import QuantumCircuit, Aer, execute\n",
        "from qiskit.visualization import plot_histogram\n",
        "\n",
        "qc = QuantumCircuit(2, 2)"
      ]
    },
    {
      "cell_type": "code",
      "execution_count": null,
      "metadata": {
        "colab": {
          "background_save": true
        },
        "id": "vITO-mIPThdF"
      },
      "outputs": [],
      "source": [
        "control_qubit = 0\n",
        "target_qubit = 1\n",
        "qc.cx(control_qubit, target_qubit)"
      ]
    },
    {
      "cell_type": "code",
      "execution_count": null,
      "metadata": {
        "colab": {
          "background_save": true
        },
        "id": "C0u8xZE8TuQd"
      },
      "outputs": [],
      "source": [
        "qc.measure([0, 1], [0, 1])"
      ]
    },
    {
      "cell_type": "code",
      "execution_count": null,
      "metadata": {
        "colab": {
          "background_save": true
        },
        "id": "-xs67GMGUhPU"
      },
      "outputs": [],
      "source": [
        "qc.draw('mpl')"
      ]
    },
    {
      "cell_type": "code",
      "execution_count": null,
      "metadata": {
        "colab": {
          "background_save": true
        },
        "id": "ls2x3sF-UlcP"
      },
      "outputs": [],
      "source": [
        "simulator = Aer.get_backend('qasm_simulator')\n",
        "result = execute(qc, simulator).result()\n",
        "\n",
        "counts = result.get_counts(qc)"
      ]
    },
    {
      "cell_type": "code",
      "execution_count": null,
      "metadata": {
        "colab": {
          "background_save": true
        },
        "id": "p6ErHdMXU1Bj"
      },
      "outputs": [],
      "source": [
        "plot_histogram(counts)"
      ]
    },
    {
      "cell_type": "markdown",
      "source": [
        "## The Y-gate"
      ],
      "metadata": {
        "id": "aCuZIaXIzHzx"
      }
    },
    {
      "cell_type": "markdown",
      "source": [
        "Let us see what the Y-gate will do when the initial state is |1>.\n",
        "\n",
        "We do this by firstly applying the X-gate."
      ],
      "metadata": {
        "id": "SBQmB4bC1yMD"
      }
    },
    {
      "cell_type": "code",
      "source": [
        "from qiskit import QuantumCircuit, Aer, execute\n",
        "from qiskit.visualization import plot_histogram, visualize_transition\n",
        "qc6 = QuantumCircuit(1)\n",
        "qc6.x(0)"
      ],
      "metadata": {
        "id": "h1Ge5fOzzNlI"
      },
      "execution_count": null,
      "outputs": []
    },
    {
      "cell_type": "markdown",
      "source": [
        "Now, let us apply the Y-gate.\n",
        "\n",
        "Then we will visualise this through a Bloch sphere."
      ],
      "metadata": {
        "id": "DCMPPpy92Gms"
      }
    },
    {
      "cell_type": "code",
      "source": [
        "qc6.y(0)\n",
        "visualize_transition(qc6)\n"
      ],
      "metadata": {
        "id": "gez-Zmvu2GMB"
      },
      "execution_count": null,
      "outputs": []
    },
    {
      "cell_type": "markdown",
      "source": [
        "We see through this Bloch sphere that the state has changed from |1> to i|0>. This is due to the fact that the Y-gate takes us on a spin through the quantum realm, and rotates the qubit by 180 degrees or π. This occurs for a qubit in an initial state of |0> as well; it would rotate to be in state i|1>."
      ],
      "metadata": {
        "id": "wgG1NTU14yKv"
      }
    },
    {
      "cell_type": "markdown",
      "source": [
        "## The Z-gate"
      ],
      "metadata": {
        "id": "xGeAHpwU5ZRm"
      }
    },
    {
      "cell_type": "markdown",
      "source": [
        "Let us experiment with this gate two different times.\n",
        "\n",
        "The first time, let the qubit be in an initial state of |0>."
      ],
      "metadata": {
        "id": "iLdpPJrG5dQ8"
      }
    },
    {
      "cell_type": "code",
      "source": [
        "from qiskit import QuantumCircuit\n",
        "from qiskit.visualization import visualize_transition\n",
        "qc7 = QuantumCircuit(1)\n",
        "qc7.z(0)\n",
        "visualize_transition(qc7)"
      ],
      "metadata": {
        "id": "lJvxTaoF6n1N"
      },
      "execution_count": null,
      "outputs": []
    },
    {
      "cell_type": "markdown",
      "source": [
        "As shown from the Bloch sphere, the arrow of the Bloch sphere has not shifted or chnaged in the slightest. This is because if the X-gate is applied on a qubit in an initial state of |0>, it will leave the qubit unchanged."
      ],
      "metadata": {
        "id": "hzuo96fQ7HgB"
      }
    },
    {
      "cell_type": "markdown",
      "source": [
        "Now, let us make it so the initial state is |1>."
      ],
      "metadata": {
        "id": "rgRBFR4A7Vg6"
      }
    },
    {
      "cell_type": "code",
      "source": [
        "from qiskit import QuantumCircuit\n",
        "from qiskit.visualization import visualize_transition\n",
        "qc8 = QuantumCircuit(1)\n",
        "qc8.z(0)\n",
        "qc8.x(0)\n",
        "visualize_transition(qc8)"
      ],
      "metadata": {
        "id": "NyLvRHu27cE9"
      },
      "execution_count": null,
      "outputs": []
    },
    {
      "cell_type": "markdown",
      "source": [
        "The arrow has moved this time around due to the fcat that the Z-gate adds a phase onto the |1> state, making it -|1>."
      ],
      "metadata": {
        "id": "V-VQPllU9Jej"
      }
    },
    {
      "cell_type": "markdown",
      "metadata": {
        "id": "ctTg7Is3jRmH"
      },
      "source": [
        "## Experimentation with quantum logic gates."
      ]
    },
    {
      "cell_type": "markdown",
      "metadata": {
        "id": "pQ6BO0AuvW_E"
      },
      "source": [
        "Task: Experiment with different gate combinations"
      ]
    },
    {
      "cell_type": "markdown",
      "metadata": {
        "id": "JzuWqTXxvghB"
      },
      "source": [
        "1) Let's start with CNOT-Gate\n",
        "\n",
        "2) Let's try then applying H-Gate"
      ]
    },
    {
      "cell_type": "code",
      "execution_count": null,
      "metadata": {
        "colab": {
          "background_save": true
        },
        "id": "K2PVJ40LvSkG"
      },
      "outputs": [],
      "source": [
        "from qiskit import QuantumCircuit, Aer, execute\n",
        "from qiskit.visualization import plot_histogram\n",
        "\n",
        "qc = QuantumCircuit(2,2)\n",
        "control_qubit = 0\n",
        "target_qubit = 1\n",
        "qc.h(0)\n",
        "qc.cx(control_qubit, target_qubit)\n",
        "qc.measure([0, 1], [0, 1])\n",
        "simulator = Aer.get_backend('qasm_simulator')\n",
        "result = execute(qc, simulator).result()\n",
        "counts = result.get_counts(qc)\n",
        "plot_histogram(counts)\n",
        "\n",
        "\n"
      ]
    },
    {
      "cell_type": "markdown",
      "metadata": {
        "id": "AINEITnqYtWV"
      },
      "source": [
        "We see that the output is in a superposition of 0 and 1. This is due to the nature that since the control qubit is in the state |0> therefore the target qubit does not change (CNOT-gate) and the superposition is caused by the H-gate.\n",
        "(H-gate transforms |0⟩ to\n",
        "−1/2\n",
        " (∣0⟩+∣1⟩))"
      ]
    },
    {
      "cell_type": "markdown",
      "metadata": {
        "id": "OAalb1iRWnDf"
      },
      "source": [
        "Let's do another experiment.\n",
        "\n",
        "1) Apply Y-gate\n",
        "\n",
        "2) Apply CNOT-gate"
      ]
    },
    {
      "cell_type": "code",
      "execution_count": null,
      "metadata": {
        "colab": {
          "background_save": true
        },
        "id": "iko9vg0QXch1"
      },
      "outputs": [],
      "source": [
        "from qiskit import QuantumCircuit, Aer, execute\n",
        "from qiskit.visualization import plot_histogram\n",
        "qc1 = QuantumCircuit(2,2)\n",
        "qc1.y(0)\n",
        "control_qubit = 0\n",
        "target_qubit = 1\n",
        "qc1.cx(control_qubit, target_qubit)\n",
        "qc1.measure([0, 1], [0, 1])\n",
        "simulator = Aer.get_backend('qasm_simulator')\n",
        "result = execute(qc1, simulator).result()\n",
        "counts = result.get_counts(qc1)\n",
        "plot_histogram(counts)"
      ]
    },
    {
      "cell_type": "markdown",
      "metadata": {
        "id": "QVU66RiScJEH"
      },
      "source": [
        "The qubit is a state of |1>.\n",
        "\n",
        "Why is this the case?\n",
        "\n",
        "The Y-gate provides a rotation of π, thus, since the initial state is |0>, after applying Y-gate, the state is |1>.\n",
        "\n",
        "The CNOT gate flips the state of the target qubit (qubit 1) if the control qubit (qubit 0) is in the state |1>.\n",
        "\n",
        "\n",
        "After applying the Y gate, qubit 0 is in the state |1> so the CNOT gate will flip qubit 1 from |0> to |1>."
      ]
    },
    {
      "cell_type": "markdown",
      "metadata": {
        "id": "bzLtF26ZjSvJ"
      },
      "source": [
        "Let's try another experiment.\n",
        "\n",
        "1) Apply Z-gate\n",
        "\n",
        "2) Apply Y-gate\n",
        "\n",
        "3) Apply CNOT-gate"
      ]
    },
    {
      "cell_type": "code",
      "execution_count": null,
      "metadata": {
        "colab": {
          "background_save": true
        },
        "id": "48YhqipdjjaP"
      },
      "outputs": [],
      "source": [
        "from qiskit import QuantumCircuit, Aer, execute\n",
        "from qiskit.visualization import plot_histogram\n",
        "qc2 = QuantumCircuit(2,2)\n",
        "qc2.z(0)\n",
        "qc2.y(0)\n",
        "control_qubit = 0\n",
        "target_qubit = 1\n",
        "qc2.cx(control_qubit, target_qubit)\n",
        "qc2.measure([0, 1], [0, 1])\n",
        "simulator = Aer.get_backend('qasm_simulator')\n",
        "result = execute(qc2, simulator).result()\n",
        "counts = result.get_counts(qc2)\n",
        "plot_histogram(counts)"
      ]
    },
    {
      "cell_type": "markdown",
      "metadata": {
        "id": "9UORGhMbkSfh"
      },
      "source": [
        "Why did this output occur?\n",
        "\n",
        "The Z gate flips the phase of the qubit state\n",
        "∣1⟩, making it\n",
        "−∣1⟩.\n",
        "\n",
        "The Y gate performs a bit flip and a phase flip on the qubit state.\n",
        "\n",
        "Resulting in the state\n",
        "i∣10⟩\n",
        "\n",
        "The CNOT gate flips qubit 1 if qubit 0 is\n",
        "∣1⟩. Since qubit 0 is\n",
        "∣1⟩, qubit 1 is flipped from\n",
        "∣0⟩ to\n",
        "∣1⟩. The state becomes\n",
        "i∣11⟩.\n",
        "\n",
        "The state\n",
        "i∣11⟩ is measured, and the imaginary unit\n",
        "i does not affect the measurement probabilities.\n",
        "\n",
        "Therefore, outcome will always be in the state |11⟩."
      ]
    },
    {
      "cell_type": "markdown",
      "metadata": {
        "id": "pXt05A7WlxXs"
      },
      "source": [
        "Let's try another experiment but instead applying X-gate to change the initial state of |0⟩ to |1⟩.\n",
        "\n",
        "1) Apply X-gate\n",
        "\n",
        "2) Apply Y-gate\n",
        "\n",
        "3) Apply CNOT-gate"
      ]
    },
    {
      "cell_type": "code",
      "execution_count": null,
      "metadata": {
        "colab": {
          "background_save": true
        },
        "id": "rhSUO58UoDM6"
      },
      "outputs": [],
      "source": [
        "from qiskit import QuantumCircuit, Aer, execute\n",
        "from qiskit.visualization import visualize_transition\n",
        "qc3 = QuantumCircuit(2, 2)\n",
        "qc3.x(0)\n",
        "qc3.y(0)\n",
        "control_qubit = 0\n",
        "target_qubit = 1\n",
        "qc3.cx(control_qubit, target_qubit)\n",
        "qc3.measure([0, 1], [0, 1])\n",
        "simulator = Aer.get_backend('qasm_simulator')\n",
        "result = execute(qc3, simulator).result()\n",
        "counts = result.get_counts(qc3)\n",
        "plot_histogram(counts)"
      ]
    },
    {
      "cell_type": "markdown",
      "metadata": {
        "id": "johcnsvmqNXe"
      },
      "source": [
        "X-gate flips its state from\n",
        "∣0⟩ to\n",
        "∣1⟩.\n",
        "\n",
        "Since qubit 0 is already in state\n",
        "∣1⟩, the Y gate will change its state to\n",
        "−𝑖∣0⟩.\n",
        "\n",
        "Since qubit 0 is\n",
        "∣0⟩, qubit 1 remains in state\n",
        "∣0⟩.\n",
        "\n",
        "Therefore output is in the state |0⟩."
      ]
    },
    {
      "cell_type": "markdown",
      "metadata": {
        "id": "IqNo69K8sGng"
      },
      "source": [
        "ANOTHER experiment. LET'S GO!!!\n",
        "\n",
        "1) Apply Y-gate\n",
        "\n",
        "2) Apply X-gate\n",
        "\n",
        "3) Apply Z-gate\n",
        "\n",
        "3) Apply H-gate"
      ]
    },
    {
      "cell_type": "code",
      "execution_count": null,
      "metadata": {
        "colab": {
          "background_save": true
        },
        "id": "8IEEn8YmtKan"
      },
      "outputs": [],
      "source": [
        "from qiskit import QuantumCircuit, Aer, execute\n",
        "from qiskit.visualization import visualize_transition\n",
        "qc4 = QuantumCircuit(1, 1)\n",
        "qc4.y(0)\n",
        "qc4.x(0)\n",
        "qc4.z(0)\n",
        "qc4.h(0)\n",
        "qc4.measure(0, 0)\n",
        "simulator = Aer.get_backend('qasm_simulator')\n",
        "result = execute(qc4, simulator, shots=1024).result()\n",
        "counts = result.get_counts(qc4)\n",
        "plot_histogram(counts)"
      ]
    },
    {
      "cell_type": "markdown",
      "metadata": {
        "id": "0_COwNgGxBrb"
      },
      "source": [
        "Y-gate transforms |0⟩ to i|1⟩\n",
        "\n",
        "The X-gate then transforms i|1⟩ to i|0⟩\n",
        "\n",
        "The Z-gate then transforms i|0⟩ to -i|0⟩\n",
        "\n",
        "H-gate then Transforms -i|0⟩ to\n",
        "−i/2\n",
        " (∣0⟩+∣1⟩)\n",
        "\n",
        "Hadamard gate creates a superposition state, and the measurement probabilities of |0⟩ and |1⟩ are both 1/2."
      ]
    },
    {
      "cell_type": "markdown",
      "metadata": {
        "id": "NeUeGUL8-vUE"
      },
      "source": [
        "# References\n",
        "\n",
        "- [QHSO](https://github.com/ahkatlio/QHSO_Basics_of_Qiskit)\n",
        "- [IBM Qiskit](https://www.ibm.com/quantum/qiskit)"
      ]
    }
  ],
  "metadata": {
    "colab": {
      "provenance": [],
      "toc_visible": true
    },
    "kernelspec": {
      "display_name": "Python 3",
      "name": "python3"
    },
    "language_info": {
      "name": "python"
    }
  },
  "nbformat": 4,
  "nbformat_minor": 0
}